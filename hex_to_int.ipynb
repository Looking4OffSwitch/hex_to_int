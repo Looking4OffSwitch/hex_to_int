{
 "cells": [
  {
   "cell_type": "markdown",
   "metadata": {},
   "source": [
    "# Use a DNN to learn the mapping between a hex string and a digit string\n",
    "\n",
    "The goal is to use a Keras Sequential model to learn the mapping between a hex string (e.g. \"dbb9f\") and digit string (e.g. \"899999\"). The digit string represents the base numerical 10 value of the hex string."
   ]
  },
  {
   "cell_type": "code",
   "execution_count": 1,
   "metadata": {
    "ExecuteTime": {
     "end_time": "2017-08-30T21:16:08.587867Z",
     "start_time": "2017-08-30T21:16:05.537099Z"
    }
   },
   "outputs": [
    {
     "name": "stderr",
     "output_type": "stream",
     "text": [
      "Using TensorFlow backend.\n"
     ]
    }
   ],
   "source": [
    "import os\n",
    "import keras\n",
    "from keras import models\n",
    "from keras import layers\n",
    "import numpy as np\n",
    "import pandas as pd\n",
    "\n",
    "import tensorflow as tf\n",
    "from keras.layers import Input, Dense, Reshape, Flatten\n",
    "from keras.activations import selu\n",
    "from keras.models import Sequential\n",
    "import numpy as np\n"
   ]
  },
  {
   "cell_type": "markdown",
   "metadata": {},
   "source": [
    "## Data and Methods for One Hot Encoding"
   ]
  },
  {
   "cell_type": "code",
   "execution_count": 2,
   "metadata": {
    "ExecuteTime": {
     "end_time": "2017-08-30T21:16:08.630504Z",
     "start_time": "2017-08-30T21:16:08.589567Z"
    },
    "collapsed": true
   },
   "outputs": [],
   "source": [
    "digits = \"0123456789\"\n",
    "hex_digits = digits + \"abcdef\"\n",
    "\n",
    "digits_char_to_int = dict((c, i) for i, c in enumerate(digits))\n",
    "digits_int_to_char = dict((i, c) for i, c in enumerate(digits))\n",
    "\n",
    "hex_char_to_int = dict((c, i) for i, c in enumerate(hex_digits))\n",
    "hex_int_to_char = dict((i, c) for i, c in enumerate(hex_digits))\n",
    "\n",
    "# Encoding\n",
    "\n",
    "def one_hot_encode_hex_string(str):\n",
    "    int_encoded = [hex_char_to_int[c] for c in str]\n",
    "    return keras.utils.to_categorical(int_encoded, num_classes=len(hex_digits))\n",
    "\n",
    "def one_hot_encode_digits_string(str):\n",
    "    int_encoded = [digits_char_to_int[c] for c in str]\n",
    "    return keras.utils.to_categorical(int_encoded, num_classes=len(digits))\n",
    "\n",
    "# Decoding\n",
    "\n",
    "def one_hot_decode_hex_to_str(arr):\n",
    "    s = \"\"\n",
    "    for row in arr:\n",
    "        s += hex_int_to_char[np.argmax(row)]\n",
    "    return s   \n",
    "\n",
    "def one_hot_decode_digits_to_str(arr):\n",
    "    s = \"\"\n",
    "    for row in arr:\n",
    "        s += digits_int_to_char[np.argmax(row)]\n",
    "    return s   "
   ]
  },
  {
   "cell_type": "markdown",
   "metadata": {
    "ExecuteTime": {
     "end_time": "2017-08-30T19:27:20.958431Z",
     "start_time": "2017-08-30T19:27:20.933929Z"
    }
   },
   "source": [
    "## Example hex string\n",
    "#### Model Input"
   ]
  },
  {
   "cell_type": "code",
   "execution_count": 3,
   "metadata": {
    "ExecuteTime": {
     "end_time": "2017-08-30T21:16:08.640953Z",
     "start_time": "2017-08-30T21:16:08.632589Z"
    }
   },
   "outputs": [
    {
     "name": "stdout",
     "output_type": "stream",
     "text": [
      "[[ 0.  1.  0.  0.  0.  0.  0.  0.  0.  0.  0.  0.  0.  0.  0.  0.]\n",
      " [ 0.  0.  0.  0.  0.  0.  0.  0.  1.  0.  0.  0.  0.  0.  0.  0.]\n",
      " [ 0.  0.  0.  0.  0.  0.  1.  0.  0.  0.  0.  0.  0.  0.  0.  0.]\n",
      " [ 0.  0.  0.  0.  0.  0.  0.  0.  0.  0.  1.  0.  0.  0.  0.  0.]\n",
      " [ 0.  0.  1.  0.  0.  0.  0.  0.  0.  0.  0.  0.  0.  0.  0.  0.]]\n",
      "(5, 16)\n",
      "186a2\n"
     ]
    }
   ],
   "source": [
    "# A input/hex string is *always* 5 characters\n",
    "# Range: \"186a0\" - \"dbb9f\"\n",
    "\n",
    "hex_str = \"186a2\"\n",
    "\n",
    "one_hot_encoded = one_hot_encode_hex_string(hex_str)\n",
    "print(one_hot_encoded)\n",
    "print(one_hot_encoded.shape)\n",
    "original_string = one_hot_decode_hex_to_str(one_hot_encoded)\n",
    "print(original_string)"
   ]
  },
  {
   "cell_type": "markdown",
   "metadata": {},
   "source": [
    "## Example digit string\n",
    "#### Training label"
   ]
  },
  {
   "cell_type": "code",
   "execution_count": 4,
   "metadata": {
    "ExecuteTime": {
     "end_time": "2017-08-30T21:16:08.649999Z",
     "start_time": "2017-08-30T21:16:08.642860Z"
    }
   },
   "outputs": [
    {
     "name": "stdout",
     "output_type": "stream",
     "text": [
      "[[ 0.  1.  0.  0.  0.  0.  0.  0.  0.  0.]\n",
      " [ 1.  0.  0.  0.  0.  0.  0.  0.  0.  0.]\n",
      " [ 1.  0.  0.  0.  0.  0.  0.  0.  0.  0.]\n",
      " [ 1.  0.  0.  0.  0.  0.  0.  0.  0.  0.]\n",
      " [ 1.  0.  0.  0.  0.  0.  0.  0.  0.  0.]\n",
      " [ 0.  0.  1.  0.  0.  0.  0.  0.  0.  0.]]\n",
      "(6, 10)\n",
      "100002\n"
     ]
    }
   ],
   "source": [
    "# A label/digit string is *always* 6 characters\n",
    "# Range: \"100000\" - \"899999\"\n",
    "\n",
    "digit_str = \"100002\"\n",
    "\n",
    "one_hot_encoded = one_hot_encode_digits_string(digit_str)\n",
    "print(one_hot_encoded)\n",
    "print(one_hot_encoded.shape)\n",
    "original_string = one_hot_decode_digits_to_str(one_hot_encoded)\n",
    "print(original_string)"
   ]
  },
  {
   "cell_type": "markdown",
   "metadata": {},
   "source": [
    "## Create Data"
   ]
  },
  {
   "cell_type": "code",
   "execution_count": 6,
   "metadata": {
    "ExecuteTime": {
     "end_time": "2017-08-30T21:16:09.519148Z",
     "start_time": "2017-08-30T21:16:08.651524Z"
    },
    "collapsed": true
   },
   "outputs": [],
   "source": [
    "def create_csv(fname, start_num, count):\n",
    "    \"\"\"\n",
    "    Create a csv named fname containing n count.\n",
    "    Each row will contain:\n",
    "        * number (starting at start_num)\n",
    "            * incremented by 1 each row\n",
    "        * the hex value of the string version of number\n",
    "    \"\"\"\n",
    "    with open(fname, \"w+\") as f:\n",
    "        result_str = \"\"\n",
    "\n",
    "        end_num = start_num + count\n",
    "        i = start_num\n",
    "\n",
    "        while i < end_num:\n",
    "            s = str(i)\n",
    "            hex_str = hex(i)[2:] # drop the leading \"0x\"\n",
    "\n",
    "            result_str += \"{},{}\\n\".format(s, hex_str)\n",
    "            i += 1\n",
    "\n",
    "        f.write(\"string,hex\\n\")\n",
    "        f.write(result_str)\n",
    "        \n",
    "data_filename = 'data.csv'        \n",
    "\n",
    "# Create it if it doesn't already exist\n",
    "if not os.path.isfile(data_filename):\n",
    "    # from 100_000 (0x186a0) to 899_999 (0xdbb9f)\n",
    "    create_csv(data_filename, 100000, 800000)"
   ]
  },
  {
   "cell_type": "markdown",
   "metadata": {},
   "source": [
    "## Load data"
   ]
  },
  {
   "cell_type": "code",
   "execution_count": 7,
   "metadata": {
    "ExecuteTime": {
     "end_time": "2017-08-30T21:16:10.130403Z",
     "start_time": "2017-08-30T21:16:09.521039Z"
    }
   },
   "outputs": [
    {
     "data": {
      "text/html": [
       "<div>\n",
       "<style>\n",
       "    .dataframe thead tr:only-child th {\n",
       "        text-align: right;\n",
       "    }\n",
       "\n",
       "    .dataframe thead th {\n",
       "        text-align: left;\n",
       "    }\n",
       "\n",
       "    .dataframe tbody tr th {\n",
       "        vertical-align: top;\n",
       "    }\n",
       "</style>\n",
       "<table border=\"1\" class=\"dataframe\">\n",
       "  <thead>\n",
       "    <tr style=\"text-align: right;\">\n",
       "      <th></th>\n",
       "      <th>string</th>\n",
       "      <th>hex</th>\n",
       "    </tr>\n",
       "  </thead>\n",
       "  <tbody>\n",
       "    <tr>\n",
       "      <th>0</th>\n",
       "      <td>560510</td>\n",
       "      <td>88d7e</td>\n",
       "    </tr>\n",
       "    <tr>\n",
       "      <th>1</th>\n",
       "      <td>516793</td>\n",
       "      <td>7e2b9</td>\n",
       "    </tr>\n",
       "    <tr>\n",
       "      <th>2</th>\n",
       "      <td>753922</td>\n",
       "      <td>b8102</td>\n",
       "    </tr>\n",
       "    <tr>\n",
       "      <th>3</th>\n",
       "      <td>136933</td>\n",
       "      <td>216e5</td>\n",
       "    </tr>\n",
       "    <tr>\n",
       "      <th>4</th>\n",
       "      <td>325765</td>\n",
       "      <td>4f885</td>\n",
       "    </tr>\n",
       "  </tbody>\n",
       "</table>\n",
       "</div>"
      ],
      "text/plain": [
       "   string    hex\n",
       "0  560510  88d7e\n",
       "1  516793  7e2b9\n",
       "2  753922  b8102\n",
       "3  136933  216e5\n",
       "4  325765  4f885"
      ]
     },
     "execution_count": 7,
     "metadata": {},
     "output_type": "execute_result"
    }
   ],
   "source": [
    "df = pd.read_csv(data_filename, dtype={'string': str, 'hex': str})\n",
    "\n",
    "# Used to test with less data\n",
    "use_full_dataset = True\n",
    "\n",
    "if not use_full_dataset:\n",
    "    df = df[0:5]\n",
    "\n",
    "# randomize rows when using the full dataset\n",
    "if use_full_dataset:\n",
    "    df = df.sample(frac=1).reset_index(drop=True)\n",
    "    df.set_index('string')\n",
    "\n",
    "df.head()"
   ]
  },
  {
   "cell_type": "markdown",
   "metadata": {
    "ExecuteTime": {
     "end_time": "2017-08-30T19:47:33.088284Z",
     "start_time": "2017-08-30T19:47:33.086195Z"
    }
   },
   "source": [
    "## One hot encode all hex and label strings"
   ]
  },
  {
   "cell_type": "code",
   "execution_count": 9,
   "metadata": {
    "ExecuteTime": {
     "end_time": "2017-08-30T21:16:10.144767Z",
     "start_time": "2017-08-30T21:16:10.131959Z"
    }
   },
   "outputs": [
    {
     "name": "stdout",
     "output_type": "stream",
     "text": [
      "(800000, 6, 10)\n",
      "(800000, 5, 16)\n"
     ]
    }
   ],
   "source": [
    "all_labels_encoded = []\n",
    "all_hexes_encoded   = []\n",
    "\n",
    "for row in df.itertuples():\n",
    "    label_string = row[1] # row['string']\n",
    "    hex_str      = row[2] # row['hex']\n",
    "\n",
    "    label_encoded = one_hot_encode_digits_string(label_string)\n",
    "    hex_encoded   = one_hot_encode_hex_string(hex_str)\n",
    "\n",
    "    all_labels_encoded.append(label_encoded)\n",
    "    all_hexes_encoded.append(hex_encoded)\n",
    "\n",
    "all_labels_encoded = np.asarray(all_labels_encoded)\n",
    "all_hexes_encoded  = np.asarray(all_hexes_encoded)\n",
    "\n",
    "print(all_labels_encoded.shape)\n",
    "print(all_hexes_encoded.shape)"
   ]
  },
  {
   "cell_type": "markdown",
   "metadata": {
    "ExecuteTime": {
     "end_time": "2017-08-30T19:48:23.316727Z",
     "start_time": "2017-08-30T19:48:23.314334Z"
    }
   },
   "source": [
    "## Verify that encoding decoding works"
   ]
  },
  {
   "cell_type": "code",
   "execution_count": 11,
   "metadata": {
    "ExecuteTime": {
     "end_time": "2017-08-30T21:16:10.151748Z",
     "start_time": "2017-08-30T21:16:10.146299Z"
    }
   },
   "outputs": [
    {
     "name": "stdout",
     "output_type": "stream",
     "text": [
      "560510 -> 88d7e\n",
      "516793 -> 7e2b9\n",
      "753922 -> b8102\n",
      "136933 -> 216e5\n",
      "325765 -> 4f885\n"
     ]
    }
   ],
   "source": [
    "for i in range(5):\n",
    "    print(one_hot_decode_digits_to_str(all_labels_encoded[i]), \n",
    "          \"->\", \n",
    "          one_hot_decode_hex_to_str(all_hexes_encoded[i]))"
   ]
  },
  {
   "cell_type": "markdown",
   "metadata": {},
   "source": [
    "## Split encoded arrays into training, validation, and test sets"
   ]
  },
  {
   "cell_type": "code",
   "execution_count": 12,
   "metadata": {
    "ExecuteTime": {
     "end_time": "2017-08-30T21:16:10.178956Z",
     "start_time": "2017-08-30T21:16:10.152988Z"
    }
   },
   "outputs": [
    {
     "name": "stdout",
     "output_type": "stream",
     "text": [
      "Total expected  : 800000\n",
      "Total calculated: 800000\n",
      "Training examples: 560000\n",
      "Validation examples: 120000\n",
      "Test examples 120000\n"
     ]
    }
   ],
   "source": [
    "if use_full_dataset:\n",
    "    example_cnt = len(df)\n",
    "    n_training_examples   = int(example_cnt * 0.7)\n",
    "    n_validation_examples = int(example_cnt * 0.15)\n",
    "    n_test_examples       = int(example_cnt * 0.15)\n",
    "else:\n",
    "    n_training_examples   = 3\n",
    "    n_validation_examples = 1\n",
    "    n_test_examples       = 1\n",
    "\n",
    "print(\"Total expected  :\", len(df))\n",
    "print(\"Total calculated:\", n_training_examples + n_validation_examples + n_test_examples)\n",
    "\n",
    "x_train = all_hexes_encoded[:n_training_examples]\n",
    "y_train = all_labels_encoded[:n_training_examples]\n",
    "print(\"Training examples:\", len(x_train))\n",
    "\n",
    "x_validation = all_hexes_encoded[n_training_examples  : n_training_examples + n_validation_examples]\n",
    "y_validation = all_labels_encoded[n_training_examples : n_training_examples + n_validation_examples]\n",
    "print(\"Validation examples:\", len(x_validation))\n",
    "\n",
    "x_test = all_hexes_encoded[len(all_hexes_encoded) - n_test_examples:]\n",
    "y_test = all_labels_encoded[len(all_labels_encoded) - n_test_examples:]\n",
    "print(\"Test examples\", len(x_test))"
   ]
  },
  {
   "cell_type": "markdown",
   "metadata": {},
   "source": [
    "## Shape of training and label data"
   ]
  },
  {
   "cell_type": "code",
   "execution_count": 13,
   "metadata": {
    "ExecuteTime": {
     "end_time": "2017-08-30T21:16:10.185869Z",
     "start_time": "2017-08-30T21:16:10.180818Z"
    }
   },
   "outputs": [
    {
     "name": "stdout",
     "output_type": "stream",
     "text": [
      "x_train.shape: (560000, 5, 16)\n",
      "y_train.shape: (560000, 6, 10)\n"
     ]
    }
   ],
   "source": [
    "print(\"x_train.shape:\", x_train.shape)\n",
    "print(\"y_train.shape:\", y_train.shape)"
   ]
  },
  {
   "cell_type": "markdown",
   "metadata": {},
   "source": [
    "## Verify our dimensions match our expectations"
   ]
  },
  {
   "cell_type": "code",
   "execution_count": 14,
   "metadata": {
    "ExecuteTime": {
     "end_time": "2017-08-30T21:16:10.201200Z",
     "start_time": "2017-08-30T21:16:10.187691Z"
    }
   },
   "outputs": [
    {
     "name": "stdout",
     "output_type": "stream",
     "text": [
      "Training dimensions match: True\n",
      "Label dimensions match: True\n"
     ]
    }
   ],
   "source": [
    "#\n",
    "# Dimensions of the input matrix: one hot encoded hex string (.e.g \"186a2\")\n",
    "#\n",
    "\n",
    "# fixed length (in chars) of a hex string\n",
    "hex_n = len(one_hot_decode_hex_to_str(all_hexes_encoded[0]))\n",
    "\n",
    "# number of symbols in the \"alphabet\" of a hex string\n",
    "hex_k = len(hex_digits)\n",
    "\n",
    "print(\"Training dimensions match:\", x_train.shape[1:3] == (hex_n, hex_k))\n",
    "\n",
    "#\n",
    "# Dimensions of the label matrix: one hot encoded digits string (.e.g \"100002\")\n",
    "#\n",
    "\n",
    "# fixed length (in chars) of a hex string\n",
    "label_n = len(one_hot_decode_digits_to_str(all_labels_encoded[0]))\n",
    "\n",
    "# number of symbols in the \"alphabet\" of a digits string\n",
    "label_k = len(digits)\n",
    "\n",
    "print(\"Label dimensions match:\", y_train.shape[1:3] == (label_n, label_k))"
   ]
  },
  {
   "cell_type": "markdown",
   "metadata": {},
   "source": [
    "# Build and compile model\n",
    "\n",
    "### Questions\n",
    "* How do we determine the correct number of nodes in the initial layer?\n",
    "* The shape of the input data is `(5, 16)` and the shape of our labels is `(6, 10)`. How do we define a model that can convert between these differing dimensions?\n",
    "* Do we have to create our own [loss function implementation](https://stackoverflow.com/questions/43576922/keras-custom-metric-iteration) to make this work?"
   ]
  },
  {
   "cell_type": "code",
   "execution_count": 30,
   "metadata": {
    "ExecuteTime": {
     "end_time": "2017-08-30T21:16:10.222200Z",
     "start_time": "2017-08-30T21:16:10.203035Z"
    }
   },
   "outputs": [],
   "source": [
    "n = 5 #input size\n",
    "m = 6 #output size\n",
    "l = 16 #input alphabet size\n",
    "k = 10 #output alpahbet size\n",
    "bs = 512 #batch size\n",
    "\n",
    "\n",
    "model = Sequential()\n",
    "model.add(Flatten(input_shape = (n,l)))\n",
    "model.add(Dense(128, activation = selu))\n",
    "model.add(Dense(128, activation = selu))\n",
    "model.add(Dense(128, activation = selu))\n",
    "model.add(Dense(128, activation = selu))\n",
    "model.add(Dense(128, activation = selu))\n",
    "model.add(Dense(128, activation = selu))\n",
    "model.add(Dense(m * k, activation=None))\n",
    "model.add(Reshape((m, k)))\n",
    "\n",
    "def batch_accuracy(truth, pred):\n",
    "    truth_decoded = tf.argmax(truth, axis = 2)\n",
    "    pred_decoded = tf.argmax(pred, axis = 2)\n",
    "    correct = tf.cast(tf.equal(truth_decoded, pred_decoded), tf.float32)\n",
    "    #correct is bs x m\n",
    "    accuracy = tf.reduce_sum(correct, axis = 1)/float(m)\n",
    "    return accuracy\n",
    "\n",
    "def batch_crossentropy(truth, pred):\n",
    "    batch_size = tf.shape(truth)[0]\n",
    "    #input shapes are BxMxK where B is batchsize\n",
    "    #reshape so that every row is a separate probability distribution\n",
    "    truth = tf.reshape(truth, (-1, k))\n",
    "    pred = tf.reshape(pred, (-1, k))\n",
    "    ce = tf.nn.softmax_cross_entropy_with_logits(labels = truth, logits = pred)\n",
    "    #crossentropy is now bs * m, and we want it reshaped to bs x m\n",
    "    ce = tf.reshape(ce, (batch_size,-1))\n",
    "    loss = tf.reduce_sum(ce, axis = 1)\n",
    "    return loss\n",
    "\n",
    "model.compile(optimizer='rmsprop', \n",
    "              loss=batch_crossentropy,\n",
    "              metrics = [batch_accuracy])\n"
   ]
  },
  {
   "cell_type": "markdown",
   "metadata": {},
   "source": [
    "## Train"
   ]
  },
  {
   "cell_type": "code",
   "execution_count": 31,
   "metadata": {
    "ExecuteTime": {
     "end_time": "2017-08-30T21:16:10.227412Z",
     "start_time": "2017-08-30T21:16:10.223969Z"
    }
   },
   "outputs": [
    {
     "name": "stdout",
     "output_type": "stream",
     "text": [
      "Train on 560000 samples, validate on 120000 samples\n",
      "Epoch 1/100\n",
      "560000/560000 [==============================] - 5s - loss: 7.8639 - batch_accuracy: 0.4738 - val_loss: 6.7099 - val_batch_accuracy: 0.5430\n",
      "Epoch 2/100\n",
      "560000/560000 [==============================] - 5s - loss: 5.9899 - batch_accuracy: 0.5883 - val_loss: 5.1754 - val_batch_accuracy: 0.6331\n",
      "Epoch 3/100\n",
      "560000/560000 [==============================] - 6s - loss: 4.7082 - batch_accuracy: 0.6667 - val_loss: 4.5591 - val_batch_accuracy: 0.6772\n",
      "Epoch 4/100\n",
      "560000/560000 [==============================] - 6s - loss: 4.4910 - batch_accuracy: 0.6804 - val_loss: 4.6240 - val_batch_accuracy: 0.6699\n",
      "Epoch 5/100\n",
      "560000/560000 [==============================] - 6s - loss: 4.3986 - batch_accuracy: 0.6870 - val_loss: 4.3614 - val_batch_accuracy: 0.6911\n",
      "Epoch 6/100\n",
      "560000/560000 [==============================] - 5s - loss: 4.3423 - batch_accuracy: 0.6907 - val_loss: 4.2879 - val_batch_accuracy: 0.6948\n",
      "Epoch 7/100\n",
      "560000/560000 [==============================] - 5s - loss: 4.3012 - batch_accuracy: 0.6935 - val_loss: 4.2546 - val_batch_accuracy: 0.6958\n",
      "Epoch 8/100\n",
      "560000/560000 [==============================] - 5s - loss: 4.2741 - batch_accuracy: 0.6952 - val_loss: 4.2458 - val_batch_accuracy: 0.6969\n",
      "Epoch 9/100\n",
      "560000/560000 [==============================] - 5s - loss: 4.2508 - batch_accuracy: 0.6967 - val_loss: 4.2281 - val_batch_accuracy: 0.6975\n",
      "Epoch 10/100\n",
      "560000/560000 [==============================] - 5s - loss: 4.2298 - batch_accuracy: 0.6984 - val_loss: 4.1847 - val_batch_accuracy: 0.7011\n",
      "Epoch 11/100\n",
      "560000/560000 [==============================] - 5s - loss: 4.2127 - batch_accuracy: 0.6996 - val_loss: 4.2651 - val_batch_accuracy: 0.6959\n",
      "Epoch 12/100\n",
      "560000/560000 [==============================] - 5s - loss: 4.1967 - batch_accuracy: 0.7005 - val_loss: 4.1708 - val_batch_accuracy: 0.7019\n",
      "Epoch 13/100\n",
      "560000/560000 [==============================] - 5s - loss: 4.1807 - batch_accuracy: 0.7019 - val_loss: 4.1651 - val_batch_accuracy: 0.7030\n",
      "Epoch 14/100\n",
      "560000/560000 [==============================] - 5s - loss: 4.1669 - batch_accuracy: 0.7029 - val_loss: 4.1928 - val_batch_accuracy: 0.7000\n",
      "Epoch 15/100\n",
      "560000/560000 [==============================] - 6s - loss: 4.1517 - batch_accuracy: 0.7044 - val_loss: 4.1417 - val_batch_accuracy: 0.7049\n",
      "Epoch 16/100\n",
      "560000/560000 [==============================] - 6s - loss: 4.1369 - batch_accuracy: 0.7057 - val_loss: 4.2478 - val_batch_accuracy: 0.6992\n",
      "Epoch 17/100\n",
      "560000/560000 [==============================] - 5s - loss: 4.1056 - batch_accuracy: 0.7088 - val_loss: 4.0729 - val_batch_accuracy: 0.7130\n",
      "Epoch 18/100\n",
      "560000/560000 [==============================] - 5s - loss: 3.4098 - batch_accuracy: 0.7492 - val_loss: 2.7816 - val_batch_accuracy: 0.7843\n",
      "Epoch 19/100\n",
      "560000/560000 [==============================] - 5s - loss: 2.4927 - batch_accuracy: 0.8064 - val_loss: 2.4573 - val_batch_accuracy: 0.8069\n",
      "Epoch 20/100\n",
      "560000/560000 [==============================] - 5s - loss: 2.3021 - batch_accuracy: 0.8194 - val_loss: 2.2685 - val_batch_accuracy: 0.8223\n",
      "Epoch 21/100\n",
      "560000/560000 [==============================] - 5s - loss: 2.2047 - batch_accuracy: 0.8270 - val_loss: 2.3613 - val_batch_accuracy: 0.8148\n",
      "Epoch 22/100\n",
      "560000/560000 [==============================] - 5s - loss: 2.1319 - batch_accuracy: 0.8330 - val_loss: 2.0915 - val_batch_accuracy: 0.8340\n",
      "Epoch 23/100\n",
      "560000/560000 [==============================] - 5s - loss: 2.0726 - batch_accuracy: 0.8389 - val_loss: 2.0507 - val_batch_accuracy: 0.8408\n",
      "Epoch 24/100\n",
      "560000/560000 [==============================] - 6s - loss: 2.0033 - batch_accuracy: 0.8470 - val_loss: 2.2988 - val_batch_accuracy: 0.8300\n",
      "Epoch 25/100\n",
      "560000/560000 [==============================] - 6s - loss: 1.8867 - batch_accuracy: 0.8608 - val_loss: 1.5635 - val_batch_accuracy: 0.8903\n",
      "Epoch 26/100\n",
      "560000/560000 [==============================] - 6s - loss: 1.6650 - batch_accuracy: 0.8843 - val_loss: 1.4142 - val_batch_accuracy: 0.9042\n",
      "Epoch 27/100\n",
      "560000/560000 [==============================] - 6s - loss: 1.3518 - batch_accuracy: 0.9117 - val_loss: 0.9378 - val_batch_accuracy: 0.9411\n",
      "Epoch 28/100\n",
      "560000/560000 [==============================] - 5s - loss: 1.1297 - batch_accuracy: 0.9289 - val_loss: 0.8031 - val_batch_accuracy: 0.9541\n",
      "Epoch 29/100\n",
      "560000/560000 [==============================] - 5s - loss: 0.9938 - batch_accuracy: 0.9393 - val_loss: 1.9619 - val_batch_accuracy: 0.8749\n",
      "Epoch 30/100\n",
      "560000/560000 [==============================] - 5s - loss: 0.8837 - batch_accuracy: 0.9481 - val_loss: 1.0387 - val_batch_accuracy: 0.9442\n",
      "Epoch 31/100\n",
      "560000/560000 [==============================] - 5s - loss: 0.8062 - batch_accuracy: 0.9535 - val_loss: 2.1437 - val_batch_accuracy: 0.8659\n",
      "Epoch 32/100\n",
      "560000/560000 [==============================] - 5s - loss: 0.7454 - batch_accuracy: 0.9583 - val_loss: 0.3883 - val_batch_accuracy: 0.9799\n",
      "Epoch 33/100\n",
      "560000/560000 [==============================] - 6s - loss: 0.6961 - batch_accuracy: 0.9617 - val_loss: 0.2956 - val_batch_accuracy: 0.9862\n",
      "Epoch 34/100\n",
      "560000/560000 [==============================] - 6s - loss: 0.6548 - batch_accuracy: 0.9644 - val_loss: 0.2735 - val_batch_accuracy: 0.9864\n",
      "Epoch 35/100\n",
      "560000/560000 [==============================] - 6s - loss: 0.6211 - batch_accuracy: 0.9667 - val_loss: 1.6068 - val_batch_accuracy: 0.8986\n",
      "Epoch 36/100\n",
      "560000/560000 [==============================] - 6s - loss: 0.5935 - batch_accuracy: 0.9684 - val_loss: 0.3214 - val_batch_accuracy: 0.9833\n",
      "Epoch 37/100\n",
      "560000/560000 [==============================] - 5s - loss: 0.5672 - batch_accuracy: 0.9700 - val_loss: 0.2322 - val_batch_accuracy: 0.9888\n",
      "Epoch 38/100\n",
      "560000/560000 [==============================] - 6s - loss: 0.5448 - batch_accuracy: 0.9715 - val_loss: 2.6910 - val_batch_accuracy: 0.8635\n",
      "Epoch 39/100\n",
      "560000/560000 [==============================] - 6s - loss: 0.5224 - batch_accuracy: 0.9729 - val_loss: 0.2762 - val_batch_accuracy: 0.9850\n",
      "Epoch 40/100\n",
      "560000/560000 [==============================] - 5s - loss: 0.5045 - batch_accuracy: 0.9737 - val_loss: 0.2253 - val_batch_accuracy: 0.9884\n",
      "Epoch 41/100\n",
      "560000/560000 [==============================] - 5s - loss: 0.4924 - batch_accuracy: 0.9746 - val_loss: 0.1763 - val_batch_accuracy: 0.9916\n",
      "Epoch 42/100\n",
      "560000/560000 [==============================] - 5s - loss: 0.4740 - batch_accuracy: 0.9759 - val_loss: 0.1870 - val_batch_accuracy: 0.9905\n",
      "Epoch 43/100\n",
      "560000/560000 [==============================] - 5s - loss: 0.4570 - batch_accuracy: 0.9770 - val_loss: 0.1511 - val_batch_accuracy: 0.9932\n",
      "Epoch 44/100\n",
      "560000/560000 [==============================] - 5s - loss: 0.4446 - batch_accuracy: 0.9776 - val_loss: 0.1833 - val_batch_accuracy: 0.9917\n",
      "Epoch 45/100\n",
      "560000/560000 [==============================] - 5s - loss: 0.4258 - batch_accuracy: 0.9785 - val_loss: 0.1764 - val_batch_accuracy: 0.9912\n",
      "Epoch 46/100\n",
      "560000/560000 [==============================] - 5s - loss: 0.4189 - batch_accuracy: 0.9792 - val_loss: 2.7318 - val_batch_accuracy: 0.8694\n",
      "Epoch 47/100\n",
      "560000/560000 [==============================] - 5s - loss: 0.4084 - batch_accuracy: 0.9798 - val_loss: 0.1336 - val_batch_accuracy: 0.9938\n",
      "Epoch 48/100\n",
      "560000/560000 [==============================] - 5s - loss: 0.3934 - batch_accuracy: 0.9807 - val_loss: 0.6618 - val_batch_accuracy: 0.9629\n",
      "Epoch 49/100\n",
      "560000/560000 [==============================] - 5s - loss: 0.3909 - batch_accuracy: 0.9805 - val_loss: 0.1339 - val_batch_accuracy: 0.9938\n",
      "Epoch 50/100\n",
      "560000/560000 [==============================] - 5s - loss: 0.3793 - batch_accuracy: 0.9813 - val_loss: 0.1465 - val_batch_accuracy: 0.9930\n",
      "Epoch 51/100\n",
      "560000/560000 [==============================] - 6s - loss: 0.3640 - batch_accuracy: 0.9820 - val_loss: 2.2728 - val_batch_accuracy: 0.8925\n",
      "Epoch 52/100\n",
      "560000/560000 [==============================] - 5s - loss: 0.3599 - batch_accuracy: 0.9822 - val_loss: 0.1024 - val_batch_accuracy: 0.9961\n",
      "Epoch 53/100\n",
      "560000/560000 [==============================] - 5s - loss: 0.3524 - batch_accuracy: 0.9826 - val_loss: 0.1230 - val_batch_accuracy: 0.9950\n",
      "Epoch 54/100\n"
     ]
    },
    {
     "name": "stdout",
     "output_type": "stream",
     "text": [
      "560000/560000 [==============================] - 5s - loss: 0.3486 - batch_accuracy: 0.9829 - val_loss: 0.1011 - val_batch_accuracy: 0.9957\n",
      "Epoch 55/100\n",
      "560000/560000 [==============================] - 5s - loss: 0.3359 - batch_accuracy: 0.9837 - val_loss: 0.1504 - val_batch_accuracy: 0.9930\n",
      "Epoch 56/100\n",
      "560000/560000 [==============================] - 5s - loss: 0.3348 - batch_accuracy: 0.9837 - val_loss: 0.0771 - val_batch_accuracy: 0.9973\n",
      "Epoch 57/100\n",
      "560000/560000 [==============================] - 5s - loss: 0.3201 - batch_accuracy: 0.9843 - val_loss: 0.3165 - val_batch_accuracy: 0.9811\n",
      "Epoch 58/100\n",
      "560000/560000 [==============================] - 5s - loss: 0.3211 - batch_accuracy: 0.9842 - val_loss: 0.1683 - val_batch_accuracy: 0.9934\n",
      "Epoch 59/100\n",
      "560000/560000 [==============================] - 5s - loss: 0.3124 - batch_accuracy: 0.9848 - val_loss: 0.0817 - val_batch_accuracy: 0.9967\n",
      "Epoch 60/100\n",
      "560000/560000 [==============================] - 5s - loss: 0.3071 - batch_accuracy: 0.9852 - val_loss: 0.0737 - val_batch_accuracy: 0.9969\n",
      "Epoch 61/100\n",
      "560000/560000 [==============================] - 5s - loss: 0.3022 - batch_accuracy: 0.9855 - val_loss: 0.2785 - val_batch_accuracy: 0.9849\n",
      "Epoch 62/100\n",
      "560000/560000 [==============================] - 5s - loss: 0.2986 - batch_accuracy: 0.9855 - val_loss: 0.1228 - val_batch_accuracy: 0.9951\n",
      "Epoch 63/100\n",
      "560000/560000 [==============================] - 5s - loss: 0.2927 - batch_accuracy: 0.9861 - val_loss: 0.4087 - val_batch_accuracy: 0.9762\n",
      "Epoch 64/100\n",
      "560000/560000 [==============================] - 6s - loss: 0.2845 - batch_accuracy: 0.9863 - val_loss: 0.1105 - val_batch_accuracy: 0.9947\n",
      "Epoch 65/100\n",
      "560000/560000 [==============================] - 5s - loss: 0.2820 - batch_accuracy: 0.9865 - val_loss: 0.0762 - val_batch_accuracy: 0.9961\n",
      "Epoch 66/100\n",
      "560000/560000 [==============================] - 5s - loss: 0.2827 - batch_accuracy: 0.9862 - val_loss: 0.1136 - val_batch_accuracy: 0.9947\n",
      "Epoch 67/100\n",
      "560000/560000 [==============================] - 5s - loss: 0.2731 - batch_accuracy: 0.9870 - val_loss: 0.4103 - val_batch_accuracy: 0.9841\n",
      "Epoch 68/100\n",
      "560000/560000 [==============================] - 5s - loss: 0.2787 - batch_accuracy: 0.9867 - val_loss: 0.0590 - val_batch_accuracy: 0.9976\n",
      "Epoch 69/100\n",
      "560000/560000 [==============================] - 6s - loss: 0.2674 - batch_accuracy: 0.9873 - val_loss: 0.0645 - val_batch_accuracy: 0.9973\n",
      "Epoch 70/100\n",
      "560000/560000 [==============================] - 5s - loss: 0.2669 - batch_accuracy: 0.9874 - val_loss: 0.0590 - val_batch_accuracy: 0.9978\n",
      "Epoch 71/100\n",
      "560000/560000 [==============================] - 5s - loss: 0.2654 - batch_accuracy: 0.9875 - val_loss: 0.1181 - val_batch_accuracy: 0.9953\n",
      "Epoch 72/100\n",
      "560000/560000 [==============================] - 6s - loss: 0.2610 - batch_accuracy: 0.9875 - val_loss: 0.0518 - val_batch_accuracy: 0.9980\n",
      "Epoch 73/100\n",
      "560000/560000 [==============================] - 5s - loss: 0.2604 - batch_accuracy: 0.9877 - val_loss: 0.0666 - val_batch_accuracy: 0.9972\n",
      "Epoch 74/100\n",
      "560000/560000 [==============================] - 5s - loss: 0.2470 - batch_accuracy: 0.9882 - val_loss: 0.5641 - val_batch_accuracy: 0.9696\n",
      "Epoch 75/100\n",
      "560000/560000 [==============================] - 5s - loss: 0.2508 - batch_accuracy: 0.9881 - val_loss: 0.0531 - val_batch_accuracy: 0.9975\n",
      "Epoch 76/100\n",
      "560000/560000 [==============================] - 5s - loss: 0.2470 - batch_accuracy: 0.9883 - val_loss: 0.1093 - val_batch_accuracy: 0.9947\n",
      "Epoch 77/100\n",
      "560000/560000 [==============================] - 5s - loss: 0.2456 - batch_accuracy: 0.9882 - val_loss: 0.0800 - val_batch_accuracy: 0.9969\n",
      "Epoch 78/100\n",
      "560000/560000 [==============================] - 6s - loss: 0.2421 - batch_accuracy: 0.9886 - val_loss: 0.0449 - val_batch_accuracy: 0.9981\n",
      "Epoch 79/100\n",
      "560000/560000 [==============================] - 6s - loss: 0.2383 - batch_accuracy: 0.9889 - val_loss: 0.0480 - val_batch_accuracy: 0.9982\n",
      "Epoch 80/100\n",
      "560000/560000 [==============================] - 5s - loss: 0.2349 - batch_accuracy: 0.9892 - val_loss: 0.2329 - val_batch_accuracy: 0.9883\n",
      "Epoch 81/100\n",
      "560000/560000 [==============================] - 5s - loss: 0.2402 - batch_accuracy: 0.9888 - val_loss: 0.0495 - val_batch_accuracy: 0.9980\n",
      "Epoch 82/100\n",
      "560000/560000 [==============================] - 5s - loss: 0.2283 - batch_accuracy: 0.9893 - val_loss: 2.3339 - val_batch_accuracy: 0.8916\n",
      "Epoch 83/100\n",
      "560000/560000 [==============================] - 5s - loss: 0.2299 - batch_accuracy: 0.9893 - val_loss: 0.0416 - val_batch_accuracy: 0.9984\n",
      "Epoch 84/100\n",
      "560000/560000 [==============================] - 5s - loss: 0.2285 - batch_accuracy: 0.9893 - val_loss: 0.1472 - val_batch_accuracy: 0.9919\n",
      "Epoch 85/100\n",
      "560000/560000 [==============================] - 5s - loss: 0.2238 - batch_accuracy: 0.9897 - val_loss: 0.0572 - val_batch_accuracy: 0.9978\n",
      "Epoch 86/100\n",
      "560000/560000 [==============================] - 6s - loss: 0.2182 - batch_accuracy: 0.9897 - val_loss: 0.0497 - val_batch_accuracy: 0.9979\n",
      "Epoch 87/100\n",
      "560000/560000 [==============================] - 5s - loss: 0.2176 - batch_accuracy: 0.9900 - val_loss: 0.0412 - val_batch_accuracy: 0.9983\n",
      "Epoch 88/100\n",
      "560000/560000 [==============================] - 5s - loss: 0.2119 - batch_accuracy: 0.9902 - val_loss: 0.1507 - val_batch_accuracy: 0.9938\n",
      "Epoch 89/100\n",
      "560000/560000 [==============================] - 5s - loss: 0.2206 - batch_accuracy: 0.9898 - val_loss: 0.0536 - val_batch_accuracy: 0.9978\n",
      "Epoch 90/100\n",
      "560000/560000 [==============================] - 5s - loss: 0.2138 - batch_accuracy: 0.9903 - val_loss: 0.0850 - val_batch_accuracy: 0.9958\n",
      "Epoch 91/100\n",
      "560000/560000 [==============================] - 5s - loss: 0.2120 - batch_accuracy: 0.9902 - val_loss: 0.1361 - val_batch_accuracy: 0.9952\n",
      "Epoch 92/100\n",
      "560000/560000 [==============================] - 5s - loss: 0.2160 - batch_accuracy: 0.9902 - val_loss: 1.9871 - val_batch_accuracy: 0.9193\n",
      "Epoch 93/100\n",
      "560000/560000 [==============================] - 5s - loss: 0.2123 - batch_accuracy: 0.9902 - val_loss: 1.7174 - val_batch_accuracy: 0.9109\n",
      "Epoch 94/100\n",
      "560000/560000 [==============================] - 5s - loss: 0.2048 - batch_accuracy: 0.9906 - val_loss: 0.1740 - val_batch_accuracy: 0.9903\n",
      "Epoch 95/100\n",
      "560000/560000 [==============================] - 5s - loss: 0.2115 - batch_accuracy: 0.9904 - val_loss: 0.0663 - val_batch_accuracy: 0.9977\n",
      "Epoch 96/100\n",
      "560000/560000 [==============================] - 5s - loss: 0.2005 - batch_accuracy: 0.9909 - val_loss: 0.1389 - val_batch_accuracy: 0.9924\n",
      "Epoch 97/100\n",
      "560000/560000 [==============================] - 5s - loss: 0.2048 - batch_accuracy: 0.9905 - val_loss: 0.0472 - val_batch_accuracy: 0.9980\n",
      "Epoch 98/100\n",
      "560000/560000 [==============================] - 5s - loss: 0.2017 - batch_accuracy: 0.9907 - val_loss: 2.7614 - val_batch_accuracy: 0.8911\n",
      "Epoch 99/100\n",
      "560000/560000 [==============================] - 5s - loss: 0.1987 - batch_accuracy: 0.9912 - val_loss: 0.1209 - val_batch_accuracy: 0.9966\n",
      "Epoch 100/100\n",
      "560000/560000 [==============================] - 5s - loss: 0.2032 - batch_accuracy: 0.9909 - val_loss: 0.0403 - val_batch_accuracy: 0.9981\n"
     ]
    },
    {
     "data": {
      "text/plain": [
       "<keras.callbacks.History at 0x7f38600760f0>"
      ]
     },
     "execution_count": 31,
     "metadata": {},
     "output_type": "execute_result"
    }
   ],
   "source": [
    "model.fit(x_train, y_train, \n",
    "          batch_size = bs, verbose = 1, epochs = 100, \n",
    "          validation_data=(x_validation, y_validation))"
   ]
  },
  {
   "cell_type": "markdown",
   "metadata": {
    "collapsed": true
   },
   "source": [
    "\n",
    "# Evaluate the trained model on data it has never seen"
   ]
  },
  {
   "cell_type": "code",
   "execution_count": null,
   "metadata": {
    "ExecuteTime": {
     "end_time": "2017-08-30T21:16:10.234299Z",
     "start_time": "2017-08-30T21:16:10.229590Z"
    }
   },
   "outputs": [
    {
     "name": "stdout",
     "output_type": "stream",
     "text": [
      " 56032/120000 [=============>................] - ETA: 3s"
     ]
    }
   ],
   "source": [
    "results = model.evaluate(x_test, y_test)\n",
    "print(\"\\nloss    : {}\\naccuracy: {}\".format(results[0], results[1] * 100))\n",
    "\n",
    "test_amount = 1000\n",
    "output = model.predict(x_test)[:test_amount]\n",
    "pred_digits = map(one_hot_decode_digits_to_str, output)\n",
    "truth_digits = map(one_hot_decode_digits_to_str, y_test[:test_amount])\n",
    "\n",
    "for pred, truth in zip(pred_digits, truth_digits):\n",
    "    print(pred, truth)"
   ]
  },
  {
   "cell_type": "code",
   "execution_count": null,
   "metadata": {
    "collapsed": true
   },
   "outputs": [],
   "source": []
  }
 ],
 "metadata": {
  "kernelspec": {
   "display_name": "Python 3",
   "language": "python",
   "name": "python3"
  },
  "language_info": {
   "codemirror_mode": {
    "name": "ipython",
    "version": 3
   },
   "file_extension": ".py",
   "mimetype": "text/x-python",
   "name": "python",
   "nbconvert_exporter": "python",
   "pygments_lexer": "ipython3",
   "version": "3.6.2"
  }
 },
 "nbformat": 4,
 "nbformat_minor": 2
}
