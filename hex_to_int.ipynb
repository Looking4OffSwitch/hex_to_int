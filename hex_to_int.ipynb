{
 "cells": [
  {
   "cell_type": "markdown",
   "metadata": {},
   "source": [
    "# Use a DNN to learn the mapping between a hex string and a digit string\n",
    "\n",
    "The goal is to use a Keras Sequential model to learn the mapping between a hex string (e.g. \"dbb9f\") and digit string (e.g. \"899999\"). The digit string represents the base numerical 10 value of the hex string."
   ]
  },
  {
   "cell_type": "code",
   "execution_count": 22,
   "metadata": {
    "ExecuteTime": {
     "end_time": "2017-08-30T21:16:08.587867Z",
     "start_time": "2017-08-30T21:16:05.537099Z"
    }
   },
   "outputs": [],
   "source": [
    "import os\n",
    "import keras\n",
    "from keras import models\n",
    "from keras import layers\n",
    "import numpy as np\n",
    "import pandas as pd\n",
    "\n",
    "import tensorflow as tf\n",
    "from keras.layers import Input, Dense, Reshape, Flatten\n",
    "from keras.models import Sequential\n",
    "import numpy as np\n"
   ]
  },
  {
   "cell_type": "markdown",
   "metadata": {},
   "source": [
    "## Data and Methods for One Hot Encoding"
   ]
  },
  {
   "cell_type": "code",
   "execution_count": 23,
   "metadata": {
    "ExecuteTime": {
     "end_time": "2017-08-30T21:16:08.630504Z",
     "start_time": "2017-08-30T21:16:08.589567Z"
    },
    "collapsed": true
   },
   "outputs": [],
   "source": [
    "digits = \"0123456789\"\n",
    "hex_digits = digits + \"abcdef\"\n",
    "\n",
    "digits_char_to_int = dict((c, i) for i, c in enumerate(digits))\n",
    "digits_int_to_char = dict((i, c) for i, c in enumerate(digits))\n",
    "\n",
    "hex_char_to_int = dict((c, i) for i, c in enumerate(hex_digits))\n",
    "hex_int_to_char = dict((i, c) for i, c in enumerate(hex_digits))\n",
    "\n",
    "# Encoding\n",
    "\n",
    "def one_hot_encode_hex_string(str):\n",
    "    int_encoded = [hex_char_to_int[c] for c in str]\n",
    "    return keras.utils.to_categorical(int_encoded, num_classes=len(hex_digits))\n",
    "\n",
    "def one_hot_encode_digits_string(str):\n",
    "    int_encoded = [digits_char_to_int[c] for c in str]\n",
    "    return keras.utils.to_categorical(int_encoded, num_classes=len(digits))\n",
    "\n",
    "# Decoding\n",
    "\n",
    "def one_hot_decode_hex_to_str(arr):\n",
    "    s = \"\"\n",
    "    for row in arr:\n",
    "        s += hex_int_to_char[np.argmax(row)]\n",
    "    return s   \n",
    "\n",
    "def one_hot_decode_digits_to_str(arr):\n",
    "    s = \"\"\n",
    "    for row in arr:\n",
    "        s += digits_int_to_char[np.argmax(row)]\n",
    "    return s   "
   ]
  },
  {
   "cell_type": "markdown",
   "metadata": {
    "ExecuteTime": {
     "end_time": "2017-08-30T19:27:20.958431Z",
     "start_time": "2017-08-30T19:27:20.933929Z"
    }
   },
   "source": [
    "## Example hex string\n",
    "#### Model Input"
   ]
  },
  {
   "cell_type": "code",
   "execution_count": 24,
   "metadata": {
    "ExecuteTime": {
     "end_time": "2017-08-30T21:16:08.640953Z",
     "start_time": "2017-08-30T21:16:08.632589Z"
    }
   },
   "outputs": [
    {
     "name": "stdout",
     "output_type": "stream",
     "text": [
      "[[ 0.  1.  0.  0.  0.  0.  0.  0.  0.  0.  0.  0.  0.  0.  0.  0.]\n",
      " [ 0.  0.  0.  0.  0.  0.  0.  0.  1.  0.  0.  0.  0.  0.  0.  0.]\n",
      " [ 0.  0.  0.  0.  0.  0.  1.  0.  0.  0.  0.  0.  0.  0.  0.  0.]\n",
      " [ 0.  0.  0.  0.  0.  0.  0.  0.  0.  0.  1.  0.  0.  0.  0.  0.]\n",
      " [ 0.  0.  1.  0.  0.  0.  0.  0.  0.  0.  0.  0.  0.  0.  0.  0.]]\n",
      "(5, 16)\n",
      "186a2\n"
     ]
    }
   ],
   "source": [
    "# A input/hex string is *always* 5 characters\n",
    "# Range: \"186a0\" - \"dbb9f\"\n",
    "\n",
    "hex_str = \"186a2\"\n",
    "\n",
    "one_hot_encoded = one_hot_encode_hex_string(hex_str)\n",
    "print(one_hot_encoded)\n",
    "print(one_hot_encoded.shape)\n",
    "original_string = one_hot_decode_hex_to_str(one_hot_encoded)\n",
    "print(original_string)"
   ]
  },
  {
   "cell_type": "markdown",
   "metadata": {},
   "source": [
    "## Example digit string\n",
    "#### Training label"
   ]
  },
  {
   "cell_type": "code",
   "execution_count": 25,
   "metadata": {
    "ExecuteTime": {
     "end_time": "2017-08-30T21:16:08.649999Z",
     "start_time": "2017-08-30T21:16:08.642860Z"
    }
   },
   "outputs": [
    {
     "name": "stdout",
     "output_type": "stream",
     "text": [
      "[[ 0.  1.  0.  0.  0.  0.  0.  0.  0.  0.]\n",
      " [ 1.  0.  0.  0.  0.  0.  0.  0.  0.  0.]\n",
      " [ 1.  0.  0.  0.  0.  0.  0.  0.  0.  0.]\n",
      " [ 1.  0.  0.  0.  0.  0.  0.  0.  0.  0.]\n",
      " [ 1.  0.  0.  0.  0.  0.  0.  0.  0.  0.]\n",
      " [ 0.  0.  1.  0.  0.  0.  0.  0.  0.  0.]]\n",
      "(6, 10)\n",
      "100002\n"
     ]
    }
   ],
   "source": [
    "# A label/digit string is *always* 6 characters\n",
    "# Range: \"100000\" - \"899999\"\n",
    "\n",
    "digit_str = \"100002\"\n",
    "\n",
    "one_hot_encoded = one_hot_encode_digits_string(digit_str)\n",
    "print(one_hot_encoded)\n",
    "print(one_hot_encoded.shape)\n",
    "original_string = one_hot_decode_digits_to_str(one_hot_encoded)\n",
    "print(original_string)"
   ]
  },
  {
   "cell_type": "markdown",
   "metadata": {},
   "source": [
    "## Create Data"
   ]
  },
  {
   "cell_type": "code",
   "execution_count": 26,
   "metadata": {
    "ExecuteTime": {
     "end_time": "2017-08-30T21:16:09.519148Z",
     "start_time": "2017-08-30T21:16:08.651524Z"
    }
   },
   "outputs": [],
   "source": [
    "def create_csv(fname, start_num, count):\n",
    "    \"\"\"\n",
    "    Create a csv named fname containing n count.\n",
    "    Each row will contain:\n",
    "        * number (starting at start_num)\n",
    "            * incremented by 1 each row\n",
    "        * the hex value of the string version of number\n",
    "    \"\"\"\n",
    "    with open(fname, \"w+\") as f:\n",
    "        result_str = \"\"\n",
    "\n",
    "        end_num = start_num + count\n",
    "        i = start_num\n",
    "\n",
    "        while i < end_num:\n",
    "            s = str(i)\n",
    "            hex_str = hex(i)[2:] # drop the leading \"0x\"\n",
    "\n",
    "            result_str += \"{},{}\\n\".format(s, hex_str)\n",
    "            i += 1\n",
    "\n",
    "        f.write(\"string,hex\\n\")\n",
    "        f.write(result_str)\n",
    "        \n",
    "data_filename = 'data.csv'        \n",
    "\n",
    "# Create it if it doesn't already exist\n",
    "if not os.path.isfile(data_filename):\n",
    "    # from 100_000 (0x186a0) to 899_999 (0xdbb9f)\n",
    "    create_csv(data_filename, 100000, 800000)"
   ]
  },
  {
   "cell_type": "markdown",
   "metadata": {},
   "source": [
    "## Load data"
   ]
  },
  {
   "cell_type": "code",
   "execution_count": 27,
   "metadata": {
    "ExecuteTime": {
     "end_time": "2017-08-30T21:16:10.130403Z",
     "start_time": "2017-08-30T21:16:09.521039Z"
    }
   },
   "outputs": [
    {
     "data": {
      "text/html": [
       "<div>\n",
       "<style>\n",
       "    .dataframe thead tr:only-child th {\n",
       "        text-align: right;\n",
       "    }\n",
       "\n",
       "    .dataframe thead th {\n",
       "        text-align: left;\n",
       "    }\n",
       "\n",
       "    .dataframe tbody tr th {\n",
       "        vertical-align: top;\n",
       "    }\n",
       "</style>\n",
       "<table border=\"1\" class=\"dataframe\">\n",
       "  <thead>\n",
       "    <tr style=\"text-align: right;\">\n",
       "      <th></th>\n",
       "      <th>string</th>\n",
       "      <th>hex</th>\n",
       "    </tr>\n",
       "  </thead>\n",
       "  <tbody>\n",
       "    <tr>\n",
       "      <th>0</th>\n",
       "      <td>100000</td>\n",
       "      <td>186a0</td>\n",
       "    </tr>\n",
       "    <tr>\n",
       "      <th>1</th>\n",
       "      <td>100001</td>\n",
       "      <td>186a1</td>\n",
       "    </tr>\n",
       "    <tr>\n",
       "      <th>2</th>\n",
       "      <td>100002</td>\n",
       "      <td>186a2</td>\n",
       "    </tr>\n",
       "    <tr>\n",
       "      <th>3</th>\n",
       "      <td>100003</td>\n",
       "      <td>186a3</td>\n",
       "    </tr>\n",
       "    <tr>\n",
       "      <th>4</th>\n",
       "      <td>100004</td>\n",
       "      <td>186a4</td>\n",
       "    </tr>\n",
       "  </tbody>\n",
       "</table>\n",
       "</div>"
      ],
      "text/plain": [
       "   string    hex\n",
       "0  100000  186a0\n",
       "1  100001  186a1\n",
       "2  100002  186a2\n",
       "3  100003  186a3\n",
       "4  100004  186a4"
      ]
     },
     "execution_count": 27,
     "metadata": {},
     "output_type": "execute_result"
    }
   ],
   "source": [
    "df = pd.read_csv(data_filename, dtype={'string': str, 'hex': str})\n",
    "\n",
    "# Used to test with less data\n",
    "use_full_dataset = False\n",
    "\n",
    "if not use_full_dataset:\n",
    "    df = df[0:5]\n",
    "\n",
    "# randomize rows when using the full dataset\n",
    "if use_full_dataset:\n",
    "    df = df.sample(frac=1).reset_index(drop=True)\n",
    "    df.set_index('string')\n",
    "\n",
    "df.head()"
   ]
  },
  {
   "cell_type": "markdown",
   "metadata": {
    "ExecuteTime": {
     "end_time": "2017-08-30T19:47:33.088284Z",
     "start_time": "2017-08-30T19:47:33.086195Z"
    }
   },
   "source": [
    "## One hot encode all hex and label strings"
   ]
  },
  {
   "cell_type": "code",
   "execution_count": 28,
   "metadata": {
    "ExecuteTime": {
     "end_time": "2017-08-30T21:16:10.144767Z",
     "start_time": "2017-08-30T21:16:10.131959Z"
    }
   },
   "outputs": [
    {
     "name": "stdout",
     "output_type": "stream",
     "text": [
      "(5, 6, 10)\n",
      "(5, 5, 16)\n"
     ]
    }
   ],
   "source": [
    "all_labels_encoded = []\n",
    "all_hexes_encoded   = []\n",
    "\n",
    "for row in df.itertuples():\n",
    "    label_string = row[1] # row['string']\n",
    "    hex_str      = row[2] # row['hex']\n",
    "\n",
    "    label_encoded = one_hot_encode_digits_string(label_string)\n",
    "    hex_encoded   = one_hot_encode_hex_string(hex_str)\n",
    "\n",
    "    all_labels_encoded.append(label_encoded)\n",
    "    all_hexes_encoded.append(hex_encoded)\n",
    "\n",
    "all_labels_encoded = np.asarray(all_labels_encoded)\n",
    "all_hexes_encoded  = np.asarray(all_hexes_encoded)\n",
    "\n",
    "print(all_labels_encoded.shape)\n",
    "print(all_hexes_encoded.shape)"
   ]
  },
  {
   "cell_type": "markdown",
   "metadata": {
    "ExecuteTime": {
     "end_time": "2017-08-30T19:48:23.316727Z",
     "start_time": "2017-08-30T19:48:23.314334Z"
    }
   },
   "source": [
    "## Verify that encoding decoding works"
   ]
  },
  {
   "cell_type": "code",
   "execution_count": 29,
   "metadata": {
    "ExecuteTime": {
     "end_time": "2017-08-30T21:16:10.151748Z",
     "start_time": "2017-08-30T21:16:10.146299Z"
    }
   },
   "outputs": [
    {
     "name": "stdout",
     "output_type": "stream",
     "text": [
      "('100000', '->', '186a0')\n",
      "('100001', '->', '186a1')\n",
      "('100002', '->', '186a2')\n",
      "('100003', '->', '186a3')\n",
      "('100004', '->', '186a4')\n"
     ]
    }
   ],
   "source": [
    "for i in range(5):\n",
    "    print(one_hot_decode_digits_to_str(all_labels_encoded[i]), \n",
    "          \"->\", \n",
    "          one_hot_decode_hex_to_str(all_hexes_encoded[i]))"
   ]
  },
  {
   "cell_type": "markdown",
   "metadata": {},
   "source": [
    "## Split encoded arrays into training, validation, and test sets"
   ]
  },
  {
   "cell_type": "code",
   "execution_count": 30,
   "metadata": {
    "ExecuteTime": {
     "end_time": "2017-08-30T21:16:10.178956Z",
     "start_time": "2017-08-30T21:16:10.152988Z"
    }
   },
   "outputs": [
    {
     "name": "stdout",
     "output_type": "stream",
     "text": [
      "('Total expected  :', 5)\n",
      "('Total calculated:', 5)\n",
      "('Training examples:', 3)\n",
      "('Validation examples:', 1)\n",
      "('Test examples', 1)\n"
     ]
    }
   ],
   "source": [
    "if use_full_dataset:\n",
    "    n_training_examples   = int(example_cnt * 0.7)\n",
    "    n_validation_examples = int(example_cnt * 0.15)\n",
    "    n_test_examples       = int(example_cnt * 0.15)\n",
    "else:\n",
    "    n_training_examples   = 3\n",
    "    n_validation_examples = 1\n",
    "    n_test_examples       = 1\n",
    "\n",
    "print(\"Total expected  :\", len(df))\n",
    "print(\"Total calculated:\", n_training_examples + n_validation_examples + n_test_examples)\n",
    "\n",
    "x_train = all_hexes_encoded[:n_training_examples]\n",
    "y_train = all_labels_encoded[:n_training_examples]\n",
    "print(\"Training examples:\", len(x_train))\n",
    "\n",
    "x_validation = all_hexes_encoded[n_training_examples  : n_training_examples + n_validation_examples]\n",
    "y_validation = all_labels_encoded[n_training_examples : n_training_examples + n_validation_examples]\n",
    "print(\"Validation examples:\", len(x_validation))\n",
    "\n",
    "x_test = all_hexes_encoded[len(all_hexes_encoded) - n_test_examples:]\n",
    "y_test = all_labels_encoded[len(all_labels_encoded) - n_test_examples:]\n",
    "print(\"Test examples\", len(x_test))"
   ]
  },
  {
   "cell_type": "markdown",
   "metadata": {},
   "source": [
    "## Shape of training and label data"
   ]
  },
  {
   "cell_type": "code",
   "execution_count": 31,
   "metadata": {
    "ExecuteTime": {
     "end_time": "2017-08-30T21:16:10.185869Z",
     "start_time": "2017-08-30T21:16:10.180818Z"
    }
   },
   "outputs": [
    {
     "name": "stdout",
     "output_type": "stream",
     "text": [
      "('x_train.shape:', (3, 5, 16))\n",
      "('y_train.shape:', (3, 6, 10))\n"
     ]
    }
   ],
   "source": [
    "print(\"x_train.shape:\", x_train.shape)\n",
    "print(\"y_train.shape:\", y_train.shape)"
   ]
  },
  {
   "cell_type": "markdown",
   "metadata": {},
   "source": [
    "## Verify our dimensions match our expectations"
   ]
  },
  {
   "cell_type": "code",
   "execution_count": 32,
   "metadata": {
    "ExecuteTime": {
     "end_time": "2017-08-30T21:16:10.201200Z",
     "start_time": "2017-08-30T21:16:10.187691Z"
    }
   },
   "outputs": [
    {
     "name": "stdout",
     "output_type": "stream",
     "text": [
      "('Training dimensions match:', True)\n",
      "('Label dimensions match:', True)\n"
     ]
    }
   ],
   "source": [
    "#\n",
    "# Dimensions of the input matrix: one hot encoded hex string (.e.g \"186a2\")\n",
    "#\n",
    "\n",
    "# fixed length (in chars) of a hex string\n",
    "hex_n = len(one_hot_decode_hex_to_str(all_hexes_encoded[0]))\n",
    "\n",
    "# number of symbols in the \"alphabet\" of a hex string\n",
    "hex_k = len(hex_digits)\n",
    "\n",
    "print(\"Training dimensions match:\", x_train.shape[1:3] == (hex_n, hex_k))\n",
    "\n",
    "#\n",
    "# Dimensions of the label matrix: one hot encoded digits string (.e.g \"100002\")\n",
    "#\n",
    "\n",
    "# fixed length (in chars) of a hex string\n",
    "label_n = len(one_hot_decode_digits_to_str(all_labels_encoded[0]))\n",
    "\n",
    "# number of symbols in the \"alphabet\" of a digits string\n",
    "label_k = len(digits)\n",
    "\n",
    "print(\"Label dimensions match:\", y_train.shape[1:3] == (label_n, label_k))"
   ]
  },
  {
   "cell_type": "markdown",
   "metadata": {},
   "source": [
    "# Build and compile model\n",
    "\n",
    "### Questions\n",
    "* How do we determine the correct number of nodes in the initial layer?\n",
    "* The shape of the input data is `(5, 16)` and the shape of our labels is `(6, 10)`. How do we define a model that can convert between these differing dimensions?\n",
    "* Do we have to create our own [loss function implementation](https://stackoverflow.com/questions/43576922/keras-custom-metric-iteration) to make this work?"
   ]
  },
  {
   "cell_type": "code",
   "execution_count": 65,
   "metadata": {
    "ExecuteTime": {
     "end_time": "2017-08-30T21:16:10.222200Z",
     "start_time": "2017-08-30T21:16:10.203035Z"
    }
   },
   "outputs": [],
   "source": [
    "n = 5 #input size\n",
    "m = 6 #output size\n",
    "l = 16 #input alphabet size\n",
    "k = 10 #output alpahbet size\n",
    "bs = 2 #batch size\n",
    "\n",
    "\n",
    "model = Sequential()\n",
    "model.add(Flatten(input_shape = (n,l)))\n",
    "model.add(Dense(64, activation = 'relu'))\n",
    "model.add(Dense(64, activation = 'relu'))\n",
    "model.add(Dense(64, activation = 'relu'))\n",
    "model.add(Dense(m * k, activation=None))\n",
    "model.add(Reshape((m, k)))\n",
    "\n",
    "def batch_accuracy(truth, pred):\n",
    "    truth_decoded = tf.argmax(truth, axis = 2)\n",
    "    pred_decoded = tf.argmax(pred, axis = 2)\n",
    "    correct = tf.cast(tf.equal(truth, pred), tf.float32)\n",
    "    #correct is bs x m\n",
    "    accuracy = tf.reduce_sum(correct, axis = 1)/float(m)\n",
    "    return accuracy\n",
    "\n",
    "def batch_crossentropy(truth, pred):\n",
    "    batch_size = tf.shape(truth)[0]\n",
    "    #input shapes are BxMxK where B is batchsize\n",
    "    #reshape so that every row is a separate probability distribution\n",
    "    truth = tf.reshape(truth, (-1, k))\n",
    "    pred = tf.reshape(pred, (-1, k))\n",
    "    ce = tf.nn.softmax_cross_entropy_with_logits(labels = truth, logits = pred)\n",
    "    #crossentropy is now bs * m, and we want it reshaped to bs x m\n",
    "    ce = tf.reshape(ce, (batch_size,-1))\n",
    "    loss = tf.reduce_sum(ce, axis = 1)\n",
    "    return loss\n",
    "\n",
    "model.compile(optimizer='rmsprop', \n",
    "              loss=batch_crossentropy,\n",
    "              metrics = [batch_accuracy])\n"
   ]
  },
  {
   "cell_type": "markdown",
   "metadata": {},
   "source": [
    "## Train"
   ]
  },
  {
   "cell_type": "code",
   "execution_count": 66,
   "metadata": {
    "ExecuteTime": {
     "end_time": "2017-08-30T21:16:10.227412Z",
     "start_time": "2017-08-30T21:16:10.223969Z"
    }
   },
   "outputs": [
    {
     "name": "stdout",
     "output_type": "stream",
     "text": [
      "Train on 3 samples, validate on 1 samples\n",
      "Epoch 1/200\n",
      "3/3 [==============================] - 0s - loss: 13.6475 - batch_accuracy: 0.0000e+00 - val_loss: 13.0961 - val_batch_accuracy: 0.0000e+00\n",
      "Epoch 2/200\n",
      "3/3 [==============================] - 0s - loss: 13.0114 - batch_accuracy: 0.0000e+00 - val_loss: 12.6048 - val_batch_accuracy: 0.0000e+00\n",
      "Epoch 3/200\n",
      "3/3 [==============================] - 0s - loss: 12.4358 - batch_accuracy: 0.0000e+00 - val_loss: 12.0501 - val_batch_accuracy: 0.0000e+00\n",
      "Epoch 4/200\n",
      "3/3 [==============================] - 0s - loss: 11.7728 - batch_accuracy: 0.0000e+00 - val_loss: 11.3880 - val_batch_accuracy: 0.0000e+00\n",
      "Epoch 5/200\n",
      "3/3 [==============================] - 0s - loss: 10.9984 - batch_accuracy: 0.0000e+00 - val_loss: 10.6268 - val_batch_accuracy: 0.0000e+00\n",
      "Epoch 6/200\n",
      "3/3 [==============================] - 0s - loss: 10.1174 - batch_accuracy: 0.0000e+00 - val_loss: 9.8076 - val_batch_accuracy: 0.0000e+00\n",
      "Epoch 7/200\n",
      "3/3 [==============================] - 0s - loss: 9.1556 - batch_accuracy: 0.0000e+00 - val_loss: 8.9361 - val_batch_accuracy: 0.0000e+00\n",
      "Epoch 8/200\n",
      "3/3 [==============================] - 0s - loss: 8.1228 - batch_accuracy: 0.0000e+00 - val_loss: 8.0294 - val_batch_accuracy: 0.0000e+00\n",
      "Epoch 9/200\n",
      "3/3 [==============================] - 0s - loss: 7.0629 - batch_accuracy: 0.0000e+00 - val_loss: 7.1393 - val_batch_accuracy: 0.0000e+00\n",
      "Epoch 10/200\n",
      "3/3 [==============================] - 0s - loss: 6.0432 - batch_accuracy: 0.0000e+00 - val_loss: 6.3189 - val_batch_accuracy: 0.0000e+00\n",
      "Epoch 11/200\n",
      "3/3 [==============================] - 0s - loss: 5.1139 - batch_accuracy: 0.0000e+00 - val_loss: 5.6004 - val_batch_accuracy: 0.0000e+00\n",
      "Epoch 12/200\n",
      "3/3 [==============================] - 0s - loss: 4.2971 - batch_accuracy: 0.0000e+00 - val_loss: 5.0255 - val_batch_accuracy: 0.0000e+00\n",
      "Epoch 13/200\n",
      "3/3 [==============================] - 0s - loss: 3.6290 - batch_accuracy: 0.0000e+00 - val_loss: 4.5601 - val_batch_accuracy: 0.0000e+00\n",
      "Epoch 14/200\n",
      "3/3 [==============================] - 0s - loss: 3.0762 - batch_accuracy: 0.0000e+00 - val_loss: 4.2193 - val_batch_accuracy: 0.0000e+00\n",
      "Epoch 15/200\n",
      "3/3 [==============================] - 0s - loss: 2.6341 - batch_accuracy: 0.0000e+00 - val_loss: 3.9758 - val_batch_accuracy: 0.0000e+00\n",
      "Epoch 16/200\n",
      "3/3 [==============================] - 0s - loss: 2.2940 - batch_accuracy: 0.0000e+00 - val_loss: 3.8117 - val_batch_accuracy: 0.0000e+00\n",
      "Epoch 17/200\n",
      "3/3 [==============================] - 0s - loss: 2.0289 - batch_accuracy: 0.0000e+00 - val_loss: 3.7117 - val_batch_accuracy: 0.0000e+00\n",
      "Epoch 18/200\n",
      "3/3 [==============================] - 0s - loss: 1.8236 - batch_accuracy: 0.0000e+00 - val_loss: 3.6631 - val_batch_accuracy: 0.0000e+00\n",
      "Epoch 19/200\n",
      "3/3 [==============================] - 0s - loss: 1.6650 - batch_accuracy: 0.0000e+00 - val_loss: 3.6541 - val_batch_accuracy: 0.0000e+00\n",
      "Epoch 20/200\n",
      "3/3 [==============================] - 0s - loss: 1.5551 - batch_accuracy: 0.0000e+00 - val_loss: 3.6896 - val_batch_accuracy: 0.0000e+00\n",
      "Epoch 21/200\n",
      "3/3 [==============================] - ETA: 0s - loss: 1.6160 - batch_accuracy: 0.0000e+ - 0s - loss: 1.4669 - batch_accuracy: 0.0000e+00 - val_loss: 3.7498 - val_batch_accuracy: 0.0000e+00\n",
      "Epoch 22/200\n",
      "3/3 [==============================] - 0s - loss: 1.4031 - batch_accuracy: 0.0000e+00 - val_loss: 3.8248 - val_batch_accuracy: 0.0000e+00\n",
      "Epoch 23/200\n",
      "3/3 [==============================] - 0s - loss: 1.3563 - batch_accuracy: 0.0000e+00 - val_loss: 3.9095 - val_batch_accuracy: 0.0000e+00\n",
      "Epoch 24/200\n",
      "3/3 [==============================] - 0s - loss: 1.3097 - batch_accuracy: 0.0000e+00 - val_loss: 3.9663 - val_batch_accuracy: 0.0000e+00\n",
      "Epoch 25/200\n",
      "3/3 [==============================] - 0s - loss: 1.2652 - batch_accuracy: 0.0000e+00 - val_loss: 4.0645 - val_batch_accuracy: 0.0000e+00\n",
      "Epoch 26/200\n",
      "3/3 [==============================] - 0s - loss: 1.2355 - batch_accuracy: 0.0000e+00 - val_loss: 4.1607 - val_batch_accuracy: 0.0000e+00\n",
      "Epoch 27/200\n",
      "3/3 [==============================] - 0s - loss: 1.1921 - batch_accuracy: 0.0000e+00 - val_loss: 4.2672 - val_batch_accuracy: 0.0000e+00\n",
      "Epoch 28/200\n",
      "3/3 [==============================] - 0s - loss: 1.1664 - batch_accuracy: 0.0000e+00 - val_loss: 4.3788 - val_batch_accuracy: 0.0000e+00\n",
      "Epoch 29/200\n",
      "3/3 [==============================] - 0s - loss: 1.1510 - batch_accuracy: 0.0000e+00 - val_loss: 4.4926 - val_batch_accuracy: 0.0000e+00\n",
      "Epoch 30/200\n",
      "3/3 [==============================] - 0s - loss: 1.1486 - batch_accuracy: 0.0000e+00 - val_loss: 4.5693 - val_batch_accuracy: 0.0000e+00\n",
      "Epoch 31/200\n",
      "3/3 [==============================] - 0s - loss: 1.1298 - batch_accuracy: 0.0000e+00 - val_loss: 4.6589 - val_batch_accuracy: 0.0000e+00\n",
      "Epoch 32/200\n",
      "3/3 [==============================] - 0s - loss: 1.1226 - batch_accuracy: 0.0000e+00 - val_loss: 4.7540 - val_batch_accuracy: 0.0000e+00\n",
      "Epoch 33/200\n",
      "3/3 [==============================] - 0s - loss: 1.1092 - batch_accuracy: 0.0000e+00 - val_loss: 4.8582 - val_batch_accuracy: 0.0000e+00\n",
      "Epoch 34/200\n",
      "3/3 [==============================] - 0s - loss: 1.0892 - batch_accuracy: 0.0000e+00 - val_loss: 4.9199 - val_batch_accuracy: 0.0000e+00\n",
      "Epoch 35/200\n",
      "3/3 [==============================] - 0s - loss: 1.0715 - batch_accuracy: 0.0000e+00 - val_loss: 5.0141 - val_batch_accuracy: 0.0000e+00\n",
      "Epoch 36/200\n",
      "3/3 [==============================] - 0s - loss: 1.0598 - batch_accuracy: 0.0000e+00 - val_loss: 5.1136 - val_batch_accuracy: 0.0000e+00\n",
      "Epoch 37/200\n",
      "3/3 [==============================] - 0s - loss: 1.0501 - batch_accuracy: 0.0000e+00 - val_loss: 5.2173 - val_batch_accuracy: 0.0000e+00\n",
      "Epoch 38/200\n",
      "3/3 [==============================] - ETA: 0s - loss: 1.0653 - batch_accuracy: 0.0000e+ - 0s - loss: 1.0483 - batch_accuracy: 0.0000e+00 - val_loss: 5.3369 - val_batch_accuracy: 0.0000e+00\n",
      "Epoch 39/200\n",
      "3/3 [==============================] - ETA: 0s - loss: 1.1034 - batch_accuracy: 0.0000e+ - 0s - loss: 1.0504 - batch_accuracy: 0.0000e+00 - val_loss: 5.4546 - val_batch_accuracy: 0.0000e+00\n",
      "Epoch 40/200\n",
      "3/3 [==============================] - 0s - loss: 1.0522 - batch_accuracy: 0.0000e+00 - val_loss: 5.5029 - val_batch_accuracy: 0.0000e+00\n",
      "Epoch 41/200\n",
      "3/3 [==============================] - 0s - loss: 1.0270 - batch_accuracy: 0.0000e+00 - val_loss: 5.5752 - val_batch_accuracy: 0.0000e+00\n",
      "Epoch 42/200\n",
      "3/3 [==============================] - 0s - loss: 1.0182 - batch_accuracy: 0.0000e+00 - val_loss: 5.6907 - val_batch_accuracy: 0.0000e+00\n",
      "Epoch 43/200\n",
      "3/3 [==============================] - 0s - loss: 1.0165 - batch_accuracy: 0.0000e+00 - val_loss: 5.7646 - val_batch_accuracy: 0.0000e+00\n",
      "Epoch 44/200\n",
      "3/3 [==============================] - 0s - loss: 1.0080 - batch_accuracy: 0.0000e+00 - val_loss: 5.8390 - val_batch_accuracy: 0.0000e+00\n",
      "Epoch 45/200\n",
      "3/3 [==============================] - 0s - loss: 1.0117 - batch_accuracy: 0.0000e+00 - val_loss: 5.9044 - val_batch_accuracy: 0.0000e+00\n",
      "Epoch 46/200\n",
      "3/3 [==============================] - 0s - loss: 0.9779 - batch_accuracy: 0.0000e+00 - val_loss: 5.9860 - val_batch_accuracy: 0.0000e+00\n",
      "Epoch 47/200\n",
      "3/3 [==============================] - 0s - loss: 0.9862 - batch_accuracy: 0.0000e+00 - val_loss: 6.0724 - val_batch_accuracy: 0.0000e+00\n",
      "Epoch 48/200\n",
      "3/3 [==============================] - 0s - loss: 0.9684 - batch_accuracy: 0.0000e+00 - val_loss: 6.1540 - val_batch_accuracy: 0.0000e+00\n",
      "Epoch 49/200\n",
      "3/3 [==============================] - 0s - loss: 0.9734 - batch_accuracy: 0.0000e+00 - val_loss: 6.2464 - val_batch_accuracy: 0.0000e+00\n",
      "Epoch 50/200\n",
      "3/3 [==============================] - 0s - loss: 0.9597 - batch_accuracy: 0.0000e+00 - val_loss: 6.3285 - val_batch_accuracy: 0.0000e+00\n",
      "Epoch 51/200\n",
      "3/3 [==============================] - 0s - loss: 0.9548 - batch_accuracy: 0.0000e+00 - val_loss: 6.4225 - val_batch_accuracy: 0.0000e+00\n",
      "Epoch 52/200\n",
      "3/3 [==============================] - 0s - loss: 0.9561 - batch_accuracy: 0.0000e+00 - val_loss: 6.5194 - val_batch_accuracy: 0.0000e+00\n",
      "Epoch 53/200\n"
     ]
    },
    {
     "name": "stdout",
     "output_type": "stream",
     "text": [
      "3/3 [==============================] - 0s - loss: 0.9349 - batch_accuracy: 0.0000e+00 - val_loss: 6.6105 - val_batch_accuracy: 0.0000e+00\n",
      "Epoch 54/200\n",
      "3/3 [==============================] - 0s - loss: 0.9391 - batch_accuracy: 0.0000e+00 - val_loss: 6.7024 - val_batch_accuracy: 0.0000e+00\n",
      "Epoch 55/200\n",
      "3/3 [==============================] - ETA: 0s - loss: 0.7953 - batch_accuracy: 0.0000e+ - 0s - loss: 0.9406 - batch_accuracy: 0.0000e+00 - val_loss: 6.7557 - val_batch_accuracy: 0.0000e+00\n",
      "Epoch 56/200\n",
      "3/3 [==============================] - 0s - loss: 0.9211 - batch_accuracy: 0.0000e+00 - val_loss: 6.8160 - val_batch_accuracy: 0.0000e+00\n",
      "Epoch 57/200\n",
      "3/3 [==============================] - 0s - loss: 0.9217 - batch_accuracy: 0.0000e+00 - val_loss: 6.9065 - val_batch_accuracy: 0.0000e+00\n",
      "Epoch 58/200\n",
      "3/3 [==============================] - 0s - loss: 0.9206 - batch_accuracy: 0.0000e+00 - val_loss: 6.9683 - val_batch_accuracy: 0.0000e+00\n",
      "Epoch 59/200\n",
      "3/3 [==============================] - 0s - loss: 0.9003 - batch_accuracy: 0.0000e+00 - val_loss: 7.0134 - val_batch_accuracy: 0.0000e+00\n",
      "Epoch 60/200\n",
      "3/3 [==============================] - 0s - loss: 0.8990 - batch_accuracy: 0.0000e+00 - val_loss: 7.0653 - val_batch_accuracy: 0.0000e+00\n",
      "Epoch 61/200\n",
      "3/3 [==============================] - 0s - loss: 0.9011 - batch_accuracy: 0.0000e+00 - val_loss: 7.1119 - val_batch_accuracy: 0.0000e+00\n",
      "Epoch 62/200\n",
      "3/3 [==============================] - 0s - loss: 0.8758 - batch_accuracy: 0.0000e+00 - val_loss: 7.1604 - val_batch_accuracy: 0.0000e+00\n",
      "Epoch 63/200\n",
      "3/3 [==============================] - 0s - loss: 0.8755 - batch_accuracy: 0.0000e+00 - val_loss: 7.1792 - val_batch_accuracy: 0.0000e+00\n",
      "Epoch 64/200\n",
      "3/3 [==============================] - 0s - loss: 0.8378 - batch_accuracy: 0.0000e+00 - val_loss: 7.2871 - val_batch_accuracy: 0.0000e+00\n",
      "Epoch 65/200\n",
      "3/3 [==============================] - 0s - loss: 0.8308 - batch_accuracy: 0.0000e+00 - val_loss: 7.3708 - val_batch_accuracy: 0.0000e+00\n",
      "Epoch 66/200\n",
      "3/3 [==============================] - 0s - loss: 0.8306 - batch_accuracy: 0.0000e+00 - val_loss: 7.4630 - val_batch_accuracy: 0.0000e+00\n",
      "Epoch 67/200\n",
      "3/3 [==============================] - 0s - loss: 0.8335 - batch_accuracy: 0.0000e+00 - val_loss: 7.5377 - val_batch_accuracy: 0.0000e+00\n",
      "Epoch 68/200\n",
      "3/3 [==============================] - 0s - loss: 0.8063 - batch_accuracy: 0.0000e+00 - val_loss: 7.6360 - val_batch_accuracy: 0.0000e+00\n",
      "Epoch 69/200\n",
      "3/3 [==============================] - 0s - loss: 0.7875 - batch_accuracy: 0.0000e+00 - val_loss: 7.7482 - val_batch_accuracy: 0.0000e+00\n",
      "Epoch 70/200\n",
      "3/3 [==============================] - 0s - loss: 0.7822 - batch_accuracy: 0.0000e+00 - val_loss: 7.8155 - val_batch_accuracy: 0.0000e+00\n",
      "Epoch 71/200\n",
      "3/3 [==============================] - 0s - loss: 0.7674 - batch_accuracy: 0.0000e+00 - val_loss: 7.9039 - val_batch_accuracy: 0.0000e+00\n",
      "Epoch 72/200\n",
      "3/3 [==============================] - ETA: 0s - loss: 0.9201 - batch_accuracy: 0.0000e+ - 0s - loss: 0.7668 - batch_accuracy: 0.0000e+00 - val_loss: 7.9944 - val_batch_accuracy: 0.0000e+00\n",
      "Epoch 73/200\n",
      "3/3 [==============================] - 0s - loss: 0.7722 - batch_accuracy: 0.0000e+00 - val_loss: 8.0707 - val_batch_accuracy: 0.0000e+00\n",
      "Epoch 74/200\n",
      "3/3 [==============================] - 0s - loss: 0.7654 - batch_accuracy: 0.0000e+00 - val_loss: 8.0943 - val_batch_accuracy: 0.0000e+00\n",
      "Epoch 75/200\n",
      "3/3 [==============================] - 0s - loss: 0.7191 - batch_accuracy: 0.0000e+00 - val_loss: 8.1848 - val_batch_accuracy: 0.0000e+00\n",
      "Epoch 76/200\n",
      "3/3 [==============================] - 0s - loss: 0.7241 - batch_accuracy: 0.0000e+00 - val_loss: 8.2870 - val_batch_accuracy: 0.0000e+00\n",
      "Epoch 77/200\n",
      "3/3 [==============================] - 0s - loss: 0.6991 - batch_accuracy: 0.0000e+00 - val_loss: 8.4117 - val_batch_accuracy: 0.0000e+00\n",
      "Epoch 78/200\n",
      "3/3 [==============================] - 0s - loss: 0.6962 - batch_accuracy: 0.0000e+00 - val_loss: 8.5288 - val_batch_accuracy: 0.0000e+00\n",
      "Epoch 79/200\n",
      "3/3 [==============================] - 0s - loss: 0.6939 - batch_accuracy: 0.0000e+00 - val_loss: 8.5727 - val_batch_accuracy: 0.0000e+00\n",
      "Epoch 80/200\n",
      "3/3 [==============================] - 0s - loss: 0.6797 - batch_accuracy: 0.0000e+00 - val_loss: 8.6400 - val_batch_accuracy: 0.0000e+00\n",
      "Epoch 81/200\n",
      "3/3 [==============================] - 0s - loss: 0.6782 - batch_accuracy: 0.0000e+00 - val_loss: 8.7389 - val_batch_accuracy: 0.0000e+00\n",
      "Epoch 82/200\n",
      "3/3 [==============================] - 0s - loss: 0.6555 - batch_accuracy: 0.0000e+00 - val_loss: 8.8005 - val_batch_accuracy: 0.0000e+00\n",
      "Epoch 83/200\n",
      "3/3 [==============================] - ETA: 0s - loss: 0.4618 - batch_accuracy: 0.0000e+ - 0s - loss: 0.6591 - batch_accuracy: 0.0000e+00 - val_loss: 8.8356 - val_batch_accuracy: 0.0000e+00\n",
      "Epoch 84/200\n",
      "3/3 [==============================] - 0s - loss: 0.6293 - batch_accuracy: 0.0000e+00 - val_loss: 8.9313 - val_batch_accuracy: 0.0000e+00\n",
      "Epoch 85/200\n",
      "3/3 [==============================] - 0s - loss: 0.6155 - batch_accuracy: 0.0000e+00 - val_loss: 8.9948 - val_batch_accuracy: 0.0000e+00\n",
      "Epoch 86/200\n",
      "3/3 [==============================] - 0s - loss: 0.6030 - batch_accuracy: 0.0000e+00 - val_loss: 9.0755 - val_batch_accuracy: 0.0000e+00\n",
      "Epoch 87/200\n",
      "3/3 [==============================] - 0s - loss: 0.6037 - batch_accuracy: 0.0000e+00 - val_loss: 9.1589 - val_batch_accuracy: 0.0000e+00\n",
      "Epoch 88/200\n",
      "3/3 [==============================] - 0s - loss: 0.6080 - batch_accuracy: 0.0000e+00 - val_loss: 9.2521 - val_batch_accuracy: 0.0000e+00\n",
      "Epoch 89/200\n",
      "3/3 [==============================] - 0s - loss: 0.5785 - batch_accuracy: 0.0000e+00 - val_loss: 9.3438 - val_batch_accuracy: 0.0000e+00\n",
      "Epoch 90/200\n",
      "3/3 [==============================] - 0s - loss: 0.5652 - batch_accuracy: 0.0000e+00 - val_loss: 9.4380 - val_batch_accuracy: 0.0000e+00\n",
      "Epoch 91/200\n",
      "3/3 [==============================] - 0s - loss: 0.5422 - batch_accuracy: 0.0000e+00 - val_loss: 9.4952 - val_batch_accuracy: 0.0000e+00\n",
      "Epoch 92/200\n",
      "3/3 [==============================] - 0s - loss: 0.5479 - batch_accuracy: 0.0000e+00 - val_loss: 9.5812 - val_batch_accuracy: 0.0000e+00\n",
      "Epoch 93/200\n",
      "3/3 [==============================] - ETA: 0s - loss: 0.4073 - batch_accuracy: 0.0000e+ - 0s - loss: 0.5319 - batch_accuracy: 0.0000e+00 - val_loss: 9.6732 - val_batch_accuracy: 0.0000e+00\n",
      "Epoch 94/200\n",
      "3/3 [==============================] - 0s - loss: 0.5104 - batch_accuracy: 0.0000e+00 - val_loss: 9.7316 - val_batch_accuracy: 0.0000e+00\n",
      "Epoch 95/200\n",
      "3/3 [==============================] - ETA: 0s - loss: 0.6201 - batch_accuracy: 0.0000e+ - 0s - loss: 0.5050 - batch_accuracy: 0.0000e+00 - val_loss: 9.8000 - val_batch_accuracy: 0.0000e+00\n",
      "Epoch 96/200\n",
      "3/3 [==============================] - 0s - loss: 0.5168 - batch_accuracy: 0.0000e+00 - val_loss: 9.8831 - val_batch_accuracy: 0.0000e+00\n",
      "Epoch 97/200\n",
      "3/3 [==============================] - 0s - loss: 0.4931 - batch_accuracy: 0.0000e+00 - val_loss: 9.9751 - val_batch_accuracy: 0.0000e+00\n",
      "Epoch 98/200\n",
      "3/3 [==============================] - 0s - loss: 0.4824 - batch_accuracy: 0.0000e+00 - val_loss: 10.0888 - val_batch_accuracy: 0.0000e+00\n",
      "Epoch 99/200\n",
      "3/3 [==============================] - 0s - loss: 0.4693 - batch_accuracy: 0.0000e+00 - val_loss: 10.1441 - val_batch_accuracy: 0.0000e+00\n",
      "Epoch 100/200\n",
      "3/3 [==============================] - 0s - loss: 0.4568 - batch_accuracy: 0.0000e+00 - val_loss: 10.2054 - val_batch_accuracy: 0.0000e+00\n",
      "Epoch 101/200\n",
      "3/3 [==============================] - 0s - loss: 0.4692 - batch_accuracy: 0.0000e+00 - val_loss: 10.2876 - val_batch_accuracy: 0.0000e+00\n",
      "Epoch 102/200\n",
      "3/3 [==============================] - 0s - loss: 0.4273 - batch_accuracy: 0.0000e+00 - val_loss: 10.3423 - val_batch_accuracy: 0.0000e+00\n",
      "Epoch 103/200\n",
      "3/3 [==============================] - 0s - loss: 0.4436 - batch_accuracy: 0.0000e+00 - val_loss: 10.4431 - val_batch_accuracy: 0.0000e+00\n",
      "Epoch 104/200\n",
      "3/3 [==============================] - 0s - loss: 0.4296 - batch_accuracy: 0.0000e+00 - val_loss: 10.5244 - val_batch_accuracy: 0.0000e+00\n",
      "Epoch 105/200\n"
     ]
    },
    {
     "name": "stdout",
     "output_type": "stream",
     "text": [
      "3/3 [==============================] - 0s - loss: 0.4160 - batch_accuracy: 0.0000e+00 - val_loss: 10.6343 - val_batch_accuracy: 0.0000e+00\n",
      "Epoch 106/200\n",
      "3/3 [==============================] - ETA: 0s - loss: 0.3870 - batch_accuracy: 0.0000e+ - 0s - loss: 0.4127 - batch_accuracy: 0.0000e+00 - val_loss: 10.7375 - val_batch_accuracy: 0.0000e+00\n",
      "Epoch 107/200\n",
      "3/3 [==============================] - 0s - loss: 0.4084 - batch_accuracy: 0.0000e+00 - val_loss: 10.7500 - val_batch_accuracy: 0.0000e+00\n",
      "Epoch 108/200\n",
      "3/3 [==============================] - ETA: 0s - loss: 0.3224 - batch_accuracy: 0.0000e+ - 0s - loss: 0.3810 - batch_accuracy: 0.0000e+00 - val_loss: 10.8124 - val_batch_accuracy: 0.0000e+00\n",
      "Epoch 109/200\n",
      "3/3 [==============================] - 0s - loss: 0.3777 - batch_accuracy: 0.0000e+00 - val_loss: 10.8883 - val_batch_accuracy: 0.0000e+00\n",
      "Epoch 110/200\n",
      "3/3 [==============================] - 0s - loss: 0.3641 - batch_accuracy: 0.0000e+00 - val_loss: 10.9666 - val_batch_accuracy: 0.0000e+00\n",
      "Epoch 111/200\n",
      "3/3 [==============================] - 0s - loss: 0.3599 - batch_accuracy: 0.0000e+00 - val_loss: 11.0037 - val_batch_accuracy: 0.0000e+00\n",
      "Epoch 112/200\n",
      "3/3 [==============================] - 0s - loss: 0.3372 - batch_accuracy: 0.0000e+00 - val_loss: 11.1000 - val_batch_accuracy: 0.0000e+00\n",
      "Epoch 113/200\n",
      "3/3 [==============================] - 0s - loss: 0.3351 - batch_accuracy: 0.0000e+00 - val_loss: 11.1876 - val_batch_accuracy: 0.0000e+00\n",
      "Epoch 114/200\n",
      "3/3 [==============================] - 0s - loss: 0.3317 - batch_accuracy: 0.0000e+00 - val_loss: 11.3187 - val_batch_accuracy: 0.0000e+00\n",
      "Epoch 115/200\n",
      "3/3 [==============================] - 0s - loss: 0.3239 - batch_accuracy: 0.0000e+00 - val_loss: 11.3980 - val_batch_accuracy: 0.0000e+00\n",
      "Epoch 116/200\n",
      "3/3 [==============================] - 0s - loss: 0.3234 - batch_accuracy: 0.0000e+00 - val_loss: 11.5162 - val_batch_accuracy: 0.0000e+00\n",
      "Epoch 117/200\n",
      "3/3 [==============================] - 0s - loss: 0.2755 - batch_accuracy: 0.0000e+00 - val_loss: 11.5049 - val_batch_accuracy: 0.0000e+00\n",
      "Epoch 118/200\n",
      "3/3 [==============================] - 0s - loss: 0.2824 - batch_accuracy: 0.0000e+00 - val_loss: 11.6396 - val_batch_accuracy: 0.0000e+00\n",
      "Epoch 119/200\n",
      "3/3 [==============================] - 0s - loss: 0.2732 - batch_accuracy: 0.0000e+00 - val_loss: 11.6518 - val_batch_accuracy: 0.0000e+00\n",
      "Epoch 120/200\n",
      "3/3 [==============================] - 0s - loss: 0.2584 - batch_accuracy: 0.0000e+00 - val_loss: 11.7343 - val_batch_accuracy: 0.0000e+00\n",
      "Epoch 121/200\n",
      "3/3 [==============================] - 0s - loss: 0.2493 - batch_accuracy: 0.0000e+00 - val_loss: 11.7533 - val_batch_accuracy: 0.0000e+00\n",
      "Epoch 122/200\n",
      "3/3 [==============================] - 0s - loss: 0.2349 - batch_accuracy: 0.0000e+00 - val_loss: 11.8048 - val_batch_accuracy: 0.0000e+00\n",
      "Epoch 123/200\n",
      "3/3 [==============================] - 0s - loss: 0.2449 - batch_accuracy: 0.0000e+00 - val_loss: 11.9544 - val_batch_accuracy: 0.0000e+00\n",
      "Epoch 124/200\n",
      "3/3 [==============================] - 0s - loss: 0.2178 - batch_accuracy: 0.0000e+00 - val_loss: 11.9529 - val_batch_accuracy: 0.0000e+00\n",
      "Epoch 125/200\n",
      "3/3 [==============================] - 0s - loss: 0.2091 - batch_accuracy: 0.0000e+00 - val_loss: 11.9912 - val_batch_accuracy: 0.0000e+00\n",
      "Epoch 126/200\n",
      "3/3 [==============================] - 0s - loss: 0.2036 - batch_accuracy: 0.0000e+00 - val_loss: 12.0397 - val_batch_accuracy: 0.0000e+00\n",
      "Epoch 127/200\n",
      "3/3 [==============================] - 0s - loss: 0.2147 - batch_accuracy: 0.0000e+00 - val_loss: 12.0996 - val_batch_accuracy: 0.0000e+00\n",
      "Epoch 128/200\n",
      "3/3 [==============================] - 0s - loss: 0.2092 - batch_accuracy: 0.0000e+00 - val_loss: 12.1832 - val_batch_accuracy: 0.0000e+00\n",
      "Epoch 129/200\n",
      "3/3 [==============================] - 0s - loss: 0.2029 - batch_accuracy: 0.0000e+00 - val_loss: 12.2877 - val_batch_accuracy: 0.0000e+00\n",
      "Epoch 130/200\n",
      "3/3 [==============================] - 0s - loss: 0.1991 - batch_accuracy: 0.0000e+00 - val_loss: 12.3946 - val_batch_accuracy: 0.0000e+00\n",
      "Epoch 131/200\n",
      "3/3 [==============================] - 0s - loss: 0.1887 - batch_accuracy: 0.0000e+00 - val_loss: 12.5524 - val_batch_accuracy: 0.0000e+00\n",
      "Epoch 132/200\n",
      "3/3 [==============================] - 0s - loss: 0.1690 - batch_accuracy: 0.0000e+00 - val_loss: 12.6557 - val_batch_accuracy: 0.0000e+00\n",
      "Epoch 133/200\n",
      "3/3 [==============================] - 0s - loss: 0.1569 - batch_accuracy: 0.0000e+00 - val_loss: 12.5938 - val_batch_accuracy: 0.0000e+00\n",
      "Epoch 134/200\n",
      "3/3 [==============================] - 0s - loss: 0.1523 - batch_accuracy: 0.0000e+00 - val_loss: 12.6355 - val_batch_accuracy: 0.0000e+00\n",
      "Epoch 135/200\n",
      "3/3 [==============================] - 0s - loss: 0.1365 - batch_accuracy: 0.0000e+00 - val_loss: 12.6616 - val_batch_accuracy: 0.0000e+00\n",
      "Epoch 136/200\n",
      "3/3 [==============================] - 0s - loss: 0.1410 - batch_accuracy: 0.0000e+00 - val_loss: 12.7513 - val_batch_accuracy: 0.0000e+00\n",
      "Epoch 137/200\n",
      "3/3 [==============================] - 0s - loss: 0.1395 - batch_accuracy: 0.0000e+00 - val_loss: 12.9387 - val_batch_accuracy: 0.0000e+00\n",
      "Epoch 138/200\n",
      "3/3 [==============================] - 0s - loss: 0.1261 - batch_accuracy: 0.0000e+00 - val_loss: 12.9479 - val_batch_accuracy: 0.0000e+00\n",
      "Epoch 139/200\n",
      "3/3 [==============================] - 0s - loss: 0.1199 - batch_accuracy: 0.0000e+00 - val_loss: 13.0236 - val_batch_accuracy: 0.0000e+00\n",
      "Epoch 140/200\n",
      "3/3 [==============================] - 0s - loss: 0.1196 - batch_accuracy: 0.0000e+00 - val_loss: 13.1538 - val_batch_accuracy: 0.0000e+00\n",
      "Epoch 141/200\n",
      "3/3 [==============================] - 0s - loss: 0.1018 - batch_accuracy: 0.0000e+00 - val_loss: 13.1092 - val_batch_accuracy: 0.0000e+00\n",
      "Epoch 142/200\n",
      "3/3 [==============================] - 0s - loss: 0.0952 - batch_accuracy: 0.0000e+00 - val_loss: 13.1340 - val_batch_accuracy: 0.0000e+00\n",
      "Epoch 143/200\n",
      "3/3 [==============================] - 0s - loss: 0.1000 - batch_accuracy: 0.0000e+00 - val_loss: 13.2387 - val_batch_accuracy: 0.0000e+00\n",
      "Epoch 144/200\n",
      "3/3 [==============================] - 0s - loss: 0.0980 - batch_accuracy: 0.0000e+00 - val_loss: 13.3932 - val_batch_accuracy: 0.0000e+00\n",
      "Epoch 145/200\n",
      "3/3 [==============================] - 0s - loss: 0.0885 - batch_accuracy: 0.0000e+00 - val_loss: 13.4219 - val_batch_accuracy: 0.0000e+00\n",
      "Epoch 146/200\n",
      "3/3 [==============================] - 0s - loss: 0.0833 - batch_accuracy: 0.0000e+00 - val_loss: 13.4890 - val_batch_accuracy: 0.0000e+00\n",
      "Epoch 147/200\n",
      "3/3 [==============================] - 0s - loss: 0.0772 - batch_accuracy: 0.0000e+00 - val_loss: 13.5051 - val_batch_accuracy: 0.0000e+00\n",
      "Epoch 148/200\n",
      "3/3 [==============================] - 0s - loss: 0.0704 - batch_accuracy: 0.0000e+00 - val_loss: 13.5826 - val_batch_accuracy: 0.0000e+00\n",
      "Epoch 149/200\n",
      "3/3 [==============================] - 0s - loss: 0.0734 - batch_accuracy: 0.0000e+00 - val_loss: 13.7890 - val_batch_accuracy: 0.0000e+00\n",
      "Epoch 150/200\n",
      "3/3 [==============================] - 0s - loss: 0.0649 - batch_accuracy: 0.0000e+00 - val_loss: 13.7477 - val_batch_accuracy: 0.0000e+00\n",
      "Epoch 151/200\n",
      "3/3 [==============================] - ETA: 0s - loss: 0.0415 - batch_accuracy: 0.0000e+ - 0s - loss: 0.0640 - batch_accuracy: 0.0000e+00 - val_loss: 13.8181 - val_batch_accuracy: 0.0000e+00\n",
      "Epoch 152/200\n",
      "3/3 [==============================] - 0s - loss: 0.0619 - batch_accuracy: 0.0000e+00 - val_loss: 14.0344 - val_batch_accuracy: 0.0000e+00\n",
      "Epoch 153/200\n",
      "3/3 [==============================] - 0s - loss: 0.0520 - batch_accuracy: 0.0000e+00 - val_loss: 13.9847 - val_batch_accuracy: 0.0000e+00\n",
      "Epoch 154/200\n",
      "3/3 [==============================] - 0s - loss: 0.0520 - batch_accuracy: 0.0000e+00 - val_loss: 14.0497 - val_batch_accuracy: 0.0000e+00\n",
      "Epoch 155/200\n",
      "3/3 [==============================] - 0s - loss: 0.0477 - batch_accuracy: 0.0000e+00 - val_loss: 14.0774 - val_batch_accuracy: 0.0000e+00\n",
      "Epoch 156/200\n",
      "3/3 [==============================] - ETA: 0s - loss: 0.0587 - batch_accuracy: 0.0000e+ - 0s - loss: 0.0434 - batch_accuracy: 0.0000e+00 - val_loss: 14.1546 - val_batch_accuracy: 0.0000e+00\n",
      "Epoch 157/200\n"
     ]
    },
    {
     "name": "stdout",
     "output_type": "stream",
     "text": [
      "3/3 [==============================] - 0s - loss: 0.0446 - batch_accuracy: 0.0000e+00 - val_loss: 14.2396 - val_batch_accuracy: 0.0000e+00\n",
      "Epoch 158/200\n",
      "3/3 [==============================] - 0s - loss: 0.0441 - batch_accuracy: 0.0000e+00 - val_loss: 14.4772 - val_batch_accuracy: 0.0000e+00\n",
      "Epoch 159/200\n",
      "3/3 [==============================] - 0s - loss: 0.0360 - batch_accuracy: 0.0000e+00 - val_loss: 14.4136 - val_batch_accuracy: 0.0000e+00\n",
      "Epoch 160/200\n",
      "3/3 [==============================] - ETA: 0s - loss: 0.0440 - batch_accuracy: 0.0000e+ - 0s - loss: 0.0328 - batch_accuracy: 0.0000e+00 - val_loss: 14.4265 - val_batch_accuracy: 0.0000e+00\n",
      "Epoch 161/200\n",
      "3/3 [==============================] - 0s - loss: 0.0313 - batch_accuracy: 0.0000e+00 - val_loss: 14.4926 - val_batch_accuracy: 0.0000e+00\n",
      "Epoch 162/200\n",
      "3/3 [==============================] - 0s - loss: 0.0296 - batch_accuracy: 0.0000e+00 - val_loss: 14.5436 - val_batch_accuracy: 0.0000e+00\n",
      "Epoch 163/200\n",
      "3/3 [==============================] - ETA: 0s - loss: 0.0220 - batch_accuracy: 0.0000e+ - 0s - loss: 0.0312 - batch_accuracy: 0.0000e+00 - val_loss: 14.6232 - val_batch_accuracy: 0.0000e+00\n",
      "Epoch 164/200\n",
      "3/3 [==============================] - 0s - loss: 0.0311 - batch_accuracy: 0.0000e+00 - val_loss: 14.7586 - val_batch_accuracy: 0.0000e+00\n",
      "Epoch 165/200\n",
      "3/3 [==============================] - 0s - loss: 0.0276 - batch_accuracy: 0.0000e+00 - val_loss: 15.0032 - val_batch_accuracy: 0.0000e+00\n",
      "Epoch 166/200\n",
      "3/3 [==============================] - ETA: 0s - loss: 0.0294 - batch_accuracy: 0.0000e+ - 0s - loss: 0.0232 - batch_accuracy: 0.0000e+00 - val_loss: 14.9062 - val_batch_accuracy: 0.0000e+00\n",
      "Epoch 167/200\n",
      "3/3 [==============================] - 0s - loss: 0.0216 - batch_accuracy: 0.0000e+00 - val_loss: 14.9282 - val_batch_accuracy: 0.0000e+00\n",
      "Epoch 168/200\n",
      "3/3 [==============================] - 0s - loss: 0.0210 - batch_accuracy: 0.0000e+00 - val_loss: 15.1540 - val_batch_accuracy: 0.0000e+00\n",
      "Epoch 169/200\n",
      "3/3 [==============================] - 0s - loss: 0.0176 - batch_accuracy: 0.0000e+00 - val_loss: 15.0791 - val_batch_accuracy: 0.0000e+00\n",
      "Epoch 170/200\n",
      "3/3 [==============================] - 0s - loss: 0.0169 - batch_accuracy: 0.0000e+00 - val_loss: 15.2517 - val_batch_accuracy: 0.0000e+00\n",
      "Epoch 171/200\n",
      "3/3 [==============================] - 0s - loss: 0.0157 - batch_accuracy: 0.0000e+00 - val_loss: 15.1808 - val_batch_accuracy: 0.0000e+00\n",
      "Epoch 172/200\n",
      "3/3 [==============================] - 0s - loss: 0.0146 - batch_accuracy: 0.0000e+00 - val_loss: 15.2312 - val_batch_accuracy: 0.0000e+00\n",
      "Epoch 173/200\n",
      "3/3 [==============================] - 0s - loss: 0.0143 - batch_accuracy: 0.0000e+00 - val_loss: 15.3676 - val_batch_accuracy: 0.0000e+00\n",
      "Epoch 174/200\n",
      "3/3 [==============================] - 0s - loss: 0.0122 - batch_accuracy: 0.0000e+00 - val_loss: 15.3874 - val_batch_accuracy: 0.0000e+00\n",
      "Epoch 175/200\n",
      "3/3 [==============================] - 0s - loss: 0.0109 - batch_accuracy: 0.0000e+00 - val_loss: 15.4274 - val_batch_accuracy: 0.0000e+00\n",
      "Epoch 176/200\n",
      "3/3 [==============================] - 0s - loss: 0.0110 - batch_accuracy: 0.0000e+00 - val_loss: 15.5011 - val_batch_accuracy: 0.0000e+00\n",
      "Epoch 177/200\n",
      "3/3 [==============================] - 0s - loss: 0.0102 - batch_accuracy: 0.0000e+00 - val_loss: 15.5386 - val_batch_accuracy: 0.0000e+00\n",
      "Epoch 178/200\n",
      "3/3 [==============================] - 0s - loss: 0.0095 - batch_accuracy: 0.0000e+00 - val_loss: 15.6097 - val_batch_accuracy: 0.0000e+00\n",
      "Epoch 179/200\n",
      "3/3 [==============================] - 0s - loss: 0.0087 - batch_accuracy: 0.0000e+00 - val_loss: 15.6484 - val_batch_accuracy: 0.0000e+00\n",
      "Epoch 180/200\n",
      "3/3 [==============================] - 0s - loss: 0.0075 - batch_accuracy: 0.0000e+00 - val_loss: 15.7393 - val_batch_accuracy: 0.0000e+00\n",
      "Epoch 181/200\n",
      "3/3 [==============================] - 0s - loss: 0.0069 - batch_accuracy: 0.0000e+00 - val_loss: 15.7801 - val_batch_accuracy: 0.0000e+00\n",
      "Epoch 182/200\n",
      "3/3 [==============================] - 0s - loss: 0.0064 - batch_accuracy: 0.0000e+00 - val_loss: 15.8252 - val_batch_accuracy: 0.0000e+00\n",
      "Epoch 183/200\n",
      "3/3 [==============================] - 0s - loss: 0.0067 - batch_accuracy: 0.0000e+00 - val_loss: 16.0618 - val_batch_accuracy: 0.0000e+00\n",
      "Epoch 184/200\n",
      "3/3 [==============================] - 0s - loss: 0.0060 - batch_accuracy: 0.0000e+00 - val_loss: 15.9508 - val_batch_accuracy: 0.0000e+00\n",
      "Epoch 185/200\n",
      "3/3 [==============================] - 0s - loss: 0.0053 - batch_accuracy: 0.0000e+00 - val_loss: 15.9852 - val_batch_accuracy: 0.0000e+00\n",
      "Epoch 186/200\n",
      "3/3 [==============================] - 0s - loss: 0.0053 - batch_accuracy: 0.0000e+00 - val_loss: 16.2495 - val_batch_accuracy: 0.0000e+00\n",
      "Epoch 187/200\n",
      "3/3 [==============================] - 0s - loss: 0.0042 - batch_accuracy: 0.0000e+00 - val_loss: 16.1518 - val_batch_accuracy: 0.0000e+00\n",
      "Epoch 188/200\n",
      "3/3 [==============================] - 0s - loss: 0.0039 - batch_accuracy: 0.0000e+00 - val_loss: 16.3340 - val_batch_accuracy: 0.0000e+00\n",
      "Epoch 189/200\n",
      "3/3 [==============================] - 0s - loss: 0.0039 - batch_accuracy: 0.0000e+00 - val_loss: 16.4370 - val_batch_accuracy: 0.0000e+00\n",
      "Epoch 190/200\n",
      "3/3 [==============================] - 0s - loss: 0.0032 - batch_accuracy: 0.0000e+00 - val_loss: 16.3205 - val_batch_accuracy: 0.0000e+00\n",
      "Epoch 191/200\n",
      "3/3 [==============================] - 0s - loss: 0.0029 - batch_accuracy: 0.0000e+00 - val_loss: 16.3396 - val_batch_accuracy: 0.0000e+00\n",
      "Epoch 192/200\n",
      "3/3 [==============================] - 0s - loss: 0.0027 - batch_accuracy: 0.0000e+00 - val_loss: 16.4415 - val_batch_accuracy: 0.0000e+00\n",
      "Epoch 193/200\n",
      "3/3 [==============================] - 0s - loss: 0.0023 - batch_accuracy: 0.0000e+00 - val_loss: 16.4520 - val_batch_accuracy: 0.0000e+00\n",
      "Epoch 194/200\n",
      "3/3 [==============================] - 0s - loss: 0.0022 - batch_accuracy: 0.0000e+00 - val_loss: 16.7087 - val_batch_accuracy: 0.0000e+00\n",
      "Epoch 195/200\n",
      "3/3 [==============================] - 0s - loss: 0.0020 - batch_accuracy: 0.0000e+00 - val_loss: 16.5832 - val_batch_accuracy: 0.0000e+00\n",
      "Epoch 196/200\n",
      "3/3 [==============================] - 0s - loss: 0.0018 - batch_accuracy: 0.0000e+00 - val_loss: 16.6002 - val_batch_accuracy: 0.0000e+00\n",
      "Epoch 197/200\n",
      "3/3 [==============================] - 0s - loss: 0.0017 - batch_accuracy: 0.0000e+00 - val_loss: 16.6270 - val_batch_accuracy: 0.0000e+00\n",
      "Epoch 198/200\n",
      "3/3 [==============================] - ETA: 0s - loss: 0.0019 - batch_accuracy: 0.0000e+ - 0s - loss: 0.0015 - batch_accuracy: 0.0000e+00 - val_loss: 16.6869 - val_batch_accuracy: 0.0000e+00\n",
      "Epoch 199/200\n",
      "3/3 [==============================] - 0s - loss: 0.0014 - batch_accuracy: 0.0000e+00 - val_loss: 16.7068 - val_batch_accuracy: 0.0000e+00\n",
      "Epoch 200/200\n",
      "3/3 [==============================] - 0s - loss: 0.0013 - batch_accuracy: 0.0000e+00 - val_loss: 16.7405 - val_batch_accuracy: 0.0000e+00\n"
     ]
    },
    {
     "data": {
      "text/plain": [
       "<keras.callbacks.History at 0x7f5ed663a510>"
      ]
     },
     "execution_count": 66,
     "metadata": {},
     "output_type": "execute_result"
    }
   ],
   "source": [
    "model.fit(x_train, y_train, \n",
    "          batch_size = bs, verbose = 1, epochs = 200, \n",
    "          validation_data=(x_validation, y_validation))"
   ]
  },
  {
   "cell_type": "markdown",
   "metadata": {
    "collapsed": true
   },
   "source": [
    "# Evaluate the trained model on data it has never seen"
   ]
  },
  {
   "cell_type": "code",
   "execution_count": 62,
   "metadata": {
    "ExecuteTime": {
     "end_time": "2017-08-30T21:16:10.234299Z",
     "start_time": "2017-08-30T21:16:10.229590Z"
    }
   },
   "outputs": [
    {
     "name": "stdout",
     "output_type": "stream",
     "text": [
      "predicted : 100001\n",
      "truth : 100004\n"
     ]
    }
   ],
   "source": [
    "if False:\n",
    "    results = model.evaluate(x_test, y_test)\n",
    "    print(\"\\nloss    : {}\\naccuracy: {}\".format(results[0], results[1] * 100))\n",
    "    \n",
    "output = model.predict(x_test)[0]\n",
    "pred_digits = one_hot_decode_digits_to_str(output)\n",
    "truth_digits = one_hot_decode_digits_to_str(y_test[0])\n",
    "\n",
    "print 'predicted :', pred_digits\n",
    "print 'truth :', truth_digits"
   ]
  },
  {
   "cell_type": "code",
   "execution_count": null,
   "metadata": {
    "collapsed": true
   },
   "outputs": [],
   "source": []
  }
 ],
 "metadata": {
  "kernelspec": {
   "display_name": "Python 2",
   "language": "python",
   "name": "python2"
  },
  "language_info": {
   "codemirror_mode": {
    "name": "ipython",
    "version": 2
   },
   "file_extension": ".py",
   "mimetype": "text/x-python",
   "name": "python",
   "nbconvert_exporter": "python",
   "pygments_lexer": "ipython2",
   "version": "2.7.12"
  }
 },
 "nbformat": 4,
 "nbformat_minor": 2
}
