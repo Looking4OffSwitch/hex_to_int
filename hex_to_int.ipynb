{
 "cells": [
  {
   "cell_type": "markdown",
   "metadata": {},
   "source": [
    "# Use a DNN to learn the mapping between a hex string and a digit string\n",
    "\n",
    "The goal is to use a Keras Sequential model to learn the mapping between a hex string (e.g. \"dbb9f\") and digit string (e.g. \"899999\"). The digit string represents the base numerical 10 value of the hex string."
   ]
  },
  {
   "cell_type": "code",
   "execution_count": 22,
   "metadata": {
    "ExecuteTime": {
     "end_time": "2017-08-30T21:16:08.587867Z",
     "start_time": "2017-08-30T21:16:05.537099Z"
    }
   },
   "outputs": [],
   "source": [
    "import os\n",
    "import keras\n",
    "from keras import models\n",
    "from keras import layers\n",
    "import numpy as np\n",
    "import pandas as pd\n",
    "\n",
    "import tensorflow as tf\n",
    "from keras.layers import Input, Dense, Reshape, Flatten\n",
    "from keras.models import Sequential\n",
    "import numpy as np\n"
   ]
  },
  {
   "cell_type": "markdown",
   "metadata": {},
   "source": [
    "## Data and Methods for One Hot Encoding"
   ]
  },
  {
   "cell_type": "code",
   "execution_count": 23,
   "metadata": {
    "ExecuteTime": {
     "end_time": "2017-08-30T21:16:08.630504Z",
     "start_time": "2017-08-30T21:16:08.589567Z"
    },
    "collapsed": true
   },
   "outputs": [],
   "source": [
    "digits = \"0123456789\"\n",
    "hex_digits = digits + \"abcdef\"\n",
    "\n",
    "digits_char_to_int = dict((c, i) for i, c in enumerate(digits))\n",
    "digits_int_to_char = dict((i, c) for i, c in enumerate(digits))\n",
    "\n",
    "hex_char_to_int = dict((c, i) for i, c in enumerate(hex_digits))\n",
    "hex_int_to_char = dict((i, c) for i, c in enumerate(hex_digits))\n",
    "\n",
    "# Encoding\n",
    "\n",
    "def one_hot_encode_hex_string(str):\n",
    "    int_encoded = [hex_char_to_int[c] for c in str]\n",
    "    return keras.utils.to_categorical(int_encoded, num_classes=len(hex_digits))\n",
    "\n",
    "def one_hot_encode_digits_string(str):\n",
    "    int_encoded = [digits_char_to_int[c] for c in str]\n",
    "    return keras.utils.to_categorical(int_encoded, num_classes=len(digits))\n",
    "\n",
    "# Decoding\n",
    "\n",
    "def one_hot_decode_hex_to_str(arr):\n",
    "    s = \"\"\n",
    "    for row in arr:\n",
    "        s += hex_int_to_char[np.argmax(row)]\n",
    "    return s   \n",
    "\n",
    "def one_hot_decode_digits_to_str(arr):\n",
    "    s = \"\"\n",
    "    for row in arr:\n",
    "        s += digits_int_to_char[np.argmax(row)]\n",
    "    return s   "
   ]
  },
  {
   "cell_type": "markdown",
   "metadata": {
    "ExecuteTime": {
     "end_time": "2017-08-30T19:27:20.958431Z",
     "start_time": "2017-08-30T19:27:20.933929Z"
    }
   },
   "source": [
    "## Example hex string\n",
    "#### Model Input"
   ]
  },
  {
   "cell_type": "code",
   "execution_count": 24,
   "metadata": {
    "ExecuteTime": {
     "end_time": "2017-08-30T21:16:08.640953Z",
     "start_time": "2017-08-30T21:16:08.632589Z"
    }
   },
   "outputs": [
    {
     "name": "stdout",
     "output_type": "stream",
     "text": [
      "[[ 0.  1.  0.  0.  0.  0.  0.  0.  0.  0.  0.  0.  0.  0.  0.  0.]\n",
      " [ 0.  0.  0.  0.  0.  0.  0.  0.  1.  0.  0.  0.  0.  0.  0.  0.]\n",
      " [ 0.  0.  0.  0.  0.  0.  1.  0.  0.  0.  0.  0.  0.  0.  0.  0.]\n",
      " [ 0.  0.  0.  0.  0.  0.  0.  0.  0.  0.  1.  0.  0.  0.  0.  0.]\n",
      " [ 0.  0.  1.  0.  0.  0.  0.  0.  0.  0.  0.  0.  0.  0.  0.  0.]]\n",
      "(5, 16)\n",
      "186a2\n"
     ]
    }
   ],
   "source": [
    "# A input/hex string is *always* 5 characters\n",
    "# Range: \"186a0\" - \"dbb9f\"\n",
    "\n",
    "hex_str = \"186a2\"\n",
    "\n",
    "one_hot_encoded = one_hot_encode_hex_string(hex_str)\n",
    "print(one_hot_encoded)\n",
    "print(one_hot_encoded.shape)\n",
    "original_string = one_hot_decode_hex_to_str(one_hot_encoded)\n",
    "print(original_string)"
   ]
  },
  {
   "cell_type": "markdown",
   "metadata": {},
   "source": [
    "## Example digit string\n",
    "#### Training label"
   ]
  },
  {
   "cell_type": "code",
   "execution_count": 25,
   "metadata": {
    "ExecuteTime": {
     "end_time": "2017-08-30T21:16:08.649999Z",
     "start_time": "2017-08-30T21:16:08.642860Z"
    }
   },
   "outputs": [
    {
     "name": "stdout",
     "output_type": "stream",
     "text": [
      "[[ 0.  1.  0.  0.  0.  0.  0.  0.  0.  0.]\n",
      " [ 1.  0.  0.  0.  0.  0.  0.  0.  0.  0.]\n",
      " [ 1.  0.  0.  0.  0.  0.  0.  0.  0.  0.]\n",
      " [ 1.  0.  0.  0.  0.  0.  0.  0.  0.  0.]\n",
      " [ 1.  0.  0.  0.  0.  0.  0.  0.  0.  0.]\n",
      " [ 0.  0.  1.  0.  0.  0.  0.  0.  0.  0.]]\n",
      "(6, 10)\n",
      "100002\n"
     ]
    }
   ],
   "source": [
    "# A label/digit string is *always* 6 characters\n",
    "# Range: \"100000\" - \"899999\"\n",
    "\n",
    "digit_str = \"100002\"\n",
    "\n",
    "one_hot_encoded = one_hot_encode_digits_string(digit_str)\n",
    "print(one_hot_encoded)\n",
    "print(one_hot_encoded.shape)\n",
    "original_string = one_hot_decode_digits_to_str(one_hot_encoded)\n",
    "print(original_string)"
   ]
  },
  {
   "cell_type": "markdown",
   "metadata": {},
   "source": [
    "## Create Data"
   ]
  },
  {
   "cell_type": "code",
   "execution_count": 26,
   "metadata": {
    "ExecuteTime": {
     "end_time": "2017-08-30T21:16:09.519148Z",
     "start_time": "2017-08-30T21:16:08.651524Z"
    }
   },
   "outputs": [],
   "source": [
    "def create_csv(fname, start_num, count):\n",
    "    \"\"\"\n",
    "    Create a csv named fname containing n count.\n",
    "    Each row will contain:\n",
    "        * number (starting at start_num)\n",
    "            * incremented by 1 each row\n",
    "        * the hex value of the string version of number\n",
    "    \"\"\"\n",
    "    with open(fname, \"w+\") as f:\n",
    "        result_str = \"\"\n",
    "\n",
    "        end_num = start_num + count\n",
    "        i = start_num\n",
    "\n",
    "        while i < end_num:\n",
    "            s = str(i)\n",
    "            hex_str = hex(i)[2:] # drop the leading \"0x\"\n",
    "\n",
    "            result_str += \"{},{}\\n\".format(s, hex_str)\n",
    "            i += 1\n",
    "\n",
    "        f.write(\"string,hex\\n\")\n",
    "        f.write(result_str)\n",
    "        \n",
    "data_filename = 'data.csv'        \n",
    "\n",
    "# Create it if it doesn't already exist\n",
    "if not os.path.isfile(data_filename):\n",
    "    # from 100_000 (0x186a0) to 899_999 (0xdbb9f)\n",
    "    create_csv(data_filename, 100000, 800000)"
   ]
  },
  {
   "cell_type": "markdown",
   "metadata": {},
   "source": [
    "## Load data"
   ]
  },
  {
   "cell_type": "code",
   "execution_count": 27,
   "metadata": {
    "ExecuteTime": {
     "end_time": "2017-08-30T21:16:10.130403Z",
     "start_time": "2017-08-30T21:16:09.521039Z"
    }
   },
   "outputs": [
    {
     "data": {
      "text/html": [
       "<div>\n",
       "<style>\n",
       "    .dataframe thead tr:only-child th {\n",
       "        text-align: right;\n",
       "    }\n",
       "\n",
       "    .dataframe thead th {\n",
       "        text-align: left;\n",
       "    }\n",
       "\n",
       "    .dataframe tbody tr th {\n",
       "        vertical-align: top;\n",
       "    }\n",
       "</style>\n",
       "<table border=\"1\" class=\"dataframe\">\n",
       "  <thead>\n",
       "    <tr style=\"text-align: right;\">\n",
       "      <th></th>\n",
       "      <th>string</th>\n",
       "      <th>hex</th>\n",
       "    </tr>\n",
       "  </thead>\n",
       "  <tbody>\n",
       "    <tr>\n",
       "      <th>0</th>\n",
       "      <td>100000</td>\n",
       "      <td>186a0</td>\n",
       "    </tr>\n",
       "    <tr>\n",
       "      <th>1</th>\n",
       "      <td>100001</td>\n",
       "      <td>186a1</td>\n",
       "    </tr>\n",
       "    <tr>\n",
       "      <th>2</th>\n",
       "      <td>100002</td>\n",
       "      <td>186a2</td>\n",
       "    </tr>\n",
       "    <tr>\n",
       "      <th>3</th>\n",
       "      <td>100003</td>\n",
       "      <td>186a3</td>\n",
       "    </tr>\n",
       "    <tr>\n",
       "      <th>4</th>\n",
       "      <td>100004</td>\n",
       "      <td>186a4</td>\n",
       "    </tr>\n",
       "  </tbody>\n",
       "</table>\n",
       "</div>"
      ],
      "text/plain": [
       "   string    hex\n",
       "0  100000  186a0\n",
       "1  100001  186a1\n",
       "2  100002  186a2\n",
       "3  100003  186a3\n",
       "4  100004  186a4"
      ]
     },
     "execution_count": 27,
     "metadata": {},
     "output_type": "execute_result"
    }
   ],
   "source": [
    "df = pd.read_csv(data_filename, dtype={'string': str, 'hex': str})\n",
    "\n",
    "# Used to test with less data\n",
    "use_full_dataset = False\n",
    "\n",
    "if not use_full_dataset:\n",
    "    df = df[0:5]\n",
    "\n",
    "# randomize rows when using the full dataset\n",
    "if use_full_dataset:\n",
    "    df = df.sample(frac=1).reset_index(drop=True)\n",
    "    df.set_index('string')\n",
    "\n",
    "df.head()"
   ]
  },
  {
   "cell_type": "markdown",
   "metadata": {
    "ExecuteTime": {
     "end_time": "2017-08-30T19:47:33.088284Z",
     "start_time": "2017-08-30T19:47:33.086195Z"
    }
   },
   "source": [
    "## One hot encode all hex and label strings"
   ]
  },
  {
   "cell_type": "code",
   "execution_count": 28,
   "metadata": {
    "ExecuteTime": {
     "end_time": "2017-08-30T21:16:10.144767Z",
     "start_time": "2017-08-30T21:16:10.131959Z"
    }
   },
   "outputs": [
    {
     "name": "stdout",
     "output_type": "stream",
     "text": [
      "(5, 6, 10)\n",
      "(5, 5, 16)\n"
     ]
    }
   ],
   "source": [
    "all_labels_encoded = []\n",
    "all_hexes_encoded   = []\n",
    "\n",
    "for row in df.itertuples():\n",
    "    label_string = row[1] # row['string']\n",
    "    hex_str      = row[2] # row['hex']\n",
    "\n",
    "    label_encoded = one_hot_encode_digits_string(label_string)\n",
    "    hex_encoded   = one_hot_encode_hex_string(hex_str)\n",
    "\n",
    "    all_labels_encoded.append(label_encoded)\n",
    "    all_hexes_encoded.append(hex_encoded)\n",
    "\n",
    "all_labels_encoded = np.asarray(all_labels_encoded)\n",
    "all_hexes_encoded  = np.asarray(all_hexes_encoded)\n",
    "\n",
    "print(all_labels_encoded.shape)\n",
    "print(all_hexes_encoded.shape)"
   ]
  },
  {
   "cell_type": "markdown",
   "metadata": {
    "ExecuteTime": {
     "end_time": "2017-08-30T19:48:23.316727Z",
     "start_time": "2017-08-30T19:48:23.314334Z"
    }
   },
   "source": [
    "## Verify that encoding decoding works"
   ]
  },
  {
   "cell_type": "code",
   "execution_count": 29,
   "metadata": {
    "ExecuteTime": {
     "end_time": "2017-08-30T21:16:10.151748Z",
     "start_time": "2017-08-30T21:16:10.146299Z"
    }
   },
   "outputs": [
    {
     "name": "stdout",
     "output_type": "stream",
     "text": [
      "('100000', '->', '186a0')\n",
      "('100001', '->', '186a1')\n",
      "('100002', '->', '186a2')\n",
      "('100003', '->', '186a3')\n",
      "('100004', '->', '186a4')\n"
     ]
    }
   ],
   "source": [
    "for i in range(5):\n",
    "    print(one_hot_decode_digits_to_str(all_labels_encoded[i]), \n",
    "          \"->\", \n",
    "          one_hot_decode_hex_to_str(all_hexes_encoded[i]))"
   ]
  },
  {
   "cell_type": "markdown",
   "metadata": {},
   "source": [
    "## Split encoded arrays into training, validation, and test sets"
   ]
  },
  {
   "cell_type": "code",
   "execution_count": 30,
   "metadata": {
    "ExecuteTime": {
     "end_time": "2017-08-30T21:16:10.178956Z",
     "start_time": "2017-08-30T21:16:10.152988Z"
    }
   },
   "outputs": [
    {
     "name": "stdout",
     "output_type": "stream",
     "text": [
      "('Total expected  :', 5)\n",
      "('Total calculated:', 5)\n",
      "('Training examples:', 3)\n",
      "('Validation examples:', 1)\n",
      "('Test examples', 1)\n"
     ]
    }
   ],
   "source": [
    "if use_full_dataset:\n",
    "    n_training_examples   = int(example_cnt * 0.7)\n",
    "    n_validation_examples = int(example_cnt * 0.15)\n",
    "    n_test_examples       = int(example_cnt * 0.15)\n",
    "else:\n",
    "    n_training_examples   = 3\n",
    "    n_validation_examples = 1\n",
    "    n_test_examples       = 1\n",
    "\n",
    "print(\"Total expected  :\", len(df))\n",
    "print(\"Total calculated:\", n_training_examples + n_validation_examples + n_test_examples)\n",
    "\n",
    "x_train = all_hexes_encoded[:n_training_examples]\n",
    "y_train = all_labels_encoded[:n_training_examples]\n",
    "print(\"Training examples:\", len(x_train))\n",
    "\n",
    "x_validation = all_hexes_encoded[n_training_examples  : n_training_examples + n_validation_examples]\n",
    "y_validation = all_labels_encoded[n_training_examples : n_training_examples + n_validation_examples]\n",
    "print(\"Validation examples:\", len(x_validation))\n",
    "\n",
    "x_test = all_hexes_encoded[len(all_hexes_encoded) - n_test_examples:]\n",
    "y_test = all_labels_encoded[len(all_labels_encoded) - n_test_examples:]\n",
    "print(\"Test examples\", len(x_test))"
   ]
  },
  {
   "cell_type": "markdown",
   "metadata": {},
   "source": [
    "## Shape of training and label data"
   ]
  },
  {
   "cell_type": "code",
   "execution_count": 31,
   "metadata": {
    "ExecuteTime": {
     "end_time": "2017-08-30T21:16:10.185869Z",
     "start_time": "2017-08-30T21:16:10.180818Z"
    }
   },
   "outputs": [
    {
     "name": "stdout",
     "output_type": "stream",
     "text": [
      "('x_train.shape:', (3, 5, 16))\n",
      "('y_train.shape:', (3, 6, 10))\n"
     ]
    }
   ],
   "source": [
    "print(\"x_train.shape:\", x_train.shape)\n",
    "print(\"y_train.shape:\", y_train.shape)"
   ]
  },
  {
   "cell_type": "markdown",
   "metadata": {},
   "source": [
    "## Verify our dimensions match our expectations"
   ]
  },
  {
   "cell_type": "code",
   "execution_count": 32,
   "metadata": {
    "ExecuteTime": {
     "end_time": "2017-08-30T21:16:10.201200Z",
     "start_time": "2017-08-30T21:16:10.187691Z"
    }
   },
   "outputs": [
    {
     "name": "stdout",
     "output_type": "stream",
     "text": [
      "('Training dimensions match:', True)\n",
      "('Label dimensions match:', True)\n"
     ]
    }
   ],
   "source": [
    "#\n",
    "# Dimensions of the input matrix: one hot encoded hex string (.e.g \"186a2\")\n",
    "#\n",
    "\n",
    "# fixed length (in chars) of a hex string\n",
    "hex_n = len(one_hot_decode_hex_to_str(all_hexes_encoded[0]))\n",
    "\n",
    "# number of symbols in the \"alphabet\" of a hex string\n",
    "hex_k = len(hex_digits)\n",
    "\n",
    "print(\"Training dimensions match:\", x_train.shape[1:3] == (hex_n, hex_k))\n",
    "\n",
    "#\n",
    "# Dimensions of the label matrix: one hot encoded digits string (.e.g \"100002\")\n",
    "#\n",
    "\n",
    "# fixed length (in chars) of a hex string\n",
    "label_n = len(one_hot_decode_digits_to_str(all_labels_encoded[0]))\n",
    "\n",
    "# number of symbols in the \"alphabet\" of a digits string\n",
    "label_k = len(digits)\n",
    "\n",
    "print(\"Label dimensions match:\", y_train.shape[1:3] == (label_n, label_k))"
   ]
  },
  {
   "cell_type": "markdown",
   "metadata": {},
   "source": [
    "# Build and compile model\n",
    "\n",
    "### Questions\n",
    "* How do we determine the correct number of nodes in the initial layer?\n",
    "* The shape of the input data is `(5, 16)` and the shape of our labels is `(6, 10)`. How do we define a model that can convert between these differing dimensions?\n",
    "* Do we have to create our own [loss function implementation](https://stackoverflow.com/questions/43576922/keras-custom-metric-iteration) to make this work?"
   ]
  },
  {
   "cell_type": "code",
   "execution_count": 44,
   "metadata": {
    "ExecuteTime": {
     "end_time": "2017-08-30T21:16:10.222200Z",
     "start_time": "2017-08-30T21:16:10.203035Z"
    }
   },
   "outputs": [
    {
     "name": "stdout",
     "output_type": "stream",
     "text": [
      "Tensor(\"reshape_11_target:0\", shape=(?, ?, ?), dtype=float32)\n",
      "Tensor(\"reshape_11/Reshape:0\", shape=(?, 6, 10), dtype=float32)\n"
     ]
    }
   ],
   "source": [
    "n = 5 #input size\n",
    "m = 6 #output size\n",
    "l = 16 #input alphabet size\n",
    "k = 10 #output alpahbet size\n",
    "bs = 2 #batch size\n",
    "\n",
    "\n",
    "model = Sequential()\n",
    "model.add(Flatten(input_shape = (n,l)))\n",
    "model.add(Dense(64, activation = 'relu'))\n",
    "model.add(Dense(64, activation = 'relu'))\n",
    "model.add(Dense(64, activation = 'relu'))\n",
    "model.add(Dense(m * k, activation=None))\n",
    "model.add(Reshape((m, k)))\n",
    "\n",
    "def flattened_crossentropy(truth, pred):\n",
    "    \n",
    "    print truth\n",
    "    print pred\n",
    "    \n",
    "    batch_size = tf.shape(truth)[0]\n",
    "    #input shapes are BxMxK where B is batchsize\n",
    "    #reshape so that every row is a separate probability distribution\n",
    "    truth = tf.reshape(truth, (-1, k))\n",
    "    pred = tf.reshape(pred, (-1, k))\n",
    "    ce = tf.nn.softmax_cross_entropy_with_logits(labels = truth, logits = pred)\n",
    "    #crossentropy is now bs * m, and we want it reshaped to bs x m\n",
    "    ce = tf.reshape(ce, (batch_size,-1))\n",
    "    loss = tf.reduce_sum(ce, axis = 1)\n",
    "    return loss\n",
    "\n",
    "model.compile(optimizer='rmsprop', \n",
    "              loss=flattened_crossentropy)\n"
   ]
  },
  {
   "cell_type": "markdown",
   "metadata": {},
   "source": [
    "## Train"
   ]
  },
  {
   "cell_type": "code",
   "execution_count": 45,
   "metadata": {
    "ExecuteTime": {
     "end_time": "2017-08-30T21:16:10.227412Z",
     "start_time": "2017-08-30T21:16:10.223969Z"
    }
   },
   "outputs": [
    {
     "name": "stdout",
     "output_type": "stream",
     "text": [
      "Train on 3 samples, validate on 1 samples\n",
      "Epoch 1/200\n",
      "3/3 [==============================] - 0s - loss: 13.9518 - val_loss: 13.6037\n",
      "Epoch 2/200\n",
      "3/3 [==============================] - 0s - loss: 13.2179 - val_loss: 13.0748\n",
      "Epoch 3/200\n",
      "3/3 [==============================] - 0s - loss: 12.6374 - val_loss: 12.5718\n",
      "Epoch 4/200\n",
      "3/3 [==============================] - 0s - loss: 12.0075 - val_loss: 11.9898\n",
      "Epoch 5/200\n",
      "3/3 [==============================] - 0s - loss: 11.2698 - val_loss: 11.3193\n",
      "Epoch 6/200\n",
      "3/3 [==============================] - 0s - loss: 10.4514 - val_loss: 10.5758\n",
      "Epoch 7/200\n",
      "3/3 [==============================] - 0s - loss: 9.5497 - val_loss: 9.7799\n",
      "Epoch 8/200\n",
      "3/3 [==============================] - 0s - loss: 8.5804 - val_loss: 8.9633\n",
      "Epoch 9/200\n",
      "3/3 [==============================] - 0s - loss: 7.5786 - val_loss: 8.1433\n",
      "Epoch 10/200\n",
      "3/3 [==============================] - 0s - loss: 6.5726 - val_loss: 7.3815\n",
      "Epoch 11/200\n",
      "3/3 [==============================] - 0s - loss: 5.6098 - val_loss: 6.7085\n",
      "Epoch 12/200\n",
      "3/3 [==============================] - 0s - loss: 4.7264 - val_loss: 6.1341\n",
      "Epoch 13/200\n",
      "3/3 [==============================] - 0s - loss: 3.9540 - val_loss: 5.6889\n",
      "Epoch 14/200\n",
      "3/3 [==============================] - ETA: 0s - loss: 3.470 - 0s - loss: 3.3268 - val_loss: 5.3779\n",
      "Epoch 15/200\n",
      "3/3 [==============================] - 0s - loss: 2.8275 - val_loss: 5.1768\n",
      "Epoch 16/200\n",
      "3/3 [==============================] - 0s - loss: 2.4403 - val_loss: 5.0587\n",
      "Epoch 17/200\n",
      "3/3 [==============================] - 0s - loss: 2.1509 - val_loss: 5.0160\n",
      "Epoch 18/200\n",
      "3/3 [==============================] - 0s - loss: 1.9197 - val_loss: 5.0120\n",
      "Epoch 19/200\n",
      "3/3 [==============================] - 0s - loss: 1.7556 - val_loss: 5.0470\n",
      "Epoch 20/200\n",
      "3/3 [==============================] - 0s - loss: 1.6277 - val_loss: 5.1096\n",
      "Epoch 21/200\n",
      "3/3 [==============================] - 0s - loss: 1.5311 - val_loss: 5.1907\n",
      "Epoch 22/200\n",
      "3/3 [==============================] - 0s - loss: 1.4584 - val_loss: 5.2851\n",
      "Epoch 23/200\n",
      "3/3 [==============================] - 0s - loss: 1.4001 - val_loss: 5.3669\n",
      "Epoch 24/200\n",
      "3/3 [==============================] - ETA: 0s - loss: 1.447 - 0s - loss: 1.3365 - val_loss: 5.4723\n",
      "Epoch 25/200\n",
      "3/3 [==============================] - 0s - loss: 1.2933 - val_loss: 5.5697\n",
      "Epoch 26/200\n",
      "3/3 [==============================] - 0s - loss: 1.2578 - val_loss: 5.6765\n",
      "Epoch 27/200\n",
      "3/3 [==============================] - 0s - loss: 1.2104 - val_loss: 5.7814\n",
      "Epoch 28/200\n",
      "3/3 [==============================] - ETA: 0s - loss: 1.203 - 0s - loss: 1.1919 - val_loss: 5.8888\n",
      "Epoch 29/200\n",
      "3/3 [==============================] - 0s - loss: 1.1756 - val_loss: 6.0026\n",
      "Epoch 30/200\n",
      "3/3 [==============================] - 0s - loss: 1.1643 - val_loss: 6.1072\n",
      "Epoch 31/200\n",
      "3/3 [==============================] - 0s - loss: 1.1311 - val_loss: 6.2046\n",
      "Epoch 32/200\n",
      "3/3 [==============================] - 0s - loss: 1.1132 - val_loss: 6.3111\n",
      "Epoch 33/200\n",
      "3/3 [==============================] - 0s - loss: 1.1146 - val_loss: 6.4275\n",
      "Epoch 34/200\n",
      "3/3 [==============================] - 0s - loss: 1.1005 - val_loss: 6.5219\n",
      "Epoch 35/200\n",
      "3/3 [==============================] - 0s - loss: 1.0856 - val_loss: 6.6108\n",
      "Epoch 36/200\n",
      "3/3 [==============================] - 0s - loss: 1.0869 - val_loss: 6.7160\n",
      "Epoch 37/200\n",
      "3/3 [==============================] - 0s - loss: 1.0620 - val_loss: 6.8011\n",
      "Epoch 38/200\n",
      "3/3 [==============================] - 0s - loss: 1.0591 - val_loss: 6.9041\n",
      "Epoch 39/200\n",
      "3/3 [==============================] - 0s - loss: 1.0569 - val_loss: 7.0014\n",
      "Epoch 40/200\n",
      "3/3 [==============================] - 0s - loss: 1.0370 - val_loss: 7.0852\n",
      "Epoch 41/200\n",
      "3/3 [==============================] - 0s - loss: 1.0388 - val_loss: 7.2069\n",
      "Epoch 42/200\n",
      "3/3 [==============================] - 0s - loss: 1.0374 - val_loss: 7.3297\n",
      "Epoch 43/200\n",
      "3/3 [==============================] - 0s - loss: 1.0425 - val_loss: 7.4477\n",
      "Epoch 44/200\n",
      "3/3 [==============================] - 0s - loss: 1.0387 - val_loss: 7.4959\n",
      "Epoch 45/200\n",
      "3/3 [==============================] - 0s - loss: 1.0142 - val_loss: 7.6128\n",
      "Epoch 46/200\n",
      "3/3 [==============================] - 0s - loss: 1.0123 - val_loss: 7.6825\n",
      "Epoch 47/200\n",
      "3/3 [==============================] - 0s - loss: 0.9979 - val_loss: 7.7778\n",
      "Epoch 48/200\n",
      "3/3 [==============================] - 0s - loss: 0.9995 - val_loss: 7.8403\n",
      "Epoch 49/200\n",
      "3/3 [==============================] - 0s - loss: 0.9861 - val_loss: 7.9235\n",
      "Epoch 50/200\n",
      "3/3 [==============================] - 0s - loss: 0.9838 - val_loss: 8.0168\n",
      "Epoch 51/200\n",
      "3/3 [==============================] - 0s - loss: 0.9884 - val_loss: 8.1233\n",
      "Epoch 52/200\n",
      "3/3 [==============================] - 0s - loss: 0.9917 - val_loss: 8.2273\n",
      "Epoch 53/200\n",
      "3/3 [==============================] - 0s - loss: 0.9858 - val_loss: 8.2598\n",
      "Epoch 54/200\n",
      "3/3 [==============================] - 0s - loss: 0.9517 - val_loss: 8.3774\n",
      "Epoch 55/200\n",
      "3/3 [==============================] - 0s - loss: 0.9305 - val_loss: 8.4673\n",
      "Epoch 56/200\n",
      "3/3 [==============================] - 0s - loss: 0.9285 - val_loss: 8.5272\n",
      "Epoch 57/200\n",
      "3/3 [==============================] - 0s - loss: 0.9206 - val_loss: 8.6544\n",
      "Epoch 58/200\n",
      "3/3 [==============================] - 0s - loss: 0.9054 - val_loss: 8.7171\n",
      "Epoch 59/200\n",
      "3/3 [==============================] - 0s - loss: 0.8998 - val_loss: 8.7623\n",
      "Epoch 60/200\n",
      "3/3 [==============================] - 0s - loss: 0.8957 - val_loss: 8.8857\n",
      "Epoch 61/200\n",
      "3/3 [==============================] - 0s - loss: 0.8812 - val_loss: 8.9761\n",
      "Epoch 62/200\n",
      "3/3 [==============================] - 0s - loss: 0.8803 - val_loss: 9.0798\n",
      "Epoch 63/200\n",
      "3/3 [==============================] - 0s - loss: 0.8807 - val_loss: 9.0854\n",
      "Epoch 64/200\n",
      "3/3 [==============================] - 0s - loss: 0.8616 - val_loss: 9.2180\n",
      "Epoch 65/200\n",
      "3/3 [==============================] - 0s - loss: 0.8491 - val_loss: 9.2841\n",
      "Epoch 66/200\n",
      "3/3 [==============================] - 0s - loss: 0.8423 - val_loss: 9.3773\n",
      "Epoch 67/200\n",
      "3/3 [==============================] - 0s - loss: 0.8381 - val_loss: 9.4739\n",
      "Epoch 68/200\n",
      "3/3 [==============================] - 0s - loss: 0.8372 - val_loss: 9.5359\n",
      "Epoch 69/200\n",
      "3/3 [==============================] - 0s - loss: 0.8262 - val_loss: 9.6516\n",
      "Epoch 70/200\n",
      "3/3 [==============================] - 0s - loss: 0.8238 - val_loss: 9.7664\n",
      "Epoch 71/200\n",
      "3/3 [==============================] - 0s - loss: 0.8230 - val_loss: 9.8690\n",
      "Epoch 72/200\n",
      "3/3 [==============================] - 0s - loss: 0.8238 - val_loss: 9.9557\n",
      "Epoch 73/200\n",
      "3/3 [==============================] - 0s - loss: 0.7833 - val_loss: 10.0078\n",
      "Epoch 74/200\n",
      "3/3 [==============================] - 0s - loss: 0.7671 - val_loss: 10.0987\n",
      "Epoch 75/200\n",
      "3/3 [==============================] - 0s - loss: 0.7623 - val_loss: 10.2067\n",
      "Epoch 76/200\n",
      "3/3 [==============================] - 0s - loss: 0.7614 - val_loss: 10.3131\n",
      "Epoch 77/200\n",
      "3/3 [==============================] - 0s - loss: 0.7330 - val_loss: 10.3967\n",
      "Epoch 78/200\n",
      "3/3 [==============================] - 0s - loss: 0.7323 - val_loss: 10.4950\n",
      "Epoch 79/200\n",
      "3/3 [==============================] - 0s - loss: 0.7393 - val_loss: 10.5986\n",
      "Epoch 80/200\n",
      "3/3 [==============================] - 0s - loss: 0.7160 - val_loss: 10.6695\n",
      "Epoch 81/200\n",
      "3/3 [==============================] - 0s - loss: 0.7141 - val_loss: 10.7133\n",
      "Epoch 82/200\n",
      "3/3 [==============================] - 0s - loss: 0.6914 - val_loss: 10.8538\n",
      "Epoch 83/200\n",
      "3/3 [==============================] - 0s - loss: 0.6863 - val_loss: 10.9738\n",
      "Epoch 84/200\n",
      "3/3 [==============================] - 0s - loss: 0.6771 - val_loss: 11.0297\n",
      "Epoch 85/200\n",
      "3/3 [==============================] - 0s - loss: 0.6601 - val_loss: 11.0788\n",
      "Epoch 86/200\n",
      "3/3 [==============================] - 0s - loss: 0.6405 - val_loss: 11.1908\n",
      "Epoch 87/200\n",
      "3/3 [==============================] - 0s - loss: 0.6400 - val_loss: 11.3190\n",
      "Epoch 88/200\n",
      "3/3 [==============================] - ETA: 0s - loss: 0.660 - 0s - loss: 0.6172 - val_loss: 11.4009\n",
      "Epoch 89/200\n",
      "3/3 [==============================] - 0s - loss: 0.6202 - val_loss: 11.5119\n",
      "Epoch 90/200\n",
      "3/3 [==============================] - 0s - loss: 0.6143 - val_loss: 11.6206\n",
      "Epoch 91/200\n"
     ]
    },
    {
     "name": "stdout",
     "output_type": "stream",
     "text": [
      "3/3 [==============================] - 0s - loss: 0.6142 - val_loss: 11.6184\n",
      "Epoch 92/200\n",
      "3/3 [==============================] - 0s - loss: 0.5787 - val_loss: 11.6992\n",
      "Epoch 93/200\n",
      "3/3 [==============================] - 0s - loss: 0.5685 - val_loss: 11.8208\n",
      "Epoch 94/200\n",
      "3/3 [==============================] - 0s - loss: 0.5601 - val_loss: 11.9076\n",
      "Epoch 95/200\n",
      "3/3 [==============================] - 0s - loss: 0.5462 - val_loss: 12.0301\n",
      "Epoch 96/200\n",
      "3/3 [==============================] - 0s - loss: 0.5361 - val_loss: 12.1619\n",
      "Epoch 97/200\n",
      "3/3 [==============================] - 0s - loss: 0.5202 - val_loss: 12.2889\n",
      "Epoch 98/200\n",
      "3/3 [==============================] - 0s - loss: 0.5219 - val_loss: 12.3268\n",
      "Epoch 99/200\n",
      "3/3 [==============================] - 0s - loss: 0.4958 - val_loss: 12.4278\n",
      "Epoch 100/200\n",
      "3/3 [==============================] - 0s - loss: 0.4870 - val_loss: 12.5281\n",
      "Epoch 101/200\n",
      "3/3 [==============================] - 0s - loss: 0.4763 - val_loss: 12.6175\n",
      "Epoch 102/200\n",
      "3/3 [==============================] - 0s - loss: 0.4649 - val_loss: 12.7531\n",
      "Epoch 103/200\n",
      "3/3 [==============================] - 0s - loss: 0.4387 - val_loss: 12.8181\n",
      "Epoch 104/200\n",
      "3/3 [==============================] - 0s - loss: 0.4341 - val_loss: 12.9311\n",
      "Epoch 105/200\n",
      "3/3 [==============================] - 0s - loss: 0.4205 - val_loss: 12.9944\n",
      "Epoch 106/200\n",
      "3/3 [==============================] - 0s - loss: 0.4177 - val_loss: 13.1082\n",
      "Epoch 107/200\n",
      "3/3 [==============================] - 0s - loss: 0.4150 - val_loss: 13.2002\n",
      "Epoch 108/200\n",
      "3/3 [==============================] - 0s - loss: 0.4127 - val_loss: 13.2792\n",
      "Epoch 109/200\n",
      "3/3 [==============================] - 0s - loss: 0.4036 - val_loss: 13.3591\n",
      "Epoch 110/200\n",
      "3/3 [==============================] - 0s - loss: 0.3932 - val_loss: 13.4309\n",
      "Epoch 111/200\n",
      "3/3 [==============================] - 0s - loss: 0.3872 - val_loss: 13.4301\n",
      "Epoch 112/200\n",
      "3/3 [==============================] - 0s - loss: 0.3408 - val_loss: 13.5498\n",
      "Epoch 113/200\n",
      "3/3 [==============================] - ETA: 0s - loss: 0.379 - 0s - loss: 0.3290 - val_loss: 13.6488\n",
      "Epoch 114/200\n",
      "3/3 [==============================] - 0s - loss: 0.3271 - val_loss: 13.7421\n",
      "Epoch 115/200\n",
      "3/3 [==============================] - 0s - loss: 0.3209 - val_loss: 13.8873\n",
      "Epoch 116/200\n",
      "3/3 [==============================] - 0s - loss: 0.3154 - val_loss: 13.9805\n",
      "Epoch 117/200\n",
      "3/3 [==============================] - 0s - loss: 0.3035 - val_loss: 13.9512\n",
      "Epoch 118/200\n",
      "3/3 [==============================] - 0s - loss: 0.2831 - val_loss: 14.0160\n",
      "Epoch 119/200\n",
      "3/3 [==============================] - 0s - loss: 0.2888 - val_loss: 14.0758\n",
      "Epoch 120/200\n",
      "3/3 [==============================] - ETA: 0s - loss: 0.234 - 0s - loss: 0.2625 - val_loss: 14.2599\n",
      "Epoch 121/200\n",
      "3/3 [==============================] - 0s - loss: 0.2467 - val_loss: 14.2966\n",
      "Epoch 122/200\n",
      "3/3 [==============================] - 0s - loss: 0.2472 - val_loss: 14.3792\n",
      "Epoch 123/200\n",
      "3/3 [==============================] - 0s - loss: 0.2371 - val_loss: 14.4946\n",
      "Epoch 124/200\n",
      "3/3 [==============================] - 0s - loss: 0.2202 - val_loss: 14.5129\n",
      "Epoch 125/200\n",
      "3/3 [==============================] - 0s - loss: 0.2035 - val_loss: 14.5743\n",
      "Epoch 126/200\n",
      "3/3 [==============================] - 0s - loss: 0.2077 - val_loss: 14.6513\n",
      "Epoch 127/200\n",
      "3/3 [==============================] - ETA: 0s - loss: 0.156 - 0s - loss: 0.1932 - val_loss: 14.8201\n",
      "Epoch 128/200\n",
      "3/3 [==============================] - 0s - loss: 0.1766 - val_loss: 14.8204\n",
      "Epoch 129/200\n",
      "3/3 [==============================] - 0s - loss: 0.1681 - val_loss: 14.8724\n",
      "Epoch 130/200\n",
      "3/3 [==============================] - 0s - loss: 0.1699 - val_loss: 15.0448\n",
      "Epoch 131/200\n",
      "3/3 [==============================] - 0s - loss: 0.1697 - val_loss: 15.0031\n",
      "Epoch 132/200\n",
      "3/3 [==============================] - ETA: 0s - loss: 0.159 - 0s - loss: 0.1452 - val_loss: 15.0406\n",
      "Epoch 133/200\n",
      "3/3 [==============================] - 0s - loss: 0.1437 - val_loss: 15.2192\n",
      "Epoch 134/200\n",
      "3/3 [==============================] - 0s - loss: 0.1368 - val_loss: 15.2258\n",
      "Epoch 135/200\n",
      "3/3 [==============================] - 0s - loss: 0.1367 - val_loss: 15.3169\n",
      "Epoch 136/200\n",
      "3/3 [==============================] - 0s - loss: 0.1303 - val_loss: 15.4261\n",
      "Epoch 137/200\n",
      "3/3 [==============================] - 0s - loss: 0.1254 - val_loss: 15.6114\n",
      "Epoch 138/200\n",
      "3/3 [==============================] - 0s - loss: 0.1157 - val_loss: 15.6315\n",
      "Epoch 139/200\n",
      "3/3 [==============================] - 0s - loss: 0.1105 - val_loss: 15.7585\n",
      "Epoch 140/200\n",
      "3/3 [==============================] - 0s - loss: 0.1014 - val_loss: 15.7820\n",
      "Epoch 141/200\n",
      "3/3 [==============================] - 0s - loss: 0.0922 - val_loss: 15.8602\n",
      "Epoch 142/200\n",
      "3/3 [==============================] - 0s - loss: 0.0943 - val_loss: 15.9549\n",
      "Epoch 143/200\n",
      "3/3 [==============================] - 0s - loss: 0.0858 - val_loss: 16.0015\n",
      "Epoch 144/200\n",
      "3/3 [==============================] - 0s - loss: 0.0813 - val_loss: 16.1997\n",
      "Epoch 145/200\n",
      "3/3 [==============================] - 0s - loss: 0.0766 - val_loss: 16.1623\n",
      "Epoch 146/200\n",
      "3/3 [==============================] - 0s - loss: 0.0755 - val_loss: 16.2377\n",
      "Epoch 147/200\n",
      "3/3 [==============================] - 0s - loss: 0.0677 - val_loss: 16.3090\n",
      "Epoch 148/200\n",
      "3/3 [==============================] - 0s - loss: 0.0641 - val_loss: 16.5045\n",
      "Epoch 149/200\n",
      "3/3 [==============================] - 0s - loss: 0.0610 - val_loss: 16.4726\n",
      "Epoch 150/200\n",
      "3/3 [==============================] - 0s - loss: 0.0599 - val_loss: 16.4862\n",
      "Epoch 151/200\n",
      "3/3 [==============================] - 0s - loss: 0.0537 - val_loss: 16.5386\n",
      "Epoch 152/200\n",
      "3/3 [==============================] - 0s - loss: 0.0522 - val_loss: 16.6452\n",
      "Epoch 153/200\n",
      "3/3 [==============================] - ETA: 0s - loss: 0.038 - 0s - loss: 0.0498 - val_loss: 16.8603\n",
      "Epoch 154/200\n",
      "3/3 [==============================] - 0s - loss: 0.0457 - val_loss: 16.9499\n",
      "Epoch 155/200\n",
      "3/3 [==============================] - 0s - loss: 0.0420 - val_loss: 16.8962\n",
      "Epoch 156/200\n",
      "3/3 [==============================] - 0s - loss: 0.0383 - val_loss: 16.9322\n",
      "Epoch 157/200\n",
      "3/3 [==============================] - 0s - loss: 0.0389 - val_loss: 17.0144\n",
      "Epoch 158/200\n",
      "3/3 [==============================] - 0s - loss: 0.0359 - val_loss: 17.2247\n",
      "Epoch 159/200\n",
      "3/3 [==============================] - 0s - loss: 0.0334 - val_loss: 17.1951\n",
      "Epoch 160/200\n",
      "3/3 [==============================] - 0s - loss: 0.0317 - val_loss: 17.2959\n",
      "Epoch 161/200\n",
      "3/3 [==============================] - 0s - loss: 0.0289 - val_loss: 17.4745\n",
      "Epoch 162/200\n",
      "3/3 [==============================] - 0s - loss: 0.0266 - val_loss: 17.4396\n",
      "Epoch 163/200\n",
      "3/3 [==============================] - 0s - loss: 0.0252 - val_loss: 17.5278\n",
      "Epoch 164/200\n",
      "3/3 [==============================] - 0s - loss: 0.0234 - val_loss: 17.6941\n",
      "Epoch 165/200\n",
      "3/3 [==============================] - 0s - loss: 0.0214 - val_loss: 17.6616\n",
      "Epoch 166/200\n",
      "3/3 [==============================] - 0s - loss: 0.0191 - val_loss: 17.6708\n",
      "Epoch 167/200\n",
      "3/3 [==============================] - 0s - loss: 0.0172 - val_loss: 17.7688\n",
      "Epoch 168/200\n",
      "3/3 [==============================] - 0s - loss: 0.0169 - val_loss: 17.9252\n",
      "Epoch 169/200\n",
      "3/3 [==============================] - 0s - loss: 0.0163 - val_loss: 17.9930\n",
      "Epoch 170/200\n",
      "3/3 [==============================] - 0s - loss: 0.0146 - val_loss: 17.9293\n",
      "Epoch 171/200\n",
      "3/3 [==============================] - 0s - loss: 0.0138 - val_loss: 18.1050\n",
      "Epoch 172/200\n",
      "3/3 [==============================] - 0s - loss: 0.0127 - val_loss: 18.0389\n",
      "Epoch 173/200\n",
      "3/3 [==============================] - 0s - loss: 0.0123 - val_loss: 18.0496\n",
      "Epoch 174/200\n",
      "3/3 [==============================] - 0s - loss: 0.0109 - val_loss: 18.0849\n",
      "Epoch 175/200\n",
      "3/3 [==============================] - ETA: 0s - loss: 0.006 - 0s - loss: 0.0103 - val_loss: 18.2054\n",
      "Epoch 176/200\n",
      "3/3 [==============================] - ETA: 0s - loss: 0.010 - 0s - loss: 0.0090 - val_loss: 18.2577\n",
      "Epoch 177/200\n",
      "3/3 [==============================] - 0s - loss: 0.0086 - val_loss: 18.2988\n",
      "Epoch 178/200\n",
      "3/3 [==============================] - 0s - loss: 0.0086 - val_loss: 18.4067\n",
      "Epoch 179/200\n"
     ]
    },
    {
     "name": "stdout",
     "output_type": "stream",
     "text": [
      "3/3 [==============================] - 0s - loss: 0.0073 - val_loss: 18.6483\n",
      "Epoch 180/200\n",
      "3/3 [==============================] - 0s - loss: 0.0067 - val_loss: 18.7027\n",
      "Epoch 181/200\n",
      "3/3 [==============================] - 0s - loss: 0.0059 - val_loss: 18.6102\n",
      "Epoch 182/200\n",
      "3/3 [==============================] - 0s - loss: 0.0056 - val_loss: 18.6054\n",
      "Epoch 183/200\n",
      "3/3 [==============================] - 0s - loss: 0.0054 - val_loss: 18.7050\n",
      "Epoch 184/200\n",
      "3/3 [==============================] - 0s - loss: 0.0046 - val_loss: 18.7543\n",
      "Epoch 185/200\n",
      "3/3 [==============================] - 0s - loss: 0.0040 - val_loss: 18.8618\n",
      "Epoch 186/200\n",
      "3/3 [==============================] - 0s - loss: 0.0039 - val_loss: 19.0772\n",
      "Epoch 187/200\n",
      "3/3 [==============================] - 0s - loss: 0.0038 - val_loss: 18.9604\n",
      "Epoch 188/200\n",
      "3/3 [==============================] - ETA: 0s - loss: 0.003 - 0s - loss: 0.0034 - val_loss: 19.0407\n",
      "Epoch 189/200\n",
      "3/3 [==============================] - 0s - loss: 0.0029 - val_loss: 19.2602\n",
      "Epoch 190/200\n",
      "3/3 [==============================] - 0s - loss: 0.0027 - val_loss: 19.3343\n",
      "Epoch 191/200\n",
      "3/3 [==============================] - 0s - loss: 0.0025 - val_loss: 19.4010\n",
      "Epoch 192/200\n",
      "3/3 [==============================] - 0s - loss: 0.0022 - val_loss: 19.3127\n",
      "Epoch 193/200\n",
      "3/3 [==============================] - 0s - loss: 0.0021 - val_loss: 19.4576\n",
      "Epoch 194/200\n",
      "3/3 [==============================] - 0s - loss: 0.0020 - val_loss: 19.3169\n",
      "Epoch 195/200\n",
      "3/3 [==============================] - ETA: 0s - loss: 0.001 - 0s - loss: 0.0018 - val_loss: 19.4030\n",
      "Epoch 196/200\n",
      "3/3 [==============================] - ETA: 0s - loss: 0.001 - 0s - loss: 0.0017 - val_loss: 19.4632\n",
      "Epoch 197/200\n",
      "3/3 [==============================] - 0s - loss: 0.0014 - val_loss: 19.5371\n",
      "Epoch 198/200\n",
      "3/3 [==============================] - 0s - loss: 0.0013 - val_loss: 19.7403\n",
      "Epoch 199/200\n",
      "3/3 [==============================] - 0s - loss: 0.0012 - val_loss: 19.6019\n",
      "Epoch 200/200\n",
      "3/3 [==============================] - 0s - loss: 0.0011 - val_loss: 19.8443\n"
     ]
    },
    {
     "data": {
      "text/plain": [
       "<keras.callbacks.History at 0x7f5ede691cd0>"
      ]
     },
     "execution_count": 45,
     "metadata": {},
     "output_type": "execute_result"
    }
   ],
   "source": [
    "model.fit(x_train, y_train, \n",
    "          batch_size = bs, verbose = 1, epochs = 200, \n",
    "          validation_data=(x_validation, y_validation))"
   ]
  },
  {
   "cell_type": "markdown",
   "metadata": {
    "collapsed": true
   },
   "source": [
    "# Evaluate the trained model on data it has never seen"
   ]
  },
  {
   "cell_type": "code",
   "execution_count": 58,
   "metadata": {
    "ExecuteTime": {
     "end_time": "2017-08-30T21:16:10.234299Z",
     "start_time": "2017-08-30T21:16:10.229590Z"
    }
   },
   "outputs": [
    {
     "name": "stdout",
     "output_type": "stream",
     "text": [
      "predicted : 100001\n",
      "truth : 100004\n"
     ]
    }
   ],
   "source": [
    "if False:\n",
    "    results = model.evaluate(x_test, y_test)\n",
    "    print(\"\\nloss    : {}\\naccuracy: {}\".format(results[0], results[1] * 100))\n",
    "    \n",
    "output = model.predict(x_test)[0]\n",
    "pred_digits = one_hot_decode_digits_to_str(output)\n",
    "truth_digits = one_hot_decode_digits_to_str(y_test[0])\n",
    "\n",
    "print 'predicted :', pred_digits\n",
    "print 'truth :', truth_digits"
   ]
  },
  {
   "cell_type": "code",
   "execution_count": null,
   "metadata": {
    "collapsed": true
   },
   "outputs": [],
   "source": []
  }
 ],
 "metadata": {
  "kernelspec": {
   "display_name": "Python 2",
   "language": "python",
   "name": "python2"
  },
  "language_info": {
   "codemirror_mode": {
    "name": "ipython",
    "version": 2
   },
   "file_extension": ".py",
   "mimetype": "text/x-python",
   "name": "python",
   "nbconvert_exporter": "python",
   "pygments_lexer": "ipython2",
   "version": "2.7.12"
  }
 },
 "nbformat": 4,
 "nbformat_minor": 2
}
