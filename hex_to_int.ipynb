{
 "cells": [
  {
   "cell_type": "markdown",
   "metadata": {},
   "source": [
    "# Use a DNN to learn the mapping between a hex string and a digit string\n",
    "\n",
    "The goal is to use a Keras Sequential model to learn the mapping between a hex string (e.g. \"dbb9f\") and digit string (e.g. \"899999\"). The digit string represents the base numerical 10 value of the hex string."
   ]
  },
  {
   "cell_type": "code",
   "execution_count": 22,
   "metadata": {
    "ExecuteTime": {
     "end_time": "2017-08-30T21:16:08.587867Z",
     "start_time": "2017-08-30T21:16:05.537099Z"
    }
   },
   "outputs": [],
   "source": [
    "import os\n",
    "import keras\n",
    "from keras import models\n",
    "from keras import layers\n",
    "import numpy as np\n",
    "import pandas as pd\n",
    "\n",
    "import tensorflow as tf\n",
    "from keras.layers import Input, Dense, Reshape, Flatten\n",
    "from keras.models import Sequential\n",
    "import numpy as np\n"
   ]
  },
  {
   "cell_type": "markdown",
   "metadata": {},
   "source": [
    "## Data and Methods for One Hot Encoding"
   ]
  },
  {
   "cell_type": "code",
   "execution_count": 23,
   "metadata": {
    "ExecuteTime": {
     "end_time": "2017-08-30T21:16:08.630504Z",
     "start_time": "2017-08-30T21:16:08.589567Z"
    },
    "collapsed": true
   },
   "outputs": [],
   "source": [
    "digits = \"0123456789\"\n",
    "hex_digits = digits + \"abcdef\"\n",
    "\n",
    "digits_char_to_int = dict((c, i) for i, c in enumerate(digits))\n",
    "digits_int_to_char = dict((i, c) for i, c in enumerate(digits))\n",
    "\n",
    "hex_char_to_int = dict((c, i) for i, c in enumerate(hex_digits))\n",
    "hex_int_to_char = dict((i, c) for i, c in enumerate(hex_digits))\n",
    "\n",
    "# Encoding\n",
    "\n",
    "def one_hot_encode_hex_string(str):\n",
    "    int_encoded = [hex_char_to_int[c] for c in str]\n",
    "    return keras.utils.to_categorical(int_encoded, num_classes=len(hex_digits))\n",
    "\n",
    "def one_hot_encode_digits_string(str):\n",
    "    int_encoded = [digits_char_to_int[c] for c in str]\n",
    "    return keras.utils.to_categorical(int_encoded, num_classes=len(digits))\n",
    "\n",
    "# Decoding\n",
    "\n",
    "def one_hot_decode_hex_to_str(arr):\n",
    "    s = \"\"\n",
    "    for row in arr:\n",
    "        s += hex_int_to_char[np.argmax(row)]\n",
    "    return s   \n",
    "\n",
    "def one_hot_decode_digits_to_str(arr):\n",
    "    s = \"\"\n",
    "    for row in arr:\n",
    "        s += digits_int_to_char[np.argmax(row)]\n",
    "    return s   "
   ]
  },
  {
   "cell_type": "markdown",
   "metadata": {
    "ExecuteTime": {
     "end_time": "2017-08-30T19:27:20.958431Z",
     "start_time": "2017-08-30T19:27:20.933929Z"
    }
   },
   "source": [
    "## Example hex string\n",
    "#### Model Input"
   ]
  },
  {
   "cell_type": "code",
   "execution_count": 24,
   "metadata": {
    "ExecuteTime": {
     "end_time": "2017-08-30T21:16:08.640953Z",
     "start_time": "2017-08-30T21:16:08.632589Z"
    }
   },
   "outputs": [
    {
     "name": "stdout",
     "output_type": "stream",
     "text": [
      "[[ 0.  1.  0.  0.  0.  0.  0.  0.  0.  0.  0.  0.  0.  0.  0.  0.]\n",
      " [ 0.  0.  0.  0.  0.  0.  0.  0.  1.  0.  0.  0.  0.  0.  0.  0.]\n",
      " [ 0.  0.  0.  0.  0.  0.  1.  0.  0.  0.  0.  0.  0.  0.  0.  0.]\n",
      " [ 0.  0.  0.  0.  0.  0.  0.  0.  0.  0.  1.  0.  0.  0.  0.  0.]\n",
      " [ 0.  0.  1.  0.  0.  0.  0.  0.  0.  0.  0.  0.  0.  0.  0.  0.]]\n",
      "(5, 16)\n",
      "186a2\n"
     ]
    }
   ],
   "source": [
    "# A input/hex string is *always* 5 characters\n",
    "# Range: \"186a0\" - \"dbb9f\"\n",
    "\n",
    "hex_str = \"186a2\"\n",
    "\n",
    "one_hot_encoded = one_hot_encode_hex_string(hex_str)\n",
    "print(one_hot_encoded)\n",
    "print(one_hot_encoded.shape)\n",
    "original_string = one_hot_decode_hex_to_str(one_hot_encoded)\n",
    "print(original_string)"
   ]
  },
  {
   "cell_type": "markdown",
   "metadata": {},
   "source": [
    "## Example digit string\n",
    "#### Training label"
   ]
  },
  {
   "cell_type": "code",
   "execution_count": 25,
   "metadata": {
    "ExecuteTime": {
     "end_time": "2017-08-30T21:16:08.649999Z",
     "start_time": "2017-08-30T21:16:08.642860Z"
    }
   },
   "outputs": [
    {
     "name": "stdout",
     "output_type": "stream",
     "text": [
      "[[ 0.  1.  0.  0.  0.  0.  0.  0.  0.  0.]\n",
      " [ 1.  0.  0.  0.  0.  0.  0.  0.  0.  0.]\n",
      " [ 1.  0.  0.  0.  0.  0.  0.  0.  0.  0.]\n",
      " [ 1.  0.  0.  0.  0.  0.  0.  0.  0.  0.]\n",
      " [ 1.  0.  0.  0.  0.  0.  0.  0.  0.  0.]\n",
      " [ 0.  0.  1.  0.  0.  0.  0.  0.  0.  0.]]\n",
      "(6, 10)\n",
      "100002\n"
     ]
    }
   ],
   "source": [
    "# A label/digit string is *always* 6 characters\n",
    "# Range: \"100000\" - \"899999\"\n",
    "\n",
    "digit_str = \"100002\"\n",
    "\n",
    "one_hot_encoded = one_hot_encode_digits_string(digit_str)\n",
    "print(one_hot_encoded)\n",
    "print(one_hot_encoded.shape)\n",
    "original_string = one_hot_decode_digits_to_str(one_hot_encoded)\n",
    "print(original_string)"
   ]
  },
  {
   "cell_type": "markdown",
   "metadata": {},
   "source": [
    "## Create Data"
   ]
  },
  {
   "cell_type": "code",
   "execution_count": 26,
   "metadata": {
    "ExecuteTime": {
     "end_time": "2017-08-30T21:16:09.519148Z",
     "start_time": "2017-08-30T21:16:08.651524Z"
    }
   },
   "outputs": [],
   "source": [
    "def create_csv(fname, start_num, count):\n",
    "    \"\"\"\n",
    "    Create a csv named fname containing n count.\n",
    "    Each row will contain:\n",
    "        * number (starting at start_num)\n",
    "            * incremented by 1 each row\n",
    "        * the hex value of the string version of number\n",
    "    \"\"\"\n",
    "    with open(fname, \"w+\") as f:\n",
    "        result_str = \"\"\n",
    "\n",
    "        end_num = start_num + count\n",
    "        i = start_num\n",
    "\n",
    "        while i < end_num:\n",
    "            s = str(i)\n",
    "            hex_str = hex(i)[2:] # drop the leading \"0x\"\n",
    "\n",
    "            result_str += \"{},{}\\n\".format(s, hex_str)\n",
    "            i += 1\n",
    "\n",
    "        f.write(\"string,hex\\n\")\n",
    "        f.write(result_str)\n",
    "        \n",
    "data_filename = 'data.csv'        \n",
    "\n",
    "# Create it if it doesn't already exist\n",
    "if not os.path.isfile(data_filename):\n",
    "    # from 100_000 (0x186a0) to 899_999 (0xdbb9f)\n",
    "    create_csv(data_filename, 100000, 800000)"
   ]
  },
  {
   "cell_type": "markdown",
   "metadata": {},
   "source": [
    "## Load data"
   ]
  },
  {
   "cell_type": "code",
   "execution_count": 27,
   "metadata": {
    "ExecuteTime": {
     "end_time": "2017-08-30T21:16:10.130403Z",
     "start_time": "2017-08-30T21:16:09.521039Z"
    }
   },
   "outputs": [
    {
     "data": {
      "text/html": [
       "<div>\n",
       "<style>\n",
       "    .dataframe thead tr:only-child th {\n",
       "        text-align: right;\n",
       "    }\n",
       "\n",
       "    .dataframe thead th {\n",
       "        text-align: left;\n",
       "    }\n",
       "\n",
       "    .dataframe tbody tr th {\n",
       "        vertical-align: top;\n",
       "    }\n",
       "</style>\n",
       "<table border=\"1\" class=\"dataframe\">\n",
       "  <thead>\n",
       "    <tr style=\"text-align: right;\">\n",
       "      <th></th>\n",
       "      <th>string</th>\n",
       "      <th>hex</th>\n",
       "    </tr>\n",
       "  </thead>\n",
       "  <tbody>\n",
       "    <tr>\n",
       "      <th>0</th>\n",
       "      <td>100000</td>\n",
       "      <td>186a0</td>\n",
       "    </tr>\n",
       "    <tr>\n",
       "      <th>1</th>\n",
       "      <td>100001</td>\n",
       "      <td>186a1</td>\n",
       "    </tr>\n",
       "    <tr>\n",
       "      <th>2</th>\n",
       "      <td>100002</td>\n",
       "      <td>186a2</td>\n",
       "    </tr>\n",
       "    <tr>\n",
       "      <th>3</th>\n",
       "      <td>100003</td>\n",
       "      <td>186a3</td>\n",
       "    </tr>\n",
       "    <tr>\n",
       "      <th>4</th>\n",
       "      <td>100004</td>\n",
       "      <td>186a4</td>\n",
       "    </tr>\n",
       "  </tbody>\n",
       "</table>\n",
       "</div>"
      ],
      "text/plain": [
       "   string    hex\n",
       "0  100000  186a0\n",
       "1  100001  186a1\n",
       "2  100002  186a2\n",
       "3  100003  186a3\n",
       "4  100004  186a4"
      ]
     },
     "execution_count": 27,
     "metadata": {},
     "output_type": "execute_result"
    }
   ],
   "source": [
    "df = pd.read_csv(data_filename, dtype={'string': str, 'hex': str})\n",
    "\n",
    "# Used to test with less data\n",
    "use_full_dataset = False\n",
    "\n",
    "if not use_full_dataset:\n",
    "    df = df[0:5]\n",
    "\n",
    "# randomize rows when using the full dataset\n",
    "if use_full_dataset:\n",
    "    df = df.sample(frac=1).reset_index(drop=True)\n",
    "    df.set_index('string')\n",
    "\n",
    "df.head()"
   ]
  },
  {
   "cell_type": "markdown",
   "metadata": {
    "ExecuteTime": {
     "end_time": "2017-08-30T19:47:33.088284Z",
     "start_time": "2017-08-30T19:47:33.086195Z"
    }
   },
   "source": [
    "## One hot encode all hex and label strings"
   ]
  },
  {
   "cell_type": "code",
   "execution_count": 28,
   "metadata": {
    "ExecuteTime": {
     "end_time": "2017-08-30T21:16:10.144767Z",
     "start_time": "2017-08-30T21:16:10.131959Z"
    }
   },
   "outputs": [
    {
     "name": "stdout",
     "output_type": "stream",
     "text": [
      "(5, 6, 10)\n",
      "(5, 5, 16)\n"
     ]
    }
   ],
   "source": [
    "all_labels_encoded = []\n",
    "all_hexes_encoded   = []\n",
    "\n",
    "for row in df.itertuples():\n",
    "    label_string = row[1] # row['string']\n",
    "    hex_str      = row[2] # row['hex']\n",
    "\n",
    "    label_encoded = one_hot_encode_digits_string(label_string)\n",
    "    hex_encoded   = one_hot_encode_hex_string(hex_str)\n",
    "\n",
    "    all_labels_encoded.append(label_encoded)\n",
    "    all_hexes_encoded.append(hex_encoded)\n",
    "\n",
    "all_labels_encoded = np.asarray(all_labels_encoded)\n",
    "all_hexes_encoded  = np.asarray(all_hexes_encoded)\n",
    "\n",
    "print(all_labels_encoded.shape)\n",
    "print(all_hexes_encoded.shape)"
   ]
  },
  {
   "cell_type": "markdown",
   "metadata": {
    "ExecuteTime": {
     "end_time": "2017-08-30T19:48:23.316727Z",
     "start_time": "2017-08-30T19:48:23.314334Z"
    }
   },
   "source": [
    "## Verify that encoding decoding works"
   ]
  },
  {
   "cell_type": "code",
   "execution_count": 29,
   "metadata": {
    "ExecuteTime": {
     "end_time": "2017-08-30T21:16:10.151748Z",
     "start_time": "2017-08-30T21:16:10.146299Z"
    }
   },
   "outputs": [
    {
     "name": "stdout",
     "output_type": "stream",
     "text": [
      "('100000', '->', '186a0')\n",
      "('100001', '->', '186a1')\n",
      "('100002', '->', '186a2')\n",
      "('100003', '->', '186a3')\n",
      "('100004', '->', '186a4')\n"
     ]
    }
   ],
   "source": [
    "for i in range(5):\n",
    "    print(one_hot_decode_digits_to_str(all_labels_encoded[i]), \n",
    "          \"->\", \n",
    "          one_hot_decode_hex_to_str(all_hexes_encoded[i]))"
   ]
  },
  {
   "cell_type": "markdown",
   "metadata": {},
   "source": [
    "## Split encoded arrays into training, validation, and test sets"
   ]
  },
  {
   "cell_type": "code",
   "execution_count": 30,
   "metadata": {
    "ExecuteTime": {
     "end_time": "2017-08-30T21:16:10.178956Z",
     "start_time": "2017-08-30T21:16:10.152988Z"
    }
   },
   "outputs": [
    {
     "name": "stdout",
     "output_type": "stream",
     "text": [
      "('Total expected  :', 5)\n",
      "('Total calculated:', 5)\n",
      "('Training examples:', 3)\n",
      "('Validation examples:', 1)\n",
      "('Test examples', 1)\n"
     ]
    }
   ],
   "source": [
    "if use_full_dataset:\n",
    "    n_training_examples   = int(example_cnt * 0.7)\n",
    "    n_validation_examples = int(example_cnt * 0.15)\n",
    "    n_test_examples       = int(example_cnt * 0.15)\n",
    "else:\n",
    "    n_training_examples   = 3\n",
    "    n_validation_examples = 1\n",
    "    n_test_examples       = 1\n",
    "\n",
    "print(\"Total expected  :\", len(df))\n",
    "print(\"Total calculated:\", n_training_examples + n_validation_examples + n_test_examples)\n",
    "\n",
    "x_train = all_hexes_encoded[:n_training_examples]\n",
    "y_train = all_labels_encoded[:n_training_examples]\n",
    "print(\"Training examples:\", len(x_train))\n",
    "\n",
    "x_validation = all_hexes_encoded[n_training_examples  : n_training_examples + n_validation_examples]\n",
    "y_validation = all_labels_encoded[n_training_examples : n_training_examples + n_validation_examples]\n",
    "print(\"Validation examples:\", len(x_validation))\n",
    "\n",
    "x_test = all_hexes_encoded[len(all_hexes_encoded) - n_test_examples:]\n",
    "y_test = all_labels_encoded[len(all_labels_encoded) - n_test_examples:]\n",
    "print(\"Test examples\", len(x_test))"
   ]
  },
  {
   "cell_type": "markdown",
   "metadata": {},
   "source": [
    "## Shape of training and label data"
   ]
  },
  {
   "cell_type": "code",
   "execution_count": 31,
   "metadata": {
    "ExecuteTime": {
     "end_time": "2017-08-30T21:16:10.185869Z",
     "start_time": "2017-08-30T21:16:10.180818Z"
    }
   },
   "outputs": [
    {
     "name": "stdout",
     "output_type": "stream",
     "text": [
      "('x_train.shape:', (3, 5, 16))\n",
      "('y_train.shape:', (3, 6, 10))\n"
     ]
    }
   ],
   "source": [
    "print(\"x_train.shape:\", x_train.shape)\n",
    "print(\"y_train.shape:\", y_train.shape)"
   ]
  },
  {
   "cell_type": "markdown",
   "metadata": {},
   "source": [
    "## Verify our dimensions match our expectations"
   ]
  },
  {
   "cell_type": "code",
   "execution_count": 32,
   "metadata": {
    "ExecuteTime": {
     "end_time": "2017-08-30T21:16:10.201200Z",
     "start_time": "2017-08-30T21:16:10.187691Z"
    }
   },
   "outputs": [
    {
     "name": "stdout",
     "output_type": "stream",
     "text": [
      "('Training dimensions match:', True)\n",
      "('Label dimensions match:', True)\n"
     ]
    }
   ],
   "source": [
    "#\n",
    "# Dimensions of the input matrix: one hot encoded hex string (.e.g \"186a2\")\n",
    "#\n",
    "\n",
    "# fixed length (in chars) of a hex string\n",
    "hex_n = len(one_hot_decode_hex_to_str(all_hexes_encoded[0]))\n",
    "\n",
    "# number of symbols in the \"alphabet\" of a hex string\n",
    "hex_k = len(hex_digits)\n",
    "\n",
    "print(\"Training dimensions match:\", x_train.shape[1:3] == (hex_n, hex_k))\n",
    "\n",
    "#\n",
    "# Dimensions of the label matrix: one hot encoded digits string (.e.g \"100002\")\n",
    "#\n",
    "\n",
    "# fixed length (in chars) of a hex string\n",
    "label_n = len(one_hot_decode_digits_to_str(all_labels_encoded[0]))\n",
    "\n",
    "# number of symbols in the \"alphabet\" of a digits string\n",
    "label_k = len(digits)\n",
    "\n",
    "print(\"Label dimensions match:\", y_train.shape[1:3] == (label_n, label_k))"
   ]
  },
  {
   "cell_type": "markdown",
   "metadata": {},
   "source": [
    "# Build and compile model\n",
    "\n",
    "### Questions\n",
    "* How do we determine the correct number of nodes in the initial layer?\n",
    "* The shape of the input data is `(5, 16)` and the shape of our labels is `(6, 10)`. How do we define a model that can convert between these differing dimensions?\n",
    "* Do we have to create our own [loss function implementation](https://stackoverflow.com/questions/43576922/keras-custom-metric-iteration) to make this work?"
   ]
  },
  {
   "cell_type": "code",
   "execution_count": 70,
   "metadata": {
    "ExecuteTime": {
     "end_time": "2017-08-30T21:16:10.222200Z",
     "start_time": "2017-08-30T21:16:10.203035Z"
    }
   },
   "outputs": [],
   "source": [
    "n = 5 #input size\n",
    "m = 6 #output size\n",
    "l = 16 #input alphabet size\n",
    "k = 10 #output alpahbet size\n",
    "bs = 2 #batch size\n",
    "\n",
    "\n",
    "model = Sequential()\n",
    "model.add(Flatten(input_shape = (n,l)))\n",
    "model.add(Dense(64, activation = 'relu'))\n",
    "model.add(Dense(64, activation = 'relu'))\n",
    "model.add(Dense(64, activation = 'relu'))\n",
    "model.add(Dense(m * k, activation=None))\n",
    "model.add(Reshape((m, k)))\n",
    "\n",
    "def batch_accuracy(truth, pred):\n",
    "    truth_decoded = tf.argmax(truth, axis = 2)\n",
    "    pred_decoded = tf.argmax(pred, axis = 2)\n",
    "    correct = tf.cast(tf.equal(truth_decoded, pred_decoded), tf.float32)\n",
    "    #correct is bs x m\n",
    "    accuracy = tf.reduce_sum(correct, axis = 1)/float(m)\n",
    "    return accuracy\n",
    "\n",
    "def batch_crossentropy(truth, pred):\n",
    "    batch_size = tf.shape(truth)[0]\n",
    "    #input shapes are BxMxK where B is batchsize\n",
    "    #reshape so that every row is a separate probability distribution\n",
    "    truth = tf.reshape(truth, (-1, k))\n",
    "    pred = tf.reshape(pred, (-1, k))\n",
    "    ce = tf.nn.softmax_cross_entropy_with_logits(labels = truth, logits = pred)\n",
    "    #crossentropy is now bs * m, and we want it reshaped to bs x m\n",
    "    ce = tf.reshape(ce, (batch_size,-1))\n",
    "    loss = tf.reduce_sum(ce, axis = 1)\n",
    "    return loss\n",
    "\n",
    "model.compile(optimizer='rmsprop', \n",
    "              loss=batch_crossentropy,\n",
    "              metrics = [batch_accuracy])\n"
   ]
  },
  {
   "cell_type": "markdown",
   "metadata": {},
   "source": [
    "## Train"
   ]
  },
  {
   "cell_type": "code",
   "execution_count": 71,
   "metadata": {
    "ExecuteTime": {
     "end_time": "2017-08-30T21:16:10.227412Z",
     "start_time": "2017-08-30T21:16:10.223969Z"
    }
   },
   "outputs": [
    {
     "name": "stdout",
     "output_type": "stream",
     "text": [
      "Train on 3 samples, validate on 1 samples\n",
      "Epoch 1/200\n",
      "3/3 [==============================] - 0s - loss: 13.8824 - batch_accuracy: 0.1667 - val_loss: 13.5127 - val_batch_accuracy: 0.1667\n",
      "Epoch 2/200\n",
      "3/3 [==============================] - 0s - loss: 13.3986 - batch_accuracy: 0.2222 - val_loss: 13.1883 - val_batch_accuracy: 0.5000\n",
      "Epoch 3/200\n",
      "3/3 [==============================] - 0s - loss: 12.9837 - batch_accuracy: 0.3333 - val_loss: 12.8022 - val_batch_accuracy: 0.6667\n",
      "Epoch 4/200\n",
      "3/3 [==============================] - 0s - loss: 12.4896 - batch_accuracy: 0.6667 - val_loss: 12.3228 - val_batch_accuracy: 0.6667\n",
      "Epoch 5/200\n",
      "3/3 [==============================] - 0s - loss: 11.8888 - batch_accuracy: 0.7222 - val_loss: 11.7999 - val_batch_accuracy: 0.6667\n",
      "Epoch 6/200\n",
      "3/3 [==============================] - 0s - loss: 11.1738 - batch_accuracy: 0.7778 - val_loss: 11.1319 - val_batch_accuracy: 0.8333\n",
      "Epoch 7/200\n",
      "3/3 [==============================] - 0s - loss: 10.3142 - batch_accuracy: 0.8333 - val_loss: 10.3916 - val_batch_accuracy: 0.8333\n",
      "Epoch 8/200\n",
      "3/3 [==============================] - 0s - loss: 9.3800 - batch_accuracy: 0.8889 - val_loss: 9.6188 - val_batch_accuracy: 0.8333\n",
      "Epoch 9/200\n",
      "3/3 [==============================] - 0s - loss: 8.3623 - batch_accuracy: 0.8889 - val_loss: 8.7572 - val_batch_accuracy: 0.8333\n",
      "Epoch 10/200\n",
      "3/3 [==============================] - 0s - loss: 7.2703 - batch_accuracy: 0.8889 - val_loss: 7.8895 - val_batch_accuracy: 0.8333\n",
      "Epoch 11/200\n",
      "3/3 [==============================] - 0s - loss: 6.1983 - batch_accuracy: 0.8889 - val_loss: 7.0642 - val_batch_accuracy: 0.8333\n",
      "Epoch 12/200\n",
      "3/3 [==============================] - 0s - loss: 5.2077 - batch_accuracy: 0.8889 - val_loss: 6.3750 - val_batch_accuracy: 0.8333\n",
      "Epoch 13/200\n",
      "3/3 [==============================] - 0s - loss: 4.3556 - batch_accuracy: 0.8889 - val_loss: 5.7748 - val_batch_accuracy: 0.8333\n",
      "Epoch 14/200\n",
      "3/3 [==============================] - 0s - loss: 3.6396 - batch_accuracy: 0.8889 - val_loss: 5.3473 - val_batch_accuracy: 0.8333\n",
      "Epoch 15/200\n",
      "3/3 [==============================] - 0s - loss: 3.0918 - batch_accuracy: 0.8889 - val_loss: 5.0194 - val_batch_accuracy: 0.8333\n",
      "Epoch 16/200\n",
      "3/3 [==============================] - 0s - loss: 2.6704 - batch_accuracy: 0.8889 - val_loss: 4.8121 - val_batch_accuracy: 0.8333\n",
      "Epoch 17/200\n",
      "3/3 [==============================] - 0s - loss: 2.3560 - batch_accuracy: 0.8889 - val_loss: 4.6882 - val_batch_accuracy: 0.8333\n",
      "Epoch 18/200\n",
      "3/3 [==============================] - 0s - loss: 2.1146 - batch_accuracy: 0.8889 - val_loss: 4.6111 - val_batch_accuracy: 0.8333\n",
      "Epoch 19/200\n",
      "3/3 [==============================] - 0s - loss: 1.9230 - batch_accuracy: 0.8889 - val_loss: 4.5710 - val_batch_accuracy: 0.8333\n",
      "Epoch 20/200\n",
      "3/3 [==============================] - ETA: 0s - loss: 1.9725 - batch_accuracy: 0.91 - 0s - loss: 1.7719 - batch_accuracy: 0.8889 - val_loss: 4.5795 - val_batch_accuracy: 0.8333\n",
      "Epoch 21/200\n",
      "3/3 [==============================] - ETA: 0s - loss: 1.1961 - batch_accuracy: 1.00 - 0s - loss: 1.6496 - batch_accuracy: 0.9444 - val_loss: 4.5899 - val_batch_accuracy: 0.8333\n",
      "Epoch 22/200\n",
      "3/3 [==============================] - 0s - loss: 1.5491 - batch_accuracy: 0.9444 - val_loss: 4.6438 - val_batch_accuracy: 0.8333\n",
      "Epoch 23/200\n",
      "3/3 [==============================] - 0s - loss: 1.4721 - batch_accuracy: 0.8889 - val_loss: 4.6809 - val_batch_accuracy: 0.8333\n",
      "Epoch 24/200\n",
      "3/3 [==============================] - 0s - loss: 1.3946 - batch_accuracy: 0.8889 - val_loss: 4.7318 - val_batch_accuracy: 0.8333\n",
      "Epoch 25/200\n",
      "3/3 [==============================] - 0s - loss: 1.3335 - batch_accuracy: 0.8889 - val_loss: 4.8240 - val_batch_accuracy: 0.8333\n",
      "Epoch 26/200\n",
      "3/3 [==============================] - 0s - loss: 1.2908 - batch_accuracy: 0.8889 - val_loss: 4.8872 - val_batch_accuracy: 0.8333\n",
      "Epoch 27/200\n",
      "3/3 [==============================] - 0s - loss: 1.2409 - batch_accuracy: 0.8889 - val_loss: 4.9569 - val_batch_accuracy: 0.8333\n",
      "Epoch 28/200\n",
      "3/3 [==============================] - 0s - loss: 1.2143 - batch_accuracy: 0.8889 - val_loss: 5.0155 - val_batch_accuracy: 0.8333\n",
      "Epoch 29/200\n",
      "3/3 [==============================] - 0s - loss: 1.1680 - batch_accuracy: 0.9444 - val_loss: 5.1059 - val_batch_accuracy: 0.8333\n",
      "Epoch 30/200\n",
      "3/3 [==============================] - 0s - loss: 1.1411 - batch_accuracy: 0.9444 - val_loss: 5.2238 - val_batch_accuracy: 0.8333\n",
      "Epoch 31/200\n",
      "3/3 [==============================] - 0s - loss: 1.1260 - batch_accuracy: 0.8889 - val_loss: 5.3331 - val_batch_accuracy: 0.8333\n",
      "Epoch 32/200\n",
      "3/3 [==============================] - 0s - loss: 1.1139 - batch_accuracy: 0.8889 - val_loss: 5.4231 - val_batch_accuracy: 0.8333\n",
      "Epoch 33/200\n",
      "3/3 [==============================] - 0s - loss: 1.0903 - batch_accuracy: 0.8889 - val_loss: 5.5261 - val_batch_accuracy: 0.8333\n",
      "Epoch 34/200\n",
      "3/3 [==============================] - 0s - loss: 1.0749 - batch_accuracy: 0.8889 - val_loss: 5.6353 - val_batch_accuracy: 0.8333\n",
      "Epoch 35/200\n",
      "3/3 [==============================] - 0s - loss: 1.0673 - batch_accuracy: 0.8889 - val_loss: 5.7342 - val_batch_accuracy: 0.8333\n",
      "Epoch 36/200\n",
      "3/3 [==============================] - 0s - loss: 1.0553 - batch_accuracy: 0.8889 - val_loss: 5.8380 - val_batch_accuracy: 0.8333\n",
      "Epoch 37/200\n",
      "3/3 [==============================] - 0s - loss: 1.0440 - batch_accuracy: 0.9444 - val_loss: 5.9418 - val_batch_accuracy: 0.8333\n",
      "Epoch 38/200\n",
      "3/3 [==============================] - ETA: 0s - loss: 1.0741 - batch_accuracy: 0.83 - 0s - loss: 1.0372 - batch_accuracy: 0.8889 - val_loss: 6.0505 - val_batch_accuracy: 0.8333\n",
      "Epoch 39/200\n",
      "3/3 [==============================] - 0s - loss: 1.0319 - batch_accuracy: 0.8889 - val_loss: 6.1575 - val_batch_accuracy: 0.8333\n",
      "Epoch 40/200\n",
      "3/3 [==============================] - 0s - loss: 1.0335 - batch_accuracy: 0.8889 - val_loss: 6.1816 - val_batch_accuracy: 0.8333\n",
      "Epoch 41/200\n",
      "3/3 [==============================] - 0s - loss: 0.9864 - batch_accuracy: 0.9444 - val_loss: 6.2796 - val_batch_accuracy: 0.8333\n",
      "Epoch 42/200\n",
      "3/3 [==============================] - 0s - loss: 0.9740 - batch_accuracy: 1.0000 - val_loss: 6.3857 - val_batch_accuracy: 0.8333\n",
      "Epoch 43/200\n",
      "3/3 [==============================] - 0s - loss: 0.9771 - batch_accuracy: 0.8889 - val_loss: 6.4470 - val_batch_accuracy: 0.8333\n",
      "Epoch 44/200\n",
      "3/3 [==============================] - 0s - loss: 0.9525 - batch_accuracy: 1.0000 - val_loss: 6.5638 - val_batch_accuracy: 0.8333\n",
      "Epoch 45/200\n",
      "3/3 [==============================] - 0s - loss: 0.9500 - batch_accuracy: 0.9444 - val_loss: 6.6703 - val_batch_accuracy: 0.8333\n",
      "Epoch 46/200\n",
      "3/3 [==============================] - 0s - loss: 0.9536 - batch_accuracy: 0.8889 - val_loss: 6.7144 - val_batch_accuracy: 0.8333\n",
      "Epoch 47/200\n",
      "3/3 [==============================] - 0s - loss: 0.9298 - batch_accuracy: 0.9444 - val_loss: 6.8312 - val_batch_accuracy: 0.8333\n",
      "Epoch 48/200\n",
      "3/3 [==============================] - 0s - loss: 0.9223 - batch_accuracy: 0.9444 - val_loss: 6.9006 - val_batch_accuracy: 0.8333\n",
      "Epoch 49/200\n",
      "3/3 [==============================] - 0s - loss: 0.9027 - batch_accuracy: 0.9444 - val_loss: 6.9630 - val_batch_accuracy: 0.8333\n",
      "Epoch 50/200\n",
      "3/3 [==============================] - 0s - loss: 0.9009 - batch_accuracy: 0.9444 - val_loss: 7.0279 - val_batch_accuracy: 0.8333\n",
      "Epoch 51/200\n",
      "3/3 [==============================] - 0s - loss: 0.8968 - batch_accuracy: 1.0000 - val_loss: 7.1365 - val_batch_accuracy: 0.8333\n",
      "Epoch 52/200\n",
      "3/3 [==============================] - 0s - loss: 0.8915 - batch_accuracy: 0.9444 - val_loss: 7.2109 - val_batch_accuracy: 0.8333\n",
      "Epoch 53/200\n",
      "3/3 [==============================] - 0s - loss: 0.8788 - batch_accuracy: 1.0000 - val_loss: 7.3148 - val_batch_accuracy: 0.8333\n",
      "Epoch 54/200\n",
      "3/3 [==============================] - 0s - loss: 0.8700 - batch_accuracy: 0.9444 - val_loss: 7.3848 - val_batch_accuracy: 0.8333\n",
      "Epoch 55/200\n",
      "3/3 [==============================] - 0s - loss: 0.8599 - batch_accuracy: 1.0000 - val_loss: 7.4879 - val_batch_accuracy: 0.8333\n",
      "Epoch 56/200\n"
     ]
    },
    {
     "name": "stdout",
     "output_type": "stream",
     "text": [
      "3/3 [==============================] - 0s - loss: 0.8474 - batch_accuracy: 0.9444 - val_loss: 7.5365 - val_batch_accuracy: 0.8333\n",
      "Epoch 57/200\n",
      "3/3 [==============================] - 0s - loss: 0.8402 - batch_accuracy: 1.0000 - val_loss: 7.5526 - val_batch_accuracy: 0.8333\n",
      "Epoch 58/200\n",
      "3/3 [==============================] - 0s - loss: 0.8160 - batch_accuracy: 1.0000 - val_loss: 7.6266 - val_batch_accuracy: 0.8333\n",
      "Epoch 59/200\n",
      "3/3 [==============================] - 0s - loss: 0.8020 - batch_accuracy: 1.0000 - val_loss: 7.7004 - val_batch_accuracy: 0.8333\n",
      "Epoch 60/200\n",
      "3/3 [==============================] - 0s - loss: 0.7850 - batch_accuracy: 1.0000 - val_loss: 7.7863 - val_batch_accuracy: 0.8333\n",
      "Epoch 61/200\n",
      "3/3 [==============================] - 0s - loss: 0.7829 - batch_accuracy: 0.9444 - val_loss: 7.8922 - val_batch_accuracy: 0.8333\n",
      "Epoch 62/200\n",
      "3/3 [==============================] - 0s - loss: 0.7823 - batch_accuracy: 0.9444 - val_loss: 7.9919 - val_batch_accuracy: 0.8333\n",
      "Epoch 63/200\n",
      "3/3 [==============================] - 0s - loss: 0.7890 - batch_accuracy: 0.9444 - val_loss: 8.0793 - val_batch_accuracy: 0.8333\n",
      "Epoch 64/200\n",
      "3/3 [==============================] - 0s - loss: 0.7549 - batch_accuracy: 1.0000 - val_loss: 8.1661 - val_batch_accuracy: 0.8333\n",
      "Epoch 65/200\n",
      "3/3 [==============================] - 0s - loss: 0.7497 - batch_accuracy: 1.0000 - val_loss: 8.2526 - val_batch_accuracy: 0.8333\n",
      "Epoch 66/200\n",
      "3/3 [==============================] - 0s - loss: 0.7448 - batch_accuracy: 0.9444 - val_loss: 8.3413 - val_batch_accuracy: 0.8333\n",
      "Epoch 67/200\n",
      "3/3 [==============================] - 0s - loss: 0.7404 - batch_accuracy: 0.9444 - val_loss: 8.4375 - val_batch_accuracy: 0.8333\n",
      "Epoch 68/200\n",
      "3/3 [==============================] - 0s - loss: 0.7435 - batch_accuracy: 0.9444 - val_loss: 8.4411 - val_batch_accuracy: 0.8333\n",
      "Epoch 69/200\n",
      "3/3 [==============================] - 0s - loss: 0.6992 - batch_accuracy: 0.9444 - val_loss: 8.5550 - val_batch_accuracy: 0.8333\n",
      "Epoch 70/200\n",
      "3/3 [==============================] - 0s - loss: 0.7016 - batch_accuracy: 0.9444 - val_loss: 8.6551 - val_batch_accuracy: 0.8333\n",
      "Epoch 71/200\n",
      "3/3 [==============================] - 0s - loss: 0.6659 - batch_accuracy: 1.0000 - val_loss: 8.7388 - val_batch_accuracy: 0.8333\n",
      "Epoch 72/200\n",
      "3/3 [==============================] - 0s - loss: 0.6637 - batch_accuracy: 1.0000 - val_loss: 8.8270 - val_batch_accuracy: 0.8333\n",
      "Epoch 73/200\n",
      "3/3 [==============================] - 0s - loss: 0.6630 - batch_accuracy: 0.9444 - val_loss: 8.8399 - val_batch_accuracy: 0.8333\n",
      "Epoch 74/200\n",
      "3/3 [==============================] - 0s - loss: 0.6356 - batch_accuracy: 1.0000 - val_loss: 8.9534 - val_batch_accuracy: 0.8333\n",
      "Epoch 75/200\n",
      "3/3 [==============================] - 0s - loss: 0.6271 - batch_accuracy: 0.9444 - val_loss: 9.0546 - val_batch_accuracy: 0.8333\n",
      "Epoch 76/200\n",
      "3/3 [==============================] - 0s - loss: 0.6245 - batch_accuracy: 0.9444 - val_loss: 9.1430 - val_batch_accuracy: 0.8333\n",
      "Epoch 77/200\n",
      "3/3 [==============================] - ETA: 0s - loss: 0.4272 - batch_accuracy: 1.00 - 0s - loss: 0.6280 - batch_accuracy: 0.9444 - val_loss: 9.2248 - val_batch_accuracy: 0.8333\n",
      "Epoch 78/200\n",
      "3/3 [==============================] - 0s - loss: 0.5833 - batch_accuracy: 1.0000 - val_loss: 9.2926 - val_batch_accuracy: 0.8333\n",
      "Epoch 79/200\n",
      "3/3 [==============================] - 0s - loss: 0.5813 - batch_accuracy: 1.0000 - val_loss: 9.3978 - val_batch_accuracy: 0.8333\n",
      "Epoch 80/200\n",
      "3/3 [==============================] - ETA: 0s - loss: 0.5448 - batch_accuracy: 1.00 - 0s - loss: 0.5490 - batch_accuracy: 1.0000 - val_loss: 9.4097 - val_batch_accuracy: 0.8333\n",
      "Epoch 81/200\n",
      "3/3 [==============================] - 0s - loss: 0.5294 - batch_accuracy: 1.0000 - val_loss: 9.4629 - val_batch_accuracy: 0.8333\n",
      "Epoch 82/200\n",
      "3/3 [==============================] - 0s - loss: 0.5285 - batch_accuracy: 1.0000 - val_loss: 9.5554 - val_batch_accuracy: 0.8333\n",
      "Epoch 83/200\n",
      "3/3 [==============================] - 0s - loss: 0.5232 - batch_accuracy: 1.0000 - val_loss: 9.6646 - val_batch_accuracy: 0.8333\n",
      "Epoch 84/200\n",
      "3/3 [==============================] - 0s - loss: 0.5045 - batch_accuracy: 1.0000 - val_loss: 9.7731 - val_batch_accuracy: 0.8333\n",
      "Epoch 85/200\n",
      "3/3 [==============================] - 0s - loss: 0.4738 - batch_accuracy: 1.0000 - val_loss: 9.7779 - val_batch_accuracy: 0.8333\n",
      "Epoch 86/200\n",
      "3/3 [==============================] - 0s - loss: 0.4731 - batch_accuracy: 1.0000 - val_loss: 9.8989 - val_batch_accuracy: 0.8333\n",
      "Epoch 87/200\n",
      "3/3 [==============================] - ETA: 0s - loss: 0.4452 - batch_accuracy: 1.00 - 0s - loss: 0.4628 - batch_accuracy: 1.0000 - val_loss: 10.0108 - val_batch_accuracy: 0.8333\n",
      "Epoch 88/200\n",
      "3/3 [==============================] - 0s - loss: 0.4524 - batch_accuracy: 1.0000 - val_loss: 10.0293 - val_batch_accuracy: 0.8333\n",
      "Epoch 89/200\n",
      "3/3 [==============================] - 0s - loss: 0.4454 - batch_accuracy: 1.0000 - val_loss: 10.1493 - val_batch_accuracy: 0.8333\n",
      "Epoch 90/200\n",
      "3/3 [==============================] - 0s - loss: 0.4418 - batch_accuracy: 1.0000 - val_loss: 10.2446 - val_batch_accuracy: 0.8333\n",
      "Epoch 91/200\n",
      "3/3 [==============================] - 0s - loss: 0.4133 - batch_accuracy: 1.0000 - val_loss: 10.3409 - val_batch_accuracy: 0.8333\n",
      "Epoch 92/200\n",
      "3/3 [==============================] - ETA: 0s - loss: 0.4409 - batch_accuracy: 1.00 - 0s - loss: 0.3988 - batch_accuracy: 1.0000 - val_loss: 10.3464 - val_batch_accuracy: 0.8333\n",
      "Epoch 93/200\n",
      "3/3 [==============================] - 0s - loss: 0.3932 - batch_accuracy: 1.0000 - val_loss: 10.4766 - val_batch_accuracy: 0.8333\n",
      "Epoch 94/200\n",
      "3/3 [==============================] - 0s - loss: 0.3899 - batch_accuracy: 1.0000 - val_loss: 10.5824 - val_batch_accuracy: 0.8333\n",
      "Epoch 95/200\n",
      "3/3 [==============================] - 0s - loss: 0.3901 - batch_accuracy: 1.0000 - val_loss: 10.6664 - val_batch_accuracy: 0.8333\n",
      "Epoch 96/200\n",
      "3/3 [==============================] - ETA: 0s - loss: 0.3873 - batch_accuracy: 1.00 - 0s - loss: 0.3500 - batch_accuracy: 1.0000 - val_loss: 10.6621 - val_batch_accuracy: 0.8333\n",
      "Epoch 97/200\n",
      "3/3 [==============================] - ETA: 0s - loss: 0.4169 - batch_accuracy: 1.00 - 0s - loss: 0.3395 - batch_accuracy: 1.0000 - val_loss: 10.7240 - val_batch_accuracy: 0.8333\n",
      "Epoch 98/200\n",
      "3/3 [==============================] - 0s - loss: 0.3480 - batch_accuracy: 1.0000 - val_loss: 10.8662 - val_batch_accuracy: 0.8333\n",
      "Epoch 99/200\n",
      "3/3 [==============================] - 0s - loss: 0.3192 - batch_accuracy: 1.0000 - val_loss: 10.8819 - val_batch_accuracy: 0.8333\n",
      "Epoch 100/200\n",
      "3/3 [==============================] - 0s - loss: 0.3205 - batch_accuracy: 1.0000 - val_loss: 11.0138 - val_batch_accuracy: 0.8333\n",
      "Epoch 101/200\n",
      "3/3 [==============================] - 0s - loss: 0.3107 - batch_accuracy: 1.0000 - val_loss: 11.1205 - val_batch_accuracy: 0.8333\n",
      "Epoch 102/200\n",
      "3/3 [==============================] - 0s - loss: 0.3096 - batch_accuracy: 1.0000 - val_loss: 11.2106 - val_batch_accuracy: 0.8333\n",
      "Epoch 103/200\n",
      "3/3 [==============================] - 0s - loss: 0.2738 - batch_accuracy: 1.0000 - val_loss: 11.1939 - val_batch_accuracy: 0.8333\n",
      "Epoch 104/200\n",
      "3/3 [==============================] - 0s - loss: 0.2665 - batch_accuracy: 1.0000 - val_loss: 11.2438 - val_batch_accuracy: 0.8333\n",
      "Epoch 105/200\n",
      "3/3 [==============================] - 0s - loss: 0.2612 - batch_accuracy: 1.0000 - val_loss: 11.2956 - val_batch_accuracy: 0.8333\n",
      "Epoch 106/200\n",
      "3/3 [==============================] - 0s - loss: 0.2682 - batch_accuracy: 1.0000 - val_loss: 11.4376 - val_batch_accuracy: 0.8333\n",
      "Epoch 107/200\n",
      "3/3 [==============================] - 0s - loss: 0.2418 - batch_accuracy: 1.0000 - val_loss: 11.4490 - val_batch_accuracy: 0.8333\n",
      "Epoch 108/200\n",
      "3/3 [==============================] - 0s - loss: 0.2487 - batch_accuracy: 1.0000 - val_loss: 11.6050 - val_batch_accuracy: 0.8333\n",
      "Epoch 109/200\n",
      "3/3 [==============================] - 0s - loss: 0.2319 - batch_accuracy: 1.0000 - val_loss: 11.6997 - val_batch_accuracy: 0.8333\n",
      "Epoch 110/200\n",
      "3/3 [==============================] - 0s - loss: 0.2100 - batch_accuracy: 1.0000 - val_loss: 11.6874 - val_batch_accuracy: 0.8333\n",
      "Epoch 111/200\n"
     ]
    },
    {
     "name": "stdout",
     "output_type": "stream",
     "text": [
      "3/3 [==============================] - 0s - loss: 0.2022 - batch_accuracy: 1.0000 - val_loss: 11.7472 - val_batch_accuracy: 0.8333\n",
      "Epoch 112/200\n",
      "3/3 [==============================] - 0s - loss: 0.2106 - batch_accuracy: 1.0000 - val_loss: 11.9080 - val_batch_accuracy: 0.8333\n",
      "Epoch 113/200\n",
      "3/3 [==============================] - 0s - loss: 0.1891 - batch_accuracy: 1.0000 - val_loss: 11.9171 - val_batch_accuracy: 0.8333\n",
      "Epoch 114/200\n",
      "3/3 [==============================] - 0s - loss: 0.1796 - batch_accuracy: 1.0000 - val_loss: 11.9685 - val_batch_accuracy: 0.8333\n",
      "Epoch 115/200\n",
      "3/3 [==============================] - 0s - loss: 0.1726 - batch_accuracy: 1.0000 - val_loss: 12.0219 - val_batch_accuracy: 0.8333\n",
      "Epoch 116/200\n",
      "3/3 [==============================] - 0s - loss: 0.1808 - batch_accuracy: 1.0000 - val_loss: 12.1751 - val_batch_accuracy: 0.8333\n",
      "Epoch 117/200\n",
      "3/3 [==============================] - 0s - loss: 0.1739 - batch_accuracy: 1.0000 - val_loss: 12.2908 - val_batch_accuracy: 0.8333\n",
      "Epoch 118/200\n",
      "3/3 [==============================] - 0s - loss: 0.1691 - batch_accuracy: 1.0000 - val_loss: 12.3914 - val_batch_accuracy: 0.8333\n",
      "Epoch 119/200\n",
      "3/3 [==============================] - 0s - loss: 0.1497 - batch_accuracy: 1.0000 - val_loss: 12.5054 - val_batch_accuracy: 0.8333\n",
      "Epoch 120/200\n",
      "3/3 [==============================] - 0s - loss: 0.1445 - batch_accuracy: 1.0000 - val_loss: 12.5659 - val_batch_accuracy: 0.8333\n",
      "Epoch 121/200\n",
      "3/3 [==============================] - 0s - loss: 0.1254 - batch_accuracy: 1.0000 - val_loss: 12.5210 - val_batch_accuracy: 0.8333\n",
      "Epoch 122/200\n",
      "3/3 [==============================] - 0s - loss: 0.1281 - batch_accuracy: 1.0000 - val_loss: 12.6695 - val_batch_accuracy: 0.8333\n",
      "Epoch 123/200\n",
      "3/3 [==============================] - ETA: 0s - loss: 0.0805 - batch_accuracy: 1.00 - 0s - loss: 0.1217 - batch_accuracy: 1.0000 - val_loss: 12.7554 - val_batch_accuracy: 0.8333\n",
      "Epoch 124/200\n",
      "3/3 [==============================] - 0s - loss: 0.1153 - batch_accuracy: 1.0000 - val_loss: 12.8467 - val_batch_accuracy: 0.8333\n",
      "Epoch 125/200\n",
      "3/3 [==============================] - 0s - loss: 0.1096 - batch_accuracy: 1.0000 - val_loss: 12.9309 - val_batch_accuracy: 0.8333\n",
      "Epoch 126/200\n",
      "3/3 [==============================] - 0s - loss: 0.1076 - batch_accuracy: 1.0000 - val_loss: 12.9848 - val_batch_accuracy: 0.8333\n",
      "Epoch 127/200\n",
      "3/3 [==============================] - 0s - loss: 0.0959 - batch_accuracy: 1.0000 - val_loss: 13.0570 - val_batch_accuracy: 0.8333\n",
      "Epoch 128/200\n",
      "3/3 [==============================] - 0s - loss: 0.0886 - batch_accuracy: 1.0000 - val_loss: 13.0056 - val_batch_accuracy: 0.8333\n",
      "Epoch 129/200\n",
      "3/3 [==============================] - 0s - loss: 0.0879 - batch_accuracy: 1.0000 - val_loss: 13.1475 - val_batch_accuracy: 0.8333\n",
      "Epoch 130/200\n",
      "3/3 [==============================] - 0s - loss: 0.0821 - batch_accuracy: 1.0000 - val_loss: 13.2498 - val_batch_accuracy: 0.8333\n",
      "Epoch 131/200\n",
      "3/3 [==============================] - 0s - loss: 0.0775 - batch_accuracy: 1.0000 - val_loss: 13.3446 - val_batch_accuracy: 0.8333\n",
      "Epoch 132/200\n",
      "3/3 [==============================] - 0s - loss: 0.0732 - batch_accuracy: 1.0000 - val_loss: 13.4092 - val_batch_accuracy: 0.8333\n",
      "Epoch 133/200\n",
      "3/3 [==============================] - 0s - loss: 0.0683 - batch_accuracy: 1.0000 - val_loss: 13.4756 - val_batch_accuracy: 0.8333\n",
      "Epoch 134/200\n",
      "3/3 [==============================] - 0s - loss: 0.0611 - batch_accuracy: 1.0000 - val_loss: 13.4294 - val_batch_accuracy: 0.8333\n",
      "Epoch 135/200\n",
      "3/3 [==============================] - 0s - loss: 0.0600 - batch_accuracy: 1.0000 - val_loss: 13.5539 - val_batch_accuracy: 0.8333\n",
      "Epoch 136/200\n",
      "3/3 [==============================] - 0s - loss: 0.0582 - batch_accuracy: 1.0000 - val_loss: 13.6624 - val_batch_accuracy: 0.8333\n",
      "Epoch 137/200\n",
      "3/3 [==============================] - 0s - loss: 0.0495 - batch_accuracy: 1.0000 - val_loss: 13.6187 - val_batch_accuracy: 0.8333\n",
      "Epoch 138/200\n",
      "3/3 [==============================] - 0s - loss: 0.0497 - batch_accuracy: 1.0000 - val_loss: 13.7706 - val_batch_accuracy: 0.8333\n",
      "Epoch 139/200\n",
      "3/3 [==============================] - 0s - loss: 0.0495 - batch_accuracy: 1.0000 - val_loss: 13.8493 - val_batch_accuracy: 0.8333\n",
      "Epoch 140/200\n",
      "3/3 [==============================] - 0s - loss: 0.0473 - batch_accuracy: 1.0000 - val_loss: 13.9164 - val_batch_accuracy: 0.8333\n",
      "Epoch 141/200\n",
      "3/3 [==============================] - 0s - loss: 0.0413 - batch_accuracy: 1.0000 - val_loss: 13.8536 - val_batch_accuracy: 0.8333\n",
      "Epoch 142/200\n",
      "3/3 [==============================] - 0s - loss: 0.0392 - batch_accuracy: 1.0000 - val_loss: 14.0123 - val_batch_accuracy: 0.8333\n",
      "Epoch 143/200\n",
      "3/3 [==============================] - 0s - loss: 0.0386 - batch_accuracy: 1.0000 - val_loss: 14.0957 - val_batch_accuracy: 0.8333\n",
      "Epoch 144/200\n",
      "3/3 [==============================] - 0s - loss: 0.0361 - batch_accuracy: 1.0000 - val_loss: 14.1636 - val_batch_accuracy: 0.8333\n",
      "Epoch 145/200\n",
      "3/3 [==============================] - 0s - loss: 0.0323 - batch_accuracy: 1.0000 - val_loss: 14.2889 - val_batch_accuracy: 0.8333\n",
      "Epoch 146/200\n",
      "3/3 [==============================] - 0s - loss: 0.0295 - batch_accuracy: 1.0000 - val_loss: 14.3652 - val_batch_accuracy: 0.8333\n",
      "Epoch 147/200\n",
      "3/3 [==============================] - 0s - loss: 0.0268 - batch_accuracy: 1.0000 - val_loss: 14.4129 - val_batch_accuracy: 0.8333\n",
      "Epoch 148/200\n",
      "3/3 [==============================] - 0s - loss: 0.0242 - batch_accuracy: 1.0000 - val_loss: 14.3321 - val_batch_accuracy: 0.8333\n",
      "Epoch 149/200\n",
      "3/3 [==============================] - 0s - loss: 0.0231 - batch_accuracy: 1.0000 - val_loss: 14.5002 - val_batch_accuracy: 0.8333\n",
      "Epoch 150/200\n",
      "3/3 [==============================] - 0s - loss: 0.0213 - batch_accuracy: 1.0000 - val_loss: 14.4474 - val_batch_accuracy: 0.8333\n",
      "Epoch 151/200\n",
      "3/3 [==============================] - 0s - loss: 0.0203 - batch_accuracy: 1.0000 - val_loss: 14.5952 - val_batch_accuracy: 0.8333\n",
      "Epoch 152/200\n",
      "3/3 [==============================] - 0s - loss: 0.0183 - batch_accuracy: 1.0000 - val_loss: 14.5865 - val_batch_accuracy: 0.8333\n",
      "Epoch 153/200\n",
      "3/3 [==============================] - 0s - loss: 0.0165 - batch_accuracy: 1.0000 - val_loss: 14.6498 - val_batch_accuracy: 0.8333\n",
      "Epoch 154/200\n",
      "3/3 [==============================] - 0s - loss: 0.0155 - batch_accuracy: 1.0000 - val_loss: 14.7147 - val_batch_accuracy: 0.8333\n",
      "Epoch 155/200\n",
      "3/3 [==============================] - 0s - loss: 0.0144 - batch_accuracy: 1.0000 - val_loss: 14.7752 - val_batch_accuracy: 0.8333\n",
      "Epoch 156/200\n",
      "3/3 [==============================] - 0s - loss: 0.0135 - batch_accuracy: 1.0000 - val_loss: 14.8461 - val_batch_accuracy: 0.8333\n",
      "Epoch 157/200\n",
      "3/3 [==============================] - 0s - loss: 0.0139 - batch_accuracy: 1.0000 - val_loss: 14.9962 - val_batch_accuracy: 0.8333\n",
      "Epoch 158/200\n",
      "3/3 [==============================] - 0s - loss: 0.0136 - batch_accuracy: 1.0000 - val_loss: 15.1074 - val_batch_accuracy: 0.8333\n",
      "Epoch 159/200\n",
      "3/3 [==============================] - 0s - loss: 0.0113 - batch_accuracy: 1.0000 - val_loss: 15.1695 - val_batch_accuracy: 0.8333\n",
      "Epoch 160/200\n",
      "3/3 [==============================] - 0s - loss: 0.0103 - batch_accuracy: 1.0000 - val_loss: 15.2826 - val_batch_accuracy: 0.8333\n",
      "Epoch 161/200\n",
      "3/3 [==============================] - 0s - loss: 0.0089 - batch_accuracy: 1.0000 - val_loss: 15.2288 - val_batch_accuracy: 0.8333\n",
      "Epoch 162/200\n",
      "3/3 [==============================] - ETA: 0s - loss: 0.0059 - batch_accuracy: 1.00 - 0s - loss: 0.0085 - batch_accuracy: 1.0000 - val_loss: 15.3970 - val_batch_accuracy: 0.8333\n",
      "Epoch 163/200\n",
      "3/3 [==============================] - 0s - loss: 0.0082 - batch_accuracy: 1.0000 - val_loss: 15.4713 - val_batch_accuracy: 0.8333\n",
      "Epoch 164/200\n",
      "3/3 [==============================] - 0s - loss: 0.0077 - batch_accuracy: 1.0000 - val_loss: 15.5426 - val_batch_accuracy: 0.8333\n",
      "Epoch 165/200\n",
      "3/3 [==============================] - 0s - loss: 0.0070 - batch_accuracy: 1.0000 - val_loss: 15.5942 - val_batch_accuracy: 0.8333\n",
      "Epoch 166/200\n"
     ]
    },
    {
     "name": "stdout",
     "output_type": "stream",
     "text": [
      "3/3 [==============================] - 0s - loss: 0.0061 - batch_accuracy: 1.0000 - val_loss: 15.6874 - val_batch_accuracy: 0.8333\n",
      "Epoch 167/200\n",
      "3/3 [==============================] - 0s - loss: 0.0053 - batch_accuracy: 1.0000 - val_loss: 15.6196 - val_batch_accuracy: 0.8333\n",
      "Epoch 168/200\n",
      "3/3 [==============================] - 0s - loss: 0.0050 - batch_accuracy: 1.0000 - val_loss: 15.7699 - val_batch_accuracy: 0.8333\n",
      "Epoch 169/200\n",
      "3/3 [==============================] - 0s - loss: 0.0048 - batch_accuracy: 1.0000 - val_loss: 15.8747 - val_batch_accuracy: 0.8333\n",
      "Epoch 170/200\n",
      "3/3 [==============================] - 0s - loss: 0.0040 - batch_accuracy: 1.0000 - val_loss: 15.7881 - val_batch_accuracy: 0.8333\n",
      "Epoch 171/200\n",
      "3/3 [==============================] - 0s - loss: 0.0037 - batch_accuracy: 1.0000 - val_loss: 15.8377 - val_batch_accuracy: 0.8333\n",
      "Epoch 172/200\n",
      "3/3 [==============================] - 0s - loss: 0.0036 - batch_accuracy: 1.0000 - val_loss: 16.0083 - val_batch_accuracy: 0.8333\n",
      "Epoch 173/200\n",
      "3/3 [==============================] - ETA: 0s - loss: 0.0043 - batch_accuracy: 1.00 - 0s - loss: 0.0034 - batch_accuracy: 1.0000 - val_loss: 15.9619 - val_batch_accuracy: 0.8333\n",
      "Epoch 174/200\n",
      "3/3 [==============================] - 0s - loss: 0.0031 - batch_accuracy: 1.0000 - val_loss: 16.0631 - val_batch_accuracy: 0.8333\n",
      "Epoch 175/200\n",
      "3/3 [==============================] - 0s - loss: 0.0028 - batch_accuracy: 1.0000 - val_loss: 16.0293 - val_batch_accuracy: 0.8333\n",
      "Epoch 176/200\n",
      "3/3 [==============================] - 0s - loss: 0.0025 - batch_accuracy: 1.0000 - val_loss: 16.0740 - val_batch_accuracy: 0.8333\n",
      "Epoch 177/200\n",
      "3/3 [==============================] - 0s - loss: 0.0024 - batch_accuracy: 1.0000 - val_loss: 16.2611 - val_batch_accuracy: 0.8333\n",
      "Epoch 178/200\n",
      "3/3 [==============================] - 0s - loss: 0.0023 - batch_accuracy: 1.0000 - val_loss: 16.3359 - val_batch_accuracy: 0.8333\n",
      "Epoch 179/200\n",
      "3/3 [==============================] - 0s - loss: 0.0021 - batch_accuracy: 1.0000 - val_loss: 16.3877 - val_batch_accuracy: 0.8333\n",
      "Epoch 180/200\n",
      "3/3 [==============================] - 0s - loss: 0.0018 - batch_accuracy: 1.0000 - val_loss: 16.3162 - val_batch_accuracy: 0.8333\n",
      "Epoch 181/200\n",
      "3/3 [==============================] - 0s - loss: 0.0016 - batch_accuracy: 1.0000 - val_loss: 16.4718 - val_batch_accuracy: 0.8333\n",
      "Epoch 182/200\n",
      "3/3 [==============================] - 0s - loss: 0.0015 - batch_accuracy: 1.0000 - val_loss: 16.5303 - val_batch_accuracy: 0.8333\n",
      "Epoch 183/200\n",
      "3/3 [==============================] - 0s - loss: 0.0014 - batch_accuracy: 1.0000 - val_loss: 16.6170 - val_batch_accuracy: 0.8333\n",
      "Epoch 184/200\n",
      "3/3 [==============================] - 0s - loss: 0.0013 - batch_accuracy: 1.0000 - val_loss: 16.6461 - val_batch_accuracy: 0.8333\n",
      "Epoch 185/200\n",
      "3/3 [==============================] - 0s - loss: 0.0011 - batch_accuracy: 1.0000 - val_loss: 16.5627 - val_batch_accuracy: 0.8333\n",
      "Epoch 186/200\n",
      "3/3 [==============================] - 0s - loss: 0.0010 - batch_accuracy: 1.0000 - val_loss: 16.7374 - val_batch_accuracy: 0.8333\n",
      "Epoch 187/200\n",
      "3/3 [==============================] - 0s - loss: 9.1096e-04 - batch_accuracy: 1.0000 - val_loss: 16.6850 - val_batch_accuracy: 0.8333\n",
      "Epoch 188/200\n",
      "3/3 [==============================] - 0s - loss: 8.2278e-04 - batch_accuracy: 1.0000 - val_loss: 16.7166 - val_batch_accuracy: 0.8333\n",
      "Epoch 189/200\n",
      "3/3 [==============================] - 0s - loss: 7.9469e-04 - batch_accuracy: 1.0000 - val_loss: 16.8726 - val_batch_accuracy: 0.8333\n",
      "Epoch 190/200\n",
      "3/3 [==============================] - 0s - loss: 7.4419e-04 - batch_accuracy: 1.0000 - val_loss: 16.9877 - val_batch_accuracy: 0.8333\n",
      "Epoch 191/200\n",
      "3/3 [==============================] - 0s - loss: 6.5580e-04 - batch_accuracy: 1.0000 - val_loss: 17.0335 - val_batch_accuracy: 0.8333\n",
      "Epoch 192/200\n",
      "3/3 [==============================] - 0s - loss: 5.5899e-04 - batch_accuracy: 1.0000 - val_loss: 16.9225 - val_batch_accuracy: 0.8333\n",
      "Epoch 193/200\n",
      "3/3 [==============================] - 0s - loss: 5.3297e-04 - batch_accuracy: 1.0000 - val_loss: 17.0935 - val_batch_accuracy: 0.8333\n",
      "Epoch 194/200\n",
      "3/3 [==============================] - 0s - loss: 4.8215e-04 - batch_accuracy: 1.0000 - val_loss: 17.2090 - val_batch_accuracy: 0.8333\n",
      "Epoch 195/200\n",
      "3/3 [==============================] - 0s - loss: 4.3795e-04 - batch_accuracy: 1.0000 - val_loss: 17.2883 - val_batch_accuracy: 0.8333\n",
      "Epoch 196/200\n",
      "3/3 [==============================] - 0s - loss: 4.1006e-04 - batch_accuracy: 1.0000 - val_loss: 17.3618 - val_batch_accuracy: 0.8333\n",
      "Epoch 197/200\n",
      "3/3 [==============================] - 0s - loss: 3.6498e-04 - batch_accuracy: 1.0000 - val_loss: 17.3684 - val_batch_accuracy: 0.8333\n",
      "Epoch 198/200\n",
      "3/3 [==============================] - 0s - loss: 3.1696e-04 - batch_accuracy: 1.0000 - val_loss: 17.2537 - val_batch_accuracy: 0.8333\n",
      "Epoch 199/200\n",
      "3/3 [==============================] - 0s - loss: 2.8439e-04 - batch_accuracy: 1.0000 - val_loss: 17.2892 - val_batch_accuracy: 0.8333\n",
      "Epoch 200/200\n",
      "3/3 [==============================] - 0s - loss: 2.6913e-04 - batch_accuracy: 1.0000 - val_loss: 17.4749 - val_batch_accuracy: 0.8333\n"
     ]
    },
    {
     "data": {
      "text/plain": [
       "<keras.callbacks.History at 0x7f5ed50ae410>"
      ]
     },
     "execution_count": 71,
     "metadata": {},
     "output_type": "execute_result"
    }
   ],
   "source": [
    "model.fit(x_train, y_train, \n",
    "          batch_size = bs, verbose = 1, epochs = 200, \n",
    "          validation_data=(x_validation, y_validation))"
   ]
  },
  {
   "cell_type": "markdown",
   "metadata": {
    "collapsed": true
   },
   "source": [
    "\n",
    "# Evaluate the trained model on data it has never seen"
   ]
  },
  {
   "cell_type": "code",
   "execution_count": 73,
   "metadata": {
    "ExecuteTime": {
     "end_time": "2017-08-30T21:16:10.234299Z",
     "start_time": "2017-08-30T21:16:10.229590Z"
    }
   },
   "outputs": [
    {
     "name": "stdout",
     "output_type": "stream",
     "text": [
      "1/1 [==============================] - 0s\n",
      "\n",
      "loss    : 16.6534614563\n",
      "accuracy: 83.3333313465\n",
      "predicted : 100000\n",
      "truth : 100004\n"
     ]
    }
   ],
   "source": [
    "results = model.evaluate(x_test, y_test)\n",
    "print(\"\\nloss    : {}\\naccuracy: {}\".format(results[0], results[1] * 100))\n",
    "\n",
    "output = model.predict(x_test)[0]\n",
    "pred_digits = one_hot_decode_digits_to_str(output)\n",
    "truth_digits = one_hot_decode_digits_to_str(y_test[0])\n",
    "\n",
    "print 'predicted :', pred_digits\n",
    "print 'truth :', truth_digits"
   ]
  },
  {
   "cell_type": "code",
   "execution_count": null,
   "metadata": {
    "collapsed": true
   },
   "outputs": [],
   "source": []
  }
 ],
 "metadata": {
  "kernelspec": {
   "display_name": "Python 2",
   "language": "python",
   "name": "python2"
  },
  "language_info": {
   "codemirror_mode": {
    "name": "ipython",
    "version": 2
   },
   "file_extension": ".py",
   "mimetype": "text/x-python",
   "name": "python",
   "nbconvert_exporter": "python",
   "pygments_lexer": "ipython2",
   "version": "2.7.12"
  }
 },
 "nbformat": 4,
 "nbformat_minor": 2
}
